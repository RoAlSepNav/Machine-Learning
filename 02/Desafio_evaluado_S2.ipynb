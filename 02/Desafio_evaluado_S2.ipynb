{
 "cells": [
  {
   "attachments": {},
   "cell_type": "markdown",
   "metadata": {},
   "source": [
    "# Ejercicio 1: Preparación de ambiente de trabajo"
   ]
  },
  {
   "cell_type": "code",
   "execution_count": 1,
   "metadata": {},
   "outputs": [],
   "source": [
    "import warnings\n",
    "warnings.filterwarnings('ignore')\n",
    "import pandas as pd\n",
    "import numpy as np\n",
    "import matplotlib.pyplot as plt\n",
    "import seaborn as sns\n",
    "sns.set_style(\"darkgrid\")\n",
    "from sklearn.preprocessing import LabelEncoder, StandardScaler, LabelBinarizer\n",
    "from sklearn.model_selection import train_test_split, cross_val_score\n",
    "from sklearn.metrics import classification_report\n",
    "from sklearn.discriminant_analysis import LinearDiscriminantAnalysis, QuadraticDiscriminantAnalysis\n",
    "from imblearn.over_sampling import SMOTE"
   ]
  },
  {
   "cell_type": "code",
   "execution_count": 2,
   "metadata": {},
   "outputs": [],
   "source": [
    "df = pd.read_csv('default_credit.csv').drop(columns='index')"
   ]
  },
  {
   "cell_type": "code",
   "execution_count": 3,
   "metadata": {},
   "outputs": [
    {
     "data": {
      "text/html": [
       "<div>\n",
       "<style scoped>\n",
       "    .dataframe tbody tr th:only-of-type {\n",
       "        vertical-align: middle;\n",
       "    }\n",
       "\n",
       "    .dataframe tbody tr th {\n",
       "        vertical-align: top;\n",
       "    }\n",
       "\n",
       "    .dataframe thead th {\n",
       "        text-align: right;\n",
       "    }\n",
       "</style>\n",
       "<table border=\"1\" class=\"dataframe\">\n",
       "  <thead>\n",
       "    <tr style=\"text-align: right;\">\n",
       "      <th></th>\n",
       "      <th>default</th>\n",
       "      <th>student</th>\n",
       "      <th>balance</th>\n",
       "      <th>income</th>\n",
       "    </tr>\n",
       "  </thead>\n",
       "  <tbody>\n",
       "    <tr>\n",
       "      <th>0</th>\n",
       "      <td>No</td>\n",
       "      <td>No</td>\n",
       "      <td>729.526495</td>\n",
       "      <td>44361.625074</td>\n",
       "    </tr>\n",
       "    <tr>\n",
       "      <th>1</th>\n",
       "      <td>No</td>\n",
       "      <td>Yes</td>\n",
       "      <td>817.180407</td>\n",
       "      <td>12106.134700</td>\n",
       "    </tr>\n",
       "    <tr>\n",
       "      <th>2</th>\n",
       "      <td>No</td>\n",
       "      <td>No</td>\n",
       "      <td>1073.549164</td>\n",
       "      <td>31767.138947</td>\n",
       "    </tr>\n",
       "    <tr>\n",
       "      <th>3</th>\n",
       "      <td>No</td>\n",
       "      <td>No</td>\n",
       "      <td>529.250605</td>\n",
       "      <td>35704.493935</td>\n",
       "    </tr>\n",
       "    <tr>\n",
       "      <th>4</th>\n",
       "      <td>No</td>\n",
       "      <td>No</td>\n",
       "      <td>785.655883</td>\n",
       "      <td>38463.495879</td>\n",
       "    </tr>\n",
       "    <tr>\n",
       "      <th>...</th>\n",
       "      <td>...</td>\n",
       "      <td>...</td>\n",
       "      <td>...</td>\n",
       "      <td>...</td>\n",
       "    </tr>\n",
       "    <tr>\n",
       "      <th>9995</th>\n",
       "      <td>No</td>\n",
       "      <td>No</td>\n",
       "      <td>711.555020</td>\n",
       "      <td>52992.378914</td>\n",
       "    </tr>\n",
       "    <tr>\n",
       "      <th>9996</th>\n",
       "      <td>No</td>\n",
       "      <td>No</td>\n",
       "      <td>757.962918</td>\n",
       "      <td>19660.721768</td>\n",
       "    </tr>\n",
       "    <tr>\n",
       "      <th>9997</th>\n",
       "      <td>No</td>\n",
       "      <td>No</td>\n",
       "      <td>845.411989</td>\n",
       "      <td>58636.156984</td>\n",
       "    </tr>\n",
       "    <tr>\n",
       "      <th>9998</th>\n",
       "      <td>No</td>\n",
       "      <td>No</td>\n",
       "      <td>1569.009053</td>\n",
       "      <td>36669.112365</td>\n",
       "    </tr>\n",
       "    <tr>\n",
       "      <th>9999</th>\n",
       "      <td>No</td>\n",
       "      <td>Yes</td>\n",
       "      <td>200.922183</td>\n",
       "      <td>16862.952321</td>\n",
       "    </tr>\n",
       "  </tbody>\n",
       "</table>\n",
       "<p>10000 rows × 4 columns</p>\n",
       "</div>"
      ],
      "text/plain": [
       "     default student      balance        income\n",
       "0         No      No   729.526495  44361.625074\n",
       "1         No     Yes   817.180407  12106.134700\n",
       "2         No      No  1073.549164  31767.138947\n",
       "3         No      No   529.250605  35704.493935\n",
       "4         No      No   785.655883  38463.495879\n",
       "...      ...     ...          ...           ...\n",
       "9995      No      No   711.555020  52992.378914\n",
       "9996      No      No   757.962918  19660.721768\n",
       "9997      No      No   845.411989  58636.156984\n",
       "9998      No      No  1569.009053  36669.112365\n",
       "9999      No     Yes   200.922183  16862.952321\n",
       "\n",
       "[10000 rows x 4 columns]"
      ]
     },
     "execution_count": 3,
     "metadata": {},
     "output_type": "execute_result"
    }
   ],
   "source": [
    "df"
   ]
  },
  {
   "cell_type": "code",
   "execution_count": 4,
   "metadata": {},
   "outputs": [
    {
     "data": {
      "text/plain": [
       "Index(['default', 'student', 'balance', 'income'], dtype='object')"
      ]
     },
     "execution_count": 4,
     "metadata": {},
     "output_type": "execute_result"
    }
   ],
   "source": [
    "df.columns"
   ]
  },
  {
   "cell_type": "code",
   "execution_count": 5,
   "metadata": {},
   "outputs": [
    {
     "data": {
      "image/png": "[encoded data removed]",
      "text/plain": [
       "<Figure size 1800x900 with 4 Axes>"
      ]
     },
     "metadata": {},
     "output_type": "display_data"
    }
   ],
   "source": [
    "plt.figure(figsize=(18, 9))\n",
    "for index, value in enumerate(df.columns):\n",
    "    plt.subplot(2, 2, index + 1)\n",
    "    sns.histplot(x=df[value], color='teal', stat='count')\n",
    "    plt.xlabel(value, fontsize=14)  \n",
    "    plt.ylabel(\"Frecuencia\", fontsize=14)\n",
    "    \n",
    "plt.tight_layout()"
   ]
  },
  {
   "cell_type": "code",
   "execution_count": 6,
   "metadata": {},
   "outputs": [
    {
     "data": {
      "image/png": "[encoded data removed]",
      "text/plain": [
       "<Figure size 400x400 with 2 Axes>"
      ]
     },
     "metadata": {},
     "output_type": "display_data"
    }
   ],
   "source": [
    "variables = ['balance', 'income']\n",
    "fig, axs = plt.subplots(ncols=len(variables), figsize=(4, 4))\n",
    "for i, var in enumerate(variables):\n",
    "    sns.boxplot(y=df[var], ax=axs[i])\n",
    "    axs[i].set_title(var)\n",
    "plt.tight_layout()"
   ]
  },
  {
   "attachments": {},
   "cell_type": "markdown",
   "metadata": {},
   "source": [
    "    Se observa que el vector objetivo 'default' y la clase 'student' están muy desbalanceadas.\n",
    "    \n",
    "    El desbalance en las clases puede causar problemas al entrenar modelos, ya que algunos pueden tener dificultades para predecir correctamente la clase minoritaria debido a que hay menos datos de entrenamiento disponibles.\n",
    "\n",
    "    Más adelante se realizará un oversampling utilizando SMOTE. Esta técnica de sobremuestreo sintético sirve para equilibrar el conjunto de datos desbalanceado generando nuevas instancias de la clase minoritaria. Esto puede ayudar a mejorar el desempeño de los modelos de aprendizaje en situaciones de clases desbalanceadas.\n",
    "\n",
    "    En el caso de las otras dos clases, se observa que en 'balance' existe una gran cantidad de outliers. En ambos casos hay una gran varianza.\n"
   ]
  },
  {
   "attachments": {},
   "cell_type": "markdown",
   "metadata": {},
   "source": [
    "# Ejercicio 2: Modelo base"
   ]
  },
  {
   "cell_type": "code",
   "execution_count": 7,
   "metadata": {},
   "outputs": [],
   "source": [
    "# instanciamos el objeto\n",
    "lbl = LabelEncoder()\n",
    "\n",
    "# Implementamos el método fit_transform para actualizar y sobreescribir cada columna de atributos\n",
    "df['default'] = lbl.fit_transform(df['default']) # 1 indica yes\n",
    "df['student'] = lbl.fit_transform(df['student']) # 1 indica yes"
   ]
  },
  {
   "cell_type": "code",
   "execution_count": 8,
   "metadata": {},
   "outputs": [
    {
     "data": {
      "text/html": [
       "<div>\n",
       "<style scoped>\n",
       "    .dataframe tbody tr th:only-of-type {\n",
       "        vertical-align: middle;\n",
       "    }\n",
       "\n",
       "    .dataframe tbody tr th {\n",
       "        vertical-align: top;\n",
       "    }\n",
       "\n",
       "    .dataframe thead th {\n",
       "        text-align: right;\n",
       "    }\n",
       "</style>\n",
       "<table border=\"1\" class=\"dataframe\">\n",
       "  <thead>\n",
       "    <tr style=\"text-align: right;\">\n",
       "      <th></th>\n",
       "      <th>default</th>\n",
       "      <th>student</th>\n",
       "      <th>balance</th>\n",
       "      <th>income</th>\n",
       "    </tr>\n",
       "  </thead>\n",
       "  <tbody>\n",
       "    <tr>\n",
       "      <th>0</th>\n",
       "      <td>0</td>\n",
       "      <td>0</td>\n",
       "      <td>729.526495</td>\n",
       "      <td>44361.625074</td>\n",
       "    </tr>\n",
       "    <tr>\n",
       "      <th>1</th>\n",
       "      <td>0</td>\n",
       "      <td>1</td>\n",
       "      <td>817.180407</td>\n",
       "      <td>12106.134700</td>\n",
       "    </tr>\n",
       "    <tr>\n",
       "      <th>2</th>\n",
       "      <td>0</td>\n",
       "      <td>0</td>\n",
       "      <td>1073.549164</td>\n",
       "      <td>31767.138947</td>\n",
       "    </tr>\n",
       "    <tr>\n",
       "      <th>3</th>\n",
       "      <td>0</td>\n",
       "      <td>0</td>\n",
       "      <td>529.250605</td>\n",
       "      <td>35704.493935</td>\n",
       "    </tr>\n",
       "    <tr>\n",
       "      <th>4</th>\n",
       "      <td>0</td>\n",
       "      <td>0</td>\n",
       "      <td>785.655883</td>\n",
       "      <td>38463.495879</td>\n",
       "    </tr>\n",
       "    <tr>\n",
       "      <th>...</th>\n",
       "      <td>...</td>\n",
       "      <td>...</td>\n",
       "      <td>...</td>\n",
       "      <td>...</td>\n",
       "    </tr>\n",
       "    <tr>\n",
       "      <th>9995</th>\n",
       "      <td>0</td>\n",
       "      <td>0</td>\n",
       "      <td>711.555020</td>\n",
       "      <td>52992.378914</td>\n",
       "    </tr>\n",
       "    <tr>\n",
       "      <th>9996</th>\n",
       "      <td>0</td>\n",
       "      <td>0</td>\n",
       "      <td>757.962918</td>\n",
       "      <td>19660.721768</td>\n",
       "    </tr>\n",
       "    <tr>\n",
       "      <th>9997</th>\n",
       "      <td>0</td>\n",
       "      <td>0</td>\n",
       "      <td>845.411989</td>\n",
       "      <td>58636.156984</td>\n",
       "    </tr>\n",
       "    <tr>\n",
       "      <th>9998</th>\n",
       "      <td>0</td>\n",
       "      <td>0</td>\n",
       "      <td>1569.009053</td>\n",
       "      <td>36669.112365</td>\n",
       "    </tr>\n",
       "    <tr>\n",
       "      <th>9999</th>\n",
       "      <td>0</td>\n",
       "      <td>1</td>\n",
       "      <td>200.922183</td>\n",
       "      <td>16862.952321</td>\n",
       "    </tr>\n",
       "  </tbody>\n",
       "</table>\n",
       "<p>10000 rows × 4 columns</p>\n",
       "</div>"
      ],
      "text/plain": [
       "      default  student      balance        income\n",
       "0           0        0   729.526495  44361.625074\n",
       "1           0        1   817.180407  12106.134700\n",
       "2           0        0  1073.549164  31767.138947\n",
       "3           0        0   529.250605  35704.493935\n",
       "4           0        0   785.655883  38463.495879\n",
       "...       ...      ...          ...           ...\n",
       "9995        0        0   711.555020  52992.378914\n",
       "9996        0        0   757.962918  19660.721768\n",
       "9997        0        0   845.411989  58636.156984\n",
       "9998        0        0  1569.009053  36669.112365\n",
       "9999        0        1   200.922183  16862.952321\n",
       "\n",
       "[10000 rows x 4 columns]"
      ]
     },
     "execution_count": 8,
     "metadata": {},
     "output_type": "execute_result"
    }
   ],
   "source": [
    "df"
   ]
  },
  {
   "cell_type": "code",
   "execution_count": 9,
   "metadata": {},
   "outputs": [],
   "source": [
    "X_train_pre, X_test_pre, y_train, y_test = train_test_split(df.drop('default', axis=1), df['default'],\n",
    "                                                                    test_size=.33, random_state=94)"
   ]
  },
  {
   "cell_type": "code",
   "execution_count": 10,
   "metadata": {},
   "outputs": [],
   "source": [
    "scaler = StandardScaler().fit(X_train_pre)\n",
    "X_train = pd.DataFrame(scaler.transform(X_train_pre), columns=X_train_pre.columns)\n",
    "X_test = pd.DataFrame(scaler.transform(X_test_pre), columns=X_test_pre.columns)"
   ]
  },
  {
   "cell_type": "code",
   "execution_count": 11,
   "metadata": {},
   "outputs": [
    {
     "data": {
      "text/plain": [
       "LinearDiscriminantAnalysis()"
      ]
     },
     "execution_count": 11,
     "metadata": {},
     "output_type": "execute_result"
    }
   ],
   "source": [
    "lda_model = LinearDiscriminantAnalysis()\n",
    "lda_model.fit(X_train, y_train)"
   ]
  },
  {
   "attachments": {},
   "cell_type": "markdown",
   "metadata": {},
   "source": [
    "    Métricas de evaluación"
   ]
  },
  {
   "cell_type": "code",
   "execution_count": 12,
   "metadata": {},
   "outputs": [],
   "source": [
    "lda_class_pred = lda_model.predict(X_test) "
   ]
  },
  {
   "cell_type": "code",
   "execution_count": 13,
   "metadata": {},
   "outputs": [
    {
     "name": "stdout",
     "output_type": "stream",
     "text": [
      "              precision    recall  f1-score   support\n",
      "\n",
      "           0       0.98      1.00      0.99      3199\n",
      "           1       0.82      0.28      0.41       101\n",
      "\n",
      "    accuracy                           0.98      3300\n",
      "   macro avg       0.90      0.64      0.70      3300\n",
      "weighted avg       0.97      0.98      0.97      3300\n",
      "\n"
     ]
    }
   ],
   "source": [
    "print(classification_report(y_test, lda_class_pred))"
   ]
  },
  {
   "attachments": {},
   "cell_type": "markdown",
   "metadata": {},
   "source": [
    "    Todos los puntajes para la clase 0 (no morosos) son altos, lo que significa que el modelo predice de manera correcta esta clase.\n",
    "    \n",
    "    El recall para la clase 1 es muy bajo, apenas 28%. Este valor indica que el modelo tiene una gran cantidad de falsos negativos (FN), lo que significa que hay muchas personas morosas que el modelo está pasando por alto.\n",
    "\n",
    "    El valor de f1-score para la clase 1 es de 0.41, lo que indica que el modelo tiene un desempeño bajo en la identificación de personas morosas en comparación con la clase de no morosos. El f1-score es una métrica que combina precision y recall en una sola medida, y es útil para evaluar el equilibrio entre ambas medidas.\n",
    "\n",
    "    En general, el bajo f1-score de la clase de morosos sugiere que el modelo necesita ser mejorado para identificar con mayor precisión a las personas morosas en el conjunto de datos. Si el banco se basa únicamente en esta métrica para tomar decisiones de gestión de riesgos, podría estar subestimando el riesgo crediticio y otorgando crédito a personas que pueden no ser capaces de pagar.\n",
    "\n",
    "    En resumen, el modelo tiene un desempeño sobresaliente en la identificación de personas no morosas, lo que es una buena noticia para el banco en términos de gestión de riesgos crediticios. Sin embargo, el modelo tiene un desempeño mediocre en la identificación de personas morosas, lo que indica que se necesitan mejoras en el modelo para identificar con mayor precisión a las personas que presentan riesgo de no pago."
   ]
  },
  {
   "attachments": {},
   "cell_type": "markdown",
   "metadata": {},
   "source": [
    "# Ejercicio 3: Refactorización 1 - información a priori"
   ]
  },
  {
   "attachments": {},
   "cell_type": "markdown",
   "metadata": {},
   "source": [
    "### Asumamos que hay un 50/50 de morosos y no morosos."
   ]
  },
  {
   "cell_type": "code",
   "execution_count": 14,
   "metadata": {},
   "outputs": [
    {
     "name": "stdout",
     "output_type": "stream",
     "text": [
      "              precision    recall  f1-score   support\n",
      "\n",
      "           0       1.00      0.84      0.91      3199\n",
      "           1       0.15      0.94      0.26       101\n",
      "\n",
      "    accuracy                           0.84      3300\n",
      "   macro avg       0.58      0.89      0.59      3300\n",
      "weighted avg       0.97      0.84      0.89      3300\n",
      "\n"
     ]
    }
   ],
   "source": [
    "lda_model_50_50 = LinearDiscriminantAnalysis(priors=[.5, .5])\n",
    "lda_model_50_50.fit(X_train, y_train)\n",
    "lda_model_50_50_pred = lda_model_50_50.predict(X_test)\n",
    "print(classification_report(y_test, lda_model_50_50_pred))"
   ]
  },
  {
   "cell_type": "markdown",
   "metadata": {},
   "source": [
    "### Asumamos que hay un 60/40 de morosos y no morosos."
   ]
  },
  {
   "cell_type": "code",
   "execution_count": 15,
   "metadata": {},
   "outputs": [
    {
     "name": "stdout",
     "output_type": "stream",
     "text": [
      "              precision    recall  f1-score   support\n",
      "\n",
      "           0       1.00      0.88      0.93      3199\n",
      "           1       0.18      0.88      0.30       101\n",
      "\n",
      "    accuracy                           0.88      3300\n",
      "   macro avg       0.59      0.88      0.62      3300\n",
      "weighted avg       0.97      0.88      0.91      3300\n",
      "\n"
     ]
    }
   ],
   "source": [
    "lda_model_60_40 = LinearDiscriminantAnalysis(priors=[.6, .4])\n",
    "lda_model_60_40.fit(X_train, y_train)\n",
    "lda_model_60_40_pred = lda_model_60_40.predict(X_test)\n",
    "print(classification_report(y_test, lda_model_60_40_pred))"
   ]
  },
  {
   "attachments": {},
   "cell_type": "markdown",
   "metadata": {},
   "source": [
    "    En ambos supuestos, ahora es el valor de precision el que es bajo.\n",
    "    La precisión para la clase 1 (morosos) es baja, con un valor de 0.15 y 0.18 para ambos modelos. Esto indica que de todas las predicciones que el modelo ha hecho para la clase 1, solo el 15% y 18% son verdaderos positivos (personas que realmente son morosos). El resto de las predicciones son falsos positivos, lo que significa que los modelos están identificando erróneamente a muchas personas como morosos cuando en realidad no lo son.\n",
    "\n",
    "    Por lo tanto, se puede concluir que ambos modelos tienen dificultades para identificar correctamente a los morosos en la muestra, y es probable que se necesiten mejoras en los modelos o en los datos de entrada para mejorar su capacidad para identificar correctamente a los morosos."
   ]
  },
  {
   "attachments": {},
   "cell_type": "markdown",
   "metadata": {},
   "source": [
    "# Ejercicio 4: Refactorización 2 - oversampling"
   ]
  },
  {
   "cell_type": "code",
   "execution_count": 16,
   "metadata": {},
   "outputs": [],
   "source": [
    "# from imblearn.over_sampling import SMOTE\n",
    "\n",
    "# Instanciamos la clase\n",
    "oversampler = SMOTE(random_state=94, sampling_strategy='minority')\n",
    "# generamos el oversampling de los datos de entrenamiento\n",
    "X_train_oversamp, y_train_oversamp = oversampler.fit_resample(X_train, y_train)"
   ]
  },
  {
   "cell_type": "code",
   "execution_count": 17,
   "metadata": {},
   "outputs": [
    {
     "name": "stdout",
     "output_type": "stream",
     "text": [
      "              precision    recall  f1-score   support\n",
      "\n",
      "           0       1.00      0.84      0.91      3199\n",
      "           1       0.16      0.94      0.27       101\n",
      "\n",
      "    accuracy                           0.84      3300\n",
      "   macro avg       0.58      0.89      0.59      3300\n",
      "weighted avg       0.97      0.84      0.89      3300\n",
      "\n"
     ]
    }
   ],
   "source": [
    "# Creamos un modelo lda\n",
    "lda_model_smote = LinearDiscriminantAnalysis()\n",
    "\n",
    "# Entrenamos el modelo con los datos de entrenamiento aumentados de forma artificial\n",
    "lda_model_smote.fit(X_train_oversamp, y_train_oversamp)\n",
    "\n",
    "# Evaluamos el desempeño del modelo en los datos de prueba\n",
    "y_hat_smote = lda_model_smote.predict(X_test)\n",
    "print(classification_report(y_test, y_hat_smote))"
   ]
  },
  {
   "cell_type": "code",
   "execution_count": 19,
   "metadata": {},
   "outputs": [
    {
     "data": {
      "text/plain": [
       "(12936, 3)"
      ]
     },
     "execution_count": 19,
     "metadata": {},
     "output_type": "execute_result"
    }
   ],
   "source": [
    "X_train_oversamp.shape"
   ]
  },
  {
   "cell_type": "code",
   "execution_count": 20,
   "metadata": {},
   "outputs": [
    {
     "data": {
      "text/plain": [
       "(12936,)"
      ]
     },
     "execution_count": 20,
     "metadata": {},
     "output_type": "execute_result"
    }
   ],
   "source": [
    "y_train_oversamp.shape"
   ]
  },
  {
   "attachments": {},
   "cell_type": "markdown",
   "metadata": {},
   "source": [
    "    Comparando los resultados antes y después de implementar la técnica de sobremuestreo SMOTE, se puede concluir lo siguiente:\n",
    "\n",
    "    La precisión de la clase no morosa (clase 0) aumentó del 98% al 100%, lo que significa que se identificaron correctamente todos los clientes no morosos. Por otro lado, la precisión de la clase morosa (clase 1) disminuyó significativamente del 82% al 16%, lo que indica que ahora se están clasificando erróneamente la mayoría de los clientes morosos como no morosos.\n",
    "\n",
    "    El recall de la clase morosa (clase 1) mejoró significativamente después de implementar la técnica de sobremuestreo SMOTE, pasando del 28% al 94%. Esto significa que el modelo ahora es mucho mejor para identificar correctamente a los clientes morosos, lo que podría ser muy importante para el banco, ya que identificar correctamente a los clientes morosos puede ayudarles a tomar medidas para reducir el riesgo de incumplimiento de préstamos o créditos, y por lo tanto, reducir las pérdidas financieras.\n",
    "    Sin embargo, este aumento en el recall se produjo a costa de una disminución significativa en la precisión y el F1-score de la misma clase. Por lo tanto, es importante considerar el trade-off entre recall y precisión antes de implementar técnicas como SMOTE.\n",
    "\n",
    "    En general, se puede decir que la implementación de SMOTE logró aumentar el recall de la clase morosa, es decir, identificar mejor a los clientes morosos, pero a costa de una disminución significativa en la precisión y el F1-score de la misma clase. Por lo tanto, antes de implementar SMOTE, es importante considerar si se prefiere tener un modelo más preciso o si es más importante identificar correctamente a los clientes morosos."
   ]
  },
  {
   "attachments": {},
   "cell_type": "markdown",
   "metadata": {},
   "source": [
    "# Ejercicio 5: Refactorización 3 - QDA"
   ]
  },
  {
   "cell_type": "code",
   "execution_count": 21,
   "metadata": {},
   "outputs": [
    {
     "name": "stdout",
     "output_type": "stream",
     "text": [
      "              precision    recall  f1-score   support\n",
      "\n",
      "           0       1.00      0.85      0.92      3199\n",
      "           1       0.17      0.93      0.28       101\n",
      "\n",
      "    accuracy                           0.85      3300\n",
      "   macro avg       0.58      0.89      0.60      3300\n",
      "weighted avg       0.97      0.85      0.90      3300\n",
      "\n"
     ]
    }
   ],
   "source": [
    "# from sklearn.discriminant_analysis import QuadraticDiscriminantAnalysis\n",
    "\n",
    "qda_model = QuadraticDiscriminantAnalysis().fit(X_train_oversamp, y_train_oversamp)\n",
    "qda_class_pred = qda_model.predict(X_test)\n",
    "print(classification_report(y_test, qda_class_pred))"
   ]
  },
  {
   "attachments": {},
   "cell_type": "markdown",
   "metadata": {},
   "source": [
    "    Podemos ver que ambos modelos tienen una precisión muy baja en la clasificación de la clase 1, lo que significa que tienen una alta tasa de falsos positivos para la clase morosa. Esto sugiere que se está clasificando erróneamente una gran cantidad de casos como morosos, cuando en realidad no lo son.\n",
    "\n",
    "    Si comparamos ambos modelos, el primer modelo tiene un mejor desempeño en términos de recall, ya que tiene una puntuación ligeramente más alta que el segundo modelo. Sin embargo, ambos modelos tienen un rendimiento similar en términos de accuracy y f1-score.\n",
    "\n",
    "    En resumen, ambos modelos tienen una buena capacidad predictiva para detectar a los clientes morosos, pero aún es necesario mejorar la precisión para disminuir los falsos positivos.\n"
   ]
  }
 ],
 "metadata": {
  "kernelspec": {
   "display_name": "base",
   "language": "python",
   "name": "python3"
  },
  "language_info": {
   "codemirror_mode": {
    "name": "ipython",
    "version": 3
   },
   "file_extension": ".py",
   "mimetype": "text/x-python",
   "name": "python",
   "nbconvert_exporter": "python",
   "pygments_lexer": "ipython3",
   "version": "3.9.16"
  },
  "orig_nbformat": 4
 },
 "nbformat": 4,
 "nbformat_minor": 2
}
