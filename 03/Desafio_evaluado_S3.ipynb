{
 "cells": [
  {
   "attachments": {},
   "cell_type": "markdown",
   "metadata": {},
   "source": [
    "# Ejercicio 1: Preparar el ambiente de trabajo"
   ]
  },
  {
   "cell_type": "code",
   "execution_count": 1,
   "metadata": {},
   "outputs": [],
   "source": [
    "import warnings\n",
    "warnings.filterwarnings('ignore')\n",
    "import pandas as pd\n",
    "import numpy as np\n",
    "import matplotlib.pyplot as plt\n",
    "import seaborn as sns\n",
    "sns.set_style(\"darkgrid\")\n",
    "import glob\n",
    "import os\n",
    "from sklearn.feature_extraction.text import CountVectorizer\n",
    "from sklearn.model_selection import train_test_split\n",
    "from sklearn.decomposition import LatentDirichletAllocation\n",
    "from sklearn.model_selection import GridSearchCV\n",
    "from sklearn.preprocessing import StandardScaler, LabelEncoder\n",
    "from sklearn.metrics import classification_report\n",
    "from sklearn.mixture import GaussianMixture"
   ]
  },
  {
   "cell_type": "code",
   "execution_count": 2,
   "metadata": {},
   "outputs": [],
   "source": [
    "# Ruta absoluta del directorio actual\n",
    "ruta_absoluta = os.getcwd()\n",
    "\n",
    "# Lista de todos los archivos CSV en el directorio\n",
    "lista_archivos_csv = glob.glob(os.path.join(ruta_absoluta, \"dump\", \"*.csv\"))\n",
    "\n",
    "# Lista de dataFrames, uno por cada archivo csv\n",
    "lista_dataframes = [pd.read_csv(archivo_csv) for archivo_csv in lista_archivos_csv]\n",
    "\n",
    "# Concatenación de dataframes\n",
    "df = pd.concat(lista_dataframes, ignore_index=True).drop('Unnamed: 0', axis=1)\n",
    "\n",
    "# Renombrar columnas\n",
    "df.columns = ['Artist', 'Genre', 'Song', 'Lyrics']"
   ]
  },
  {
   "cell_type": "code",
   "execution_count": 3,
   "metadata": {},
   "outputs": [
    {
     "data": {
      "text/html": [
       "<div>\n",
       "<style scoped>\n",
       "    .dataframe tbody tr th:only-of-type {\n",
       "        vertical-align: middle;\n",
       "    }\n",
       "\n",
       "    .dataframe tbody tr th {\n",
       "        vertical-align: top;\n",
       "    }\n",
       "\n",
       "    .dataframe thead th {\n",
       "        text-align: right;\n",
       "    }\n",
       "</style>\n",
       "<table border=\"1\" class=\"dataframe\">\n",
       "  <thead>\n",
       "    <tr style=\"text-align: right;\">\n",
       "      <th></th>\n",
       "      <th>Artist</th>\n",
       "      <th>Genre</th>\n",
       "      <th>Song</th>\n",
       "      <th>Lyrics</th>\n",
       "    </tr>\n",
       "  </thead>\n",
       "  <tbody>\n",
       "    <tr>\n",
       "      <th>0</th>\n",
       "      <td>Anthrax</td>\n",
       "      <td>metal</td>\n",
       "      <td>Deathrider</td>\n",
       "      <td>Riding hard, high in the saddle \\n Winged stee...</td>\n",
       "    </tr>\n",
       "    <tr>\n",
       "      <th>1</th>\n",
       "      <td>Anthrax</td>\n",
       "      <td>metal</td>\n",
       "      <td>Metal Thrashing Mad</td>\n",
       "      <td>Racing down the road \\n In a street machine of...</td>\n",
       "    </tr>\n",
       "    <tr>\n",
       "      <th>2</th>\n",
       "      <td>Anthrax</td>\n",
       "      <td>metal</td>\n",
       "      <td>I'm Eighteen</td>\n",
       "      <td>Lines form on my face and hands \\n Lines form ...</td>\n",
       "    </tr>\n",
       "  </tbody>\n",
       "</table>\n",
       "</div>"
      ],
      "text/plain": [
       "    Artist  Genre                 Song  \\\n",
       "0  Anthrax  metal           Deathrider   \n",
       "1  Anthrax  metal  Metal Thrashing Mad   \n",
       "2  Anthrax  metal         I'm Eighteen   \n",
       "\n",
       "                                              Lyrics  \n",
       "0  Riding hard, high in the saddle \\n Winged stee...  \n",
       "1  Racing down the road \\n In a street machine of...  \n",
       "2  Lines form on my face and hands \\n Lines form ...  "
      ]
     },
     "execution_count": 3,
     "metadata": {},
     "output_type": "execute_result"
    }
   ],
   "source": [
    "df.head(3)"
   ]
  },
  {
   "cell_type": "code",
   "execution_count": 4,
   "metadata": {},
   "outputs": [
    {
     "data": {
      "text/plain": [
       "(9489, 4)"
      ]
     },
     "execution_count": 4,
     "metadata": {},
     "output_type": "execute_result"
    }
   ],
   "source": [
    "df.shape"
   ]
  },
  {
   "cell_type": "code",
   "execution_count": 5,
   "metadata": {},
   "outputs": [
    {
     "data": {
      "text/plain": [
       "array(['metal', 'hiphop', 'rock', 'pop'], dtype=object)"
      ]
     },
     "execution_count": 5,
     "metadata": {},
     "output_type": "execute_result"
    }
   ],
   "source": [
    "df.Genre.unique()"
   ]
  },
  {
   "attachments": {},
   "cell_type": "markdown",
   "metadata": {},
   "source": [
    "# Ejercicio 2: Matriz de ocurrencias"
   ]
  },
  {
   "cell_type": "code",
   "execution_count": 6,
   "metadata": {},
   "outputs": [],
   "source": [
    "# from sklearn.feature_extraction.text import CountVectorizer\n",
    "\n",
    "# instanciamos un objeto\n",
    "count_vectorizer = CountVectorizer(stop_words='english', max_features = 5000)\n",
    "\n",
    "# Implementamos los pasos fit y transform\n",
    "count_vectorizer_fit_transform = count_vectorizer.fit_transform(df.Lyrics)\n",
    "\n",
    "# Extraemos tokens (palabras)\n",
    "words = count_vectorizer.get_feature_names_out() # ordena en orden alfabético las palabras únicas\n",
    "\n",
    "# extraemos frecuencia\n",
    "words_freq = count_vectorizer_fit_transform.toarray().sum(axis=0)\n",
    "\n",
    "# palabras a dataframe\n",
    "words_freq_df = pd.DataFrame([list(words), list(words_freq)]).T"
   ]
  },
  {
   "cell_type": "code",
   "execution_count": 7,
   "metadata": {},
   "outputs": [],
   "source": [
    "words_freq_df.columns = ['words', 'freq']\n",
    "words_freq_df = words_freq_df.sort_values(by='freq', ascending=False)"
   ]
  },
  {
   "cell_type": "code",
   "execution_count": 8,
   "metadata": {},
   "outputs": [
    {
     "data": {
      "text/html": [
       "<div>\n",
       "<style scoped>\n",
       "    .dataframe tbody tr th:only-of-type {\n",
       "        vertical-align: middle;\n",
       "    }\n",
       "\n",
       "    .dataframe tbody tr th {\n",
       "        vertical-align: top;\n",
       "    }\n",
       "\n",
       "    .dataframe thead th {\n",
       "        text-align: right;\n",
       "    }\n",
       "</style>\n",
       "<table border=\"1\" class=\"dataframe\">\n",
       "  <thead>\n",
       "    <tr style=\"text-align: right;\">\n",
       "      <th></th>\n",
       "      <th>words</th>\n",
       "      <th>freq</th>\n",
       "    </tr>\n",
       "  </thead>\n",
       "  <tbody>\n",
       "    <tr>\n",
       "      <th>2483</th>\n",
       "      <td>like</td>\n",
       "      <td>19629</td>\n",
       "    </tr>\n",
       "    <tr>\n",
       "      <th>1241</th>\n",
       "      <td>don</td>\n",
       "      <td>17398</td>\n",
       "    </tr>\n",
       "    <tr>\n",
       "      <th>2362</th>\n",
       "      <td>know</td>\n",
       "      <td>14962</td>\n",
       "    </tr>\n",
       "    <tr>\n",
       "      <th>1847</th>\n",
       "      <td>got</td>\n",
       "      <td>14171</td>\n",
       "    </tr>\n",
       "    <tr>\n",
       "      <th>2299</th>\n",
       "      <td>just</td>\n",
       "      <td>13978</td>\n",
       "    </tr>\n",
       "    <tr>\n",
       "      <th>...</th>\n",
       "      <td>...</td>\n",
       "      <td>...</td>\n",
       "    </tr>\n",
       "    <tr>\n",
       "      <th>3375</th>\n",
       "      <td>ra</td>\n",
       "      <td>31</td>\n",
       "    </tr>\n",
       "    <tr>\n",
       "      <th>2666</th>\n",
       "      <td>mattress</td>\n",
       "      <td>31</td>\n",
       "    </tr>\n",
       "    <tr>\n",
       "      <th>3796</th>\n",
       "      <td>shakes</td>\n",
       "      <td>31</td>\n",
       "    </tr>\n",
       "    <tr>\n",
       "      <th>2646</th>\n",
       "      <td>martyr</td>\n",
       "      <td>31</td>\n",
       "    </tr>\n",
       "    <tr>\n",
       "      <th>1657</th>\n",
       "      <td>footprints</td>\n",
       "      <td>31</td>\n",
       "    </tr>\n",
       "  </tbody>\n",
       "</table>\n",
       "<p>5000 rows × 2 columns</p>\n",
       "</div>"
      ],
      "text/plain": [
       "           words   freq\n",
       "2483        like  19629\n",
       "1241         don  17398\n",
       "2362        know  14962\n",
       "1847         got  14171\n",
       "2299        just  13978\n",
       "...          ...    ...\n",
       "3375          ra     31\n",
       "2666    mattress     31\n",
       "3796      shakes     31\n",
       "2646      martyr     31\n",
       "1657  footprints     31\n",
       "\n",
       "[5000 rows x 2 columns]"
      ]
     },
     "execution_count": 8,
     "metadata": {},
     "output_type": "execute_result"
    }
   ],
   "source": [
    "words_freq_df"
   ]
  },
  {
   "attachments": {},
   "cell_type": "markdown",
   "metadata": {},
   "source": [
    "# Ejercicio 3: Entrenamiento del Modelo"
   ]
  },
  {
   "cell_type": "code",
   "execution_count": 9,
   "metadata": {},
   "outputs": [],
   "source": [
    "# from sklearn.decomposition import LatentDirichletAllocation\n",
    "# from sklearn.model_selection import GridSearchCV\n",
    "\n",
    "lda = LatentDirichletAllocation(learning_method='online', n_jobs=-1) # learning_method='online' es la ideal para mucho texto\n",
    "grid = {'n_components': [5, 10, 15],\n",
    "        'learning_decay': [0.7, 0.5]}\n",
    "\n",
    "grid_search_lda = GridSearchCV(lda, param_grid=grid)"
   ]
  },
  {
   "cell_type": "code",
   "execution_count": 10,
   "metadata": {},
   "outputs": [
    {
     "data": {
      "text/plain": [
       "GridSearchCV(estimator=LatentDirichletAllocation(learning_method='online',\n",
       "                                                 n_jobs=-1),\n",
       "             param_grid={'learning_decay': [0.7, 0.5],\n",
       "                         'n_components': [5, 10, 15]})"
      ]
     },
     "execution_count": 10,
     "metadata": {},
     "output_type": "execute_result"
    }
   ],
   "source": [
    "grid_search_lda.fit(count_vectorizer_fit_transform)"
   ]
  },
  {
   "cell_type": "code",
   "execution_count": 11,
   "metadata": {},
   "outputs": [
    {
     "name": "stdout",
     "output_type": "stream",
     "text": [
      "Best parameters: {'learning_decay': 0.5, 'n_components': 5}\n",
      "Best score: -1851794.382615023\n"
     ]
    }
   ],
   "source": [
    "print(\"Best parameters:\", grid_search_lda.best_params_)\n",
    "print(\"Best score:\", grid_search_lda.best_score_)"
   ]
  },
  {
   "attachments": {},
   "cell_type": "markdown",
   "metadata": {},
   "source": [
    "# Ejercicio 4 : Inferencia e Identificación de Tópicos"
   ]
  },
  {
   "attachments": {},
   "cell_type": "markdown",
   "metadata": {},
   "source": [
    "    En base a la mejor combinación de hiper parámetros, entrene el modelo con la matriz de atributos de las letras."
   ]
  },
  {
   "cell_type": "code",
   "execution_count": 12,
   "metadata": {},
   "outputs": [
    {
     "data": {
      "text/plain": [
       "LatentDirichletAllocation(learning_decay=0.5, learning_method='online',\n",
       "                          n_components=5, n_jobs=-1)"
      ]
     },
     "execution_count": 12,
     "metadata": {},
     "output_type": "execute_result"
    }
   ],
   "source": [
    "# modelo LDA con los mejores hiperparámetros \n",
    "# (n_components=5, learning_decay=0.5)\n",
    "\n",
    "best_lda = grid_search_lda.best_estimator_\n",
    "best_lda"
   ]
  },
  {
   "cell_type": "code",
   "execution_count": 13,
   "metadata": {},
   "outputs": [
    {
     "data": {
      "text/plain": [
       "array([[  0.20203013,   0.20213566,   0.21091341, ...,   0.20956383,\n",
       "          0.20483178,   0.20168004],\n",
       "       [  7.23776479, 107.8077147 ,  65.38501304, ...,  31.59587918,\n",
       "         28.08602685,  19.52837164],\n",
       "       [  0.20552181,   0.20207828,   0.20836018, ...,  12.1942644 ,\n",
       "          0.20143343,   0.20352087],\n",
       "       [ 20.06154623,   0.20159847,   0.20956892, ...,   0.20973828,\n",
       "          0.20349273,   0.20170537],\n",
       "       [  0.20394691,   0.2030674 ,   0.20492875, ...,   0.20514909,\n",
       "          0.20515333,   0.2020074 ]])"
      ]
     },
     "execution_count": 13,
     "metadata": {},
     "output_type": "execute_result"
    }
   ],
   "source": [
    "best_lda.components_"
   ]
  },
  {
   "cell_type": "code",
   "execution_count": 14,
   "metadata": {},
   "outputs": [
    {
     "data": {
      "text/plain": [
       "5"
      ]
     },
     "execution_count": 14,
     "metadata": {},
     "output_type": "execute_result"
    }
   ],
   "source": [
    "# cantidad de tópicos\n",
    "len(best_lda.components_)"
   ]
  },
  {
   "cell_type": "code",
   "execution_count": 15,
   "metadata": {},
   "outputs": [
    {
     "data": {
      "text/plain": [
       "5000"
      ]
     },
     "execution_count": 15,
     "metadata": {},
     "output_type": "execute_result"
    }
   ],
   "source": [
    "# Cantidad de elementos en el tópico 1, cada tópico tiene 5000 palabras\n",
    "len(best_lda.components_[0])"
   ]
  },
  {
   "cell_type": "code",
   "execution_count": 16,
   "metadata": {},
   "outputs": [
    {
     "data": {
      "text/plain": [
       "array([ 0.20203013,  0.20213566,  0.21091341,  0.20744932,  0.73888366,\n",
       "        1.85878276,  0.75442831, 27.38850387,  0.20457403, 41.27289749,\n",
       "        0.20462627,  0.20444689,  0.21297439,  0.20042079,  0.20133032])"
      ]
     },
     "execution_count": 16,
     "metadata": {},
     "output_type": "execute_result"
    }
   ],
   "source": [
    "best_lda.components_[0][:15]"
   ]
  },
  {
   "cell_type": "code",
   "execution_count": 17,
   "metadata": {},
   "outputs": [
    {
     "name": "stdout",
     "output_type": "stream",
     "text": [
      "tópico: 1\n",
      "oh yeah hey come ooh ah let rock everybody baby got ha dance whoa gonna\n",
      "tópico: 2\n",
      "like got shit ain yo man nigga don fuck em know cause niggas ya just\n",
      "tópico: 3\n",
      "don love know just want say got baby wanna cause need gonna girl make like\n",
      "tópico: 4\n",
      "ll time away ve way life like just day night world heart feel know eyes\n",
      "tópico: 5\n",
      "god die death dead blood life soul war black song future kill hell power moment\n"
     ]
    }
   ],
   "source": [
    "# mediante .components_ podemos extraer una matriz que entrega las distribución de palabras por cada tópico.\n",
    "for topic_id, topic_name in enumerate(best_lda.components_):\n",
    "    # para cada tópico\n",
    "    print(\"tópico: {}\".format(topic_id + 1))\n",
    "    # mediante argsort logramos ordenar los elementos por magnitud.\n",
    "    # para los elementos más relevantes ordenados por argsort, buscamos su correlativo en la matriz dispersa y devolvemos el nombre.\n",
    "    # finalmente concatenamos las palabras\n",
    "    print(\" \".join([count_vectorizer.get_feature_names()[i] for i in topic_name.argsort()[:-15 - 1: -1]]))"
   ]
  },
  {
   "attachments": {},
   "cell_type": "markdown",
   "metadata": {},
   "source": [
    "### Comente a qué tópicos está asociada cada clase inferida."
   ]
  },
  {
   "attachments": {},
   "cell_type": "markdown",
   "metadata": {},
   "source": [
    "    Considerando que para cada tópico aparecen las palabras más influyentes, los géneros correspondientes serían los siguientes:\n",
    "        Tópico 1 : 'rock'\n",
    "        Tópico 2 : 'metal'\n",
    "        Tópico 3 : 'rock'\n",
    "        Tópico 4 : 'rock'\n",
    "        Tópico 5 : 'hiphop'\n",
    "\n",
    "        Para esto se utilizaron las 100 palabras más usadas por cada género, obtenidas en el desafío guiado anterior."
   ]
  },
  {
   "attachments": {},
   "cell_type": "markdown",
   "metadata": {},
   "source": [
    "# Ejercicio 5: Identificación de probabilidades"
   ]
  },
  {
   "cell_type": "code",
   "execution_count": 39,
   "metadata": {},
   "outputs": [],
   "source": [
    "# generamos una transformación de los datos a distribución de tópico porpalabra en el documento\n",
    "fit_best_lda = best_lda.transform(count_vectorizer_fit_transform)\n",
    "\n",
    "# esta transformación la podemos coaccionar a un dataframe de la siguiente manera\n",
    "topics_for_each_doc = pd.DataFrame(np.round(fit_best_lda, 3), index=df['Lyrics'].index)\n",
    "\n",
    "#agregamos identificadores de columna\n",
    "topics_for_each_doc.columns = list(map(lambda x: \"T: {}\".format(x), range(1, best_lda.n_components + 1)))\n",
    "\n",
    "# concatenamos las probabilidades de tópico por documento a nuestra matriz original\n",
    "concatenated_df = pd.concat([df['Lyrics'], topics_for_each_doc], axis=1)\n",
    "\n",
    "# argmax en la matriz de tópicos\n",
    "concatenated_df['highest_topic'] = np.argmax(topics_for_each_doc.values, axis=1) + 1"
   ]
  },
  {
   "cell_type": "code",
   "execution_count": 40,
   "metadata": {},
   "outputs": [
    {
     "data": {
      "text/html": [
       "<div>\n",
       "<style scoped>\n",
       "    .dataframe tbody tr th:only-of-type {\n",
       "        vertical-align: middle;\n",
       "    }\n",
       "\n",
       "    .dataframe tbody tr th {\n",
       "        vertical-align: top;\n",
       "    }\n",
       "\n",
       "    .dataframe thead th {\n",
       "        text-align: right;\n",
       "    }\n",
       "</style>\n",
       "<table border=\"1\" class=\"dataframe\">\n",
       "  <thead>\n",
       "    <tr style=\"text-align: right;\">\n",
       "      <th></th>\n",
       "      <th>T: 1</th>\n",
       "      <th>T: 2</th>\n",
       "      <th>T: 3</th>\n",
       "      <th>T: 4</th>\n",
       "      <th>T: 5</th>\n",
       "    </tr>\n",
       "  </thead>\n",
       "  <tbody>\n",
       "    <tr>\n",
       "      <th>0</th>\n",
       "      <td>0.006</td>\n",
       "      <td>0.006</td>\n",
       "      <td>0.006</td>\n",
       "      <td>0.497</td>\n",
       "      <td>0.486</td>\n",
       "    </tr>\n",
       "    <tr>\n",
       "      <th>1</th>\n",
       "      <td>0.159</td>\n",
       "      <td>0.151</td>\n",
       "      <td>0.005</td>\n",
       "      <td>0.319</td>\n",
       "      <td>0.365</td>\n",
       "    </tr>\n",
       "    <tr>\n",
       "      <th>2</th>\n",
       "      <td>0.072</td>\n",
       "      <td>0.510</td>\n",
       "      <td>0.242</td>\n",
       "      <td>0.141</td>\n",
       "      <td>0.034</td>\n",
       "    </tr>\n",
       "  </tbody>\n",
       "</table>\n",
       "</div>"
      ],
      "text/plain": [
       "    T: 1   T: 2   T: 3   T: 4   T: 5\n",
       "0  0.006  0.006  0.006  0.497  0.486\n",
       "1  0.159  0.151  0.005  0.319  0.365\n",
       "2  0.072  0.510  0.242  0.141  0.034"
      ]
     },
     "execution_count": 40,
     "metadata": {},
     "output_type": "execute_result"
    }
   ],
   "source": [
    "topics_for_each_doc.head(3)"
   ]
  },
  {
   "cell_type": "code",
   "execution_count": 41,
   "metadata": {},
   "outputs": [
    {
     "data": {
      "text/html": [
       "<div>\n",
       "<style scoped>\n",
       "    .dataframe tbody tr th:only-of-type {\n",
       "        vertical-align: middle;\n",
       "    }\n",
       "\n",
       "    .dataframe tbody tr th {\n",
       "        vertical-align: top;\n",
       "    }\n",
       "\n",
       "    .dataframe thead th {\n",
       "        text-align: right;\n",
       "    }\n",
       "</style>\n",
       "<table border=\"1\" class=\"dataframe\">\n",
       "  <thead>\n",
       "    <tr style=\"text-align: right;\">\n",
       "      <th></th>\n",
       "      <th>Lyrics</th>\n",
       "      <th>T: 1</th>\n",
       "      <th>T: 2</th>\n",
       "      <th>T: 3</th>\n",
       "      <th>T: 4</th>\n",
       "      <th>T: 5</th>\n",
       "      <th>highest_topic</th>\n",
       "    </tr>\n",
       "  </thead>\n",
       "  <tbody>\n",
       "    <tr>\n",
       "      <th>0</th>\n",
       "      <td>Riding hard, high in the saddle \\n Winged stee...</td>\n",
       "      <td>0.006</td>\n",
       "      <td>0.006</td>\n",
       "      <td>0.006</td>\n",
       "      <td>0.497</td>\n",
       "      <td>0.486</td>\n",
       "      <td>4</td>\n",
       "    </tr>\n",
       "    <tr>\n",
       "      <th>1</th>\n",
       "      <td>Racing down the road \\n In a street machine of...</td>\n",
       "      <td>0.159</td>\n",
       "      <td>0.151</td>\n",
       "      <td>0.005</td>\n",
       "      <td>0.319</td>\n",
       "      <td>0.365</td>\n",
       "      <td>5</td>\n",
       "    </tr>\n",
       "    <tr>\n",
       "      <th>2</th>\n",
       "      <td>Lines form on my face and hands \\n Lines form ...</td>\n",
       "      <td>0.072</td>\n",
       "      <td>0.510</td>\n",
       "      <td>0.242</td>\n",
       "      <td>0.141</td>\n",
       "      <td>0.034</td>\n",
       "      <td>2</td>\n",
       "    </tr>\n",
       "  </tbody>\n",
       "</table>\n",
       "</div>"
      ],
      "text/plain": [
       "                                              Lyrics   T: 1   T: 2   T: 3  \\\n",
       "0  Riding hard, high in the saddle \\n Winged stee...  0.006  0.006  0.006   \n",
       "1  Racing down the road \\n In a street machine of...  0.159  0.151  0.005   \n",
       "2  Lines form on my face and hands \\n Lines form ...  0.072  0.510  0.242   \n",
       "\n",
       "    T: 4   T: 5  highest_topic  \n",
       "0  0.497  0.486              4  \n",
       "1  0.319  0.365              5  \n",
       "2  0.141  0.034              2  "
      ]
     },
     "execution_count": 41,
     "metadata": {},
     "output_type": "execute_result"
    }
   ],
   "source": [
    "concatenated_df.head(3)"
   ]
  },
  {
   "attachments": {},
   "cell_type": "markdown",
   "metadata": {},
   "source": [
    "### Genere una matriz de correlaciones entre la probabilidad de tópicos inferidos. Comente brevemente cuales son las principales asociaciones existentes."
   ]
  },
  {
   "cell_type": "code",
   "execution_count": 42,
   "metadata": {},
   "outputs": [
    {
     "data": {
      "text/html": [
       "<div>\n",
       "<style scoped>\n",
       "    .dataframe tbody tr th:only-of-type {\n",
       "        vertical-align: middle;\n",
       "    }\n",
       "\n",
       "    .dataframe tbody tr th {\n",
       "        vertical-align: top;\n",
       "    }\n",
       "\n",
       "    .dataframe thead th {\n",
       "        text-align: right;\n",
       "    }\n",
       "</style>\n",
       "<table border=\"1\" class=\"dataframe\">\n",
       "  <thead>\n",
       "    <tr style=\"text-align: right;\">\n",
       "      <th></th>\n",
       "      <th>T: 1</th>\n",
       "      <th>T: 2</th>\n",
       "      <th>T: 3</th>\n",
       "      <th>T: 4</th>\n",
       "      <th>T: 5</th>\n",
       "    </tr>\n",
       "  </thead>\n",
       "  <tbody>\n",
       "    <tr>\n",
       "      <th>T: 1</th>\n",
       "      <td>1.000000</td>\n",
       "      <td>-0.127950</td>\n",
       "      <td>0.055985</td>\n",
       "      <td>-0.161513</td>\n",
       "      <td>-0.222805</td>\n",
       "    </tr>\n",
       "    <tr>\n",
       "      <th>T: 2</th>\n",
       "      <td>-0.127950</td>\n",
       "      <td>1.000000</td>\n",
       "      <td>-0.291384</td>\n",
       "      <td>-0.520345</td>\n",
       "      <td>-0.306422</td>\n",
       "    </tr>\n",
       "    <tr>\n",
       "      <th>T: 3</th>\n",
       "      <td>0.055985</td>\n",
       "      <td>-0.291384</td>\n",
       "      <td>1.000000</td>\n",
       "      <td>-0.209764</td>\n",
       "      <td>-0.400672</td>\n",
       "    </tr>\n",
       "    <tr>\n",
       "      <th>T: 4</th>\n",
       "      <td>-0.161513</td>\n",
       "      <td>-0.520345</td>\n",
       "      <td>-0.209764</td>\n",
       "      <td>1.000000</td>\n",
       "      <td>-0.148181</td>\n",
       "    </tr>\n",
       "    <tr>\n",
       "      <th>T: 5</th>\n",
       "      <td>-0.222805</td>\n",
       "      <td>-0.306422</td>\n",
       "      <td>-0.400672</td>\n",
       "      <td>-0.148181</td>\n",
       "      <td>1.000000</td>\n",
       "    </tr>\n",
       "  </tbody>\n",
       "</table>\n",
       "</div>"
      ],
      "text/plain": [
       "          T: 1      T: 2      T: 3      T: 4      T: 5\n",
       "T: 1  1.000000 -0.127950  0.055985 -0.161513 -0.222805\n",
       "T: 2 -0.127950  1.000000 -0.291384 -0.520345 -0.306422\n",
       "T: 3  0.055985 -0.291384  1.000000 -0.209764 -0.400672\n",
       "T: 4 -0.161513 -0.520345 -0.209764  1.000000 -0.148181\n",
       "T: 5 -0.222805 -0.306422 -0.400672 -0.148181  1.000000"
      ]
     },
     "execution_count": 42,
     "metadata": {},
     "output_type": "execute_result"
    }
   ],
   "source": [
    "corr_matrix = topics_for_each_doc.corr()\n",
    "corr_matrix"
   ]
  },
  {
   "cell_type": "code",
   "execution_count": 43,
   "metadata": {},
   "outputs": [
    {
     "data": {
      "text/plain": [
       "<AxesSubplot:>"
      ]
     },
     "execution_count": 43,
     "metadata": {},
     "output_type": "execute_result"
    },
    {
     "data": {
      "image/png": "[encoded data removed]",
      "text/plain": [
       "<Figure size 640x480 with 2 Axes>"
      ]
     },
     "metadata": {},
     "output_type": "display_data"
    }
   ],
   "source": [
    "sns.heatmap(corr_matrix, annot=True, cmap='PuBu')"
   ]
  },
  {
   "attachments": {},
   "cell_type": "markdown",
   "metadata": {},
   "source": [
    "    Se observa que la mayoría de las correlaciones son negativas.\n",
    "    Los tópicos que presentan una mayor magnitud en su correlación son los pares T4-T5 y T1-T5. Esto sugiere que los temas tratados en las dos variables son diferentes, lo que concuerda con lo analizado en el ejercicio 4 donde se concluyó que los tópicos T1 y T4 eran del género 'rock' y el tópico T5 era 'hiphop'."
   ]
  },
  {
   "attachments": {},
   "cell_type": "markdown",
   "metadata": {},
   "source": [
    "### Con esta nueva base de datos, identifique las probabilidades de pertenencia para un artista específico."
   ]
  },
  {
   "cell_type": "code",
   "execution_count": 44,
   "metadata": {},
   "outputs": [
    {
     "data": {
      "text/html": [
       "<div>\n",
       "<style scoped>\n",
       "    .dataframe tbody tr th:only-of-type {\n",
       "        vertical-align: middle;\n",
       "    }\n",
       "\n",
       "    .dataframe tbody tr th {\n",
       "        vertical-align: top;\n",
       "    }\n",
       "\n",
       "    .dataframe thead th {\n",
       "        text-align: right;\n",
       "    }\n",
       "</style>\n",
       "<table border=\"1\" class=\"dataframe\">\n",
       "  <thead>\n",
       "    <tr style=\"text-align: right;\">\n",
       "      <th></th>\n",
       "      <th>Artist</th>\n",
       "      <th>Genre</th>\n",
       "      <th>Song</th>\n",
       "      <th>Lyrics</th>\n",
       "      <th>T: 1</th>\n",
       "      <th>T: 2</th>\n",
       "      <th>T: 3</th>\n",
       "      <th>T: 4</th>\n",
       "      <th>T: 5</th>\n",
       "      <th>highest_topic</th>\n",
       "    </tr>\n",
       "  </thead>\n",
       "  <tbody>\n",
       "    <tr>\n",
       "      <th>0</th>\n",
       "      <td>Anthrax</td>\n",
       "      <td>metal</td>\n",
       "      <td>Deathrider</td>\n",
       "      <td>Riding hard, high in the saddle \\n Winged stee...</td>\n",
       "      <td>0.006</td>\n",
       "      <td>0.006</td>\n",
       "      <td>0.006</td>\n",
       "      <td>0.497</td>\n",
       "      <td>0.486</td>\n",
       "      <td>4</td>\n",
       "    </tr>\n",
       "    <tr>\n",
       "      <th>1</th>\n",
       "      <td>Anthrax</td>\n",
       "      <td>metal</td>\n",
       "      <td>Metal Thrashing Mad</td>\n",
       "      <td>Racing down the road \\n In a street machine of...</td>\n",
       "      <td>0.159</td>\n",
       "      <td>0.151</td>\n",
       "      <td>0.005</td>\n",
       "      <td>0.319</td>\n",
       "      <td>0.365</td>\n",
       "      <td>5</td>\n",
       "    </tr>\n",
       "    <tr>\n",
       "      <th>2</th>\n",
       "      <td>Anthrax</td>\n",
       "      <td>metal</td>\n",
       "      <td>I'm Eighteen</td>\n",
       "      <td>Lines form on my face and hands \\n Lines form ...</td>\n",
       "      <td>0.072</td>\n",
       "      <td>0.510</td>\n",
       "      <td>0.242</td>\n",
       "      <td>0.141</td>\n",
       "      <td>0.034</td>\n",
       "      <td>2</td>\n",
       "    </tr>\n",
       "    <tr>\n",
       "      <th>3</th>\n",
       "      <td>Anthrax</td>\n",
       "      <td>metal</td>\n",
       "      <td>Panic</td>\n",
       "      <td>Move it to the front \\n Reaching for the light...</td>\n",
       "      <td>0.319</td>\n",
       "      <td>0.117</td>\n",
       "      <td>0.003</td>\n",
       "      <td>0.383</td>\n",
       "      <td>0.178</td>\n",
       "      <td>4</td>\n",
       "    </tr>\n",
       "    <tr>\n",
       "      <th>4</th>\n",
       "      <td>Anthrax</td>\n",
       "      <td>metal</td>\n",
       "      <td>Subjugator</td>\n",
       "      <td>Out in the streets \\n We're fighting tonight \\...</td>\n",
       "      <td>0.043</td>\n",
       "      <td>0.047</td>\n",
       "      <td>0.003</td>\n",
       "      <td>0.506</td>\n",
       "      <td>0.401</td>\n",
       "      <td>4</td>\n",
       "    </tr>\n",
       "    <tr>\n",
       "      <th>...</th>\n",
       "      <td>...</td>\n",
       "      <td>...</td>\n",
       "      <td>...</td>\n",
       "      <td>...</td>\n",
       "      <td>...</td>\n",
       "      <td>...</td>\n",
       "      <td>...</td>\n",
       "      <td>...</td>\n",
       "      <td>...</td>\n",
       "      <td>...</td>\n",
       "    </tr>\n",
       "    <tr>\n",
       "      <th>9484</th>\n",
       "      <td>Weezer</td>\n",
       "      <td>rock</td>\n",
       "      <td>Thief, You've Taken All That Was Me</td>\n",
       "      <td>Thief, of silent dreams \\n Of golden scenes \\n...</td>\n",
       "      <td>0.003</td>\n",
       "      <td>0.003</td>\n",
       "      <td>0.003</td>\n",
       "      <td>0.988</td>\n",
       "      <td>0.003</td>\n",
       "      <td>4</td>\n",
       "    </tr>\n",
       "    <tr>\n",
       "      <th>9485</th>\n",
       "      <td>Weezer</td>\n",
       "      <td>rock</td>\n",
       "      <td>We Are All In Love</td>\n",
       "      <td>When your out with your friends \\n In your new...</td>\n",
       "      <td>0.136</td>\n",
       "      <td>0.076</td>\n",
       "      <td>0.714</td>\n",
       "      <td>0.072</td>\n",
       "      <td>0.003</td>\n",
       "      <td>3</td>\n",
       "    </tr>\n",
       "    <tr>\n",
       "      <th>9486</th>\n",
       "      <td>Weezer</td>\n",
       "      <td>rock</td>\n",
       "      <td>We Go Together</td>\n",
       "      <td>We go together \\n And that's to stay \\n And in...</td>\n",
       "      <td>0.037</td>\n",
       "      <td>0.005</td>\n",
       "      <td>0.005</td>\n",
       "      <td>0.831</td>\n",
       "      <td>0.122</td>\n",
       "      <td>4</td>\n",
       "    </tr>\n",
       "    <tr>\n",
       "      <th>9487</th>\n",
       "      <td>Weezer</td>\n",
       "      <td>rock</td>\n",
       "      <td>What Is This I Find?</td>\n",
       "      <td>[Jonas]: \\n What is this I find? \\n [Wuan]: \\n...</td>\n",
       "      <td>0.128</td>\n",
       "      <td>0.428</td>\n",
       "      <td>0.222</td>\n",
       "      <td>0.212</td>\n",
       "      <td>0.010</td>\n",
       "      <td>2</td>\n",
       "    </tr>\n",
       "    <tr>\n",
       "      <th>9488</th>\n",
       "      <td>Weezer</td>\n",
       "      <td>rock</td>\n",
       "      <td>Zep Jamb</td>\n",
       "      <td>Alright \\n Say baby \\n Love me \\n Lay your mon...</td>\n",
       "      <td>0.029</td>\n",
       "      <td>0.048</td>\n",
       "      <td>0.911</td>\n",
       "      <td>0.005</td>\n",
       "      <td>0.006</td>\n",
       "      <td>3</td>\n",
       "    </tr>\n",
       "  </tbody>\n",
       "</table>\n",
       "<p>9489 rows × 10 columns</p>\n",
       "</div>"
      ],
      "text/plain": [
       "       Artist  Genre                                 Song  \\\n",
       "0     Anthrax  metal                           Deathrider   \n",
       "1     Anthrax  metal                  Metal Thrashing Mad   \n",
       "2     Anthrax  metal                         I'm Eighteen   \n",
       "3     Anthrax  metal                                Panic   \n",
       "4     Anthrax  metal                           Subjugator   \n",
       "...       ...    ...                                  ...   \n",
       "9484   Weezer   rock  Thief, You've Taken All That Was Me   \n",
       "9485   Weezer   rock                   We Are All In Love   \n",
       "9486   Weezer   rock                       We Go Together   \n",
       "9487   Weezer   rock                 What Is This I Find?   \n",
       "9488   Weezer   rock                             Zep Jamb   \n",
       "\n",
       "                                                 Lyrics   T: 1   T: 2   T: 3  \\\n",
       "0     Riding hard, high in the saddle \\n Winged stee...  0.006  0.006  0.006   \n",
       "1     Racing down the road \\n In a street machine of...  0.159  0.151  0.005   \n",
       "2     Lines form on my face and hands \\n Lines form ...  0.072  0.510  0.242   \n",
       "3     Move it to the front \\n Reaching for the light...  0.319  0.117  0.003   \n",
       "4     Out in the streets \\n We're fighting tonight \\...  0.043  0.047  0.003   \n",
       "...                                                 ...    ...    ...    ...   \n",
       "9484  Thief, of silent dreams \\n Of golden scenes \\n...  0.003  0.003  0.003   \n",
       "9485  When your out with your friends \\n In your new...  0.136  0.076  0.714   \n",
       "9486  We go together \\n And that's to stay \\n And in...  0.037  0.005  0.005   \n",
       "9487  [Jonas]: \\n What is this I find? \\n [Wuan]: \\n...  0.128  0.428  0.222   \n",
       "9488  Alright \\n Say baby \\n Love me \\n Lay your mon...  0.029  0.048  0.911   \n",
       "\n",
       "       T: 4   T: 5  highest_topic  \n",
       "0     0.497  0.486              4  \n",
       "1     0.319  0.365              5  \n",
       "2     0.141  0.034              2  \n",
       "3     0.383  0.178              4  \n",
       "4     0.506  0.401              4  \n",
       "...     ...    ...            ...  \n",
       "9484  0.988  0.003              4  \n",
       "9485  0.072  0.003              3  \n",
       "9486  0.831  0.122              4  \n",
       "9487  0.212  0.010              2  \n",
       "9488  0.005  0.006              3  \n",
       "\n",
       "[9489 rows x 10 columns]"
      ]
     },
     "execution_count": 44,
     "metadata": {},
     "output_type": "execute_result"
    }
   ],
   "source": [
    "df_topics = pd.concat([df[['Artist', 'Genre', 'Song']], concatenated_df], axis=1)\n",
    "df_topics"
   ]
  },
  {
   "cell_type": "code",
   "execution_count": 45,
   "metadata": {},
   "outputs": [],
   "source": [
    "def fetch_mixture(df, artist):\n",
    "    return df[df['Artist'] == artist].loc[:, 'T: 1':'T: 5']"
   ]
  },
  {
   "cell_type": "code",
   "execution_count": 46,
   "metadata": {},
   "outputs": [],
   "source": [
    "sia_df = fetch_mixture(df_topics, 'SIA')"
   ]
  },
  {
   "cell_type": "code",
   "execution_count": 50,
   "metadata": {},
   "outputs": [],
   "source": [
    "sia_df.columns = ['Genero_musical_1', 'Genero_musical_2', 'Genero_musical_3', 'Genero_musical_4', 'Genero_musical_5']"
   ]
  },
  {
   "cell_type": "code",
   "execution_count": 51,
   "metadata": {},
   "outputs": [
    {
     "data": {
      "text/plain": [
       "Genero_musical_2    0.045396\n",
       "Genero_musical_1    0.087523\n",
       "Genero_musical_5    0.088270\n",
       "Genero_musical_3    0.276324\n",
       "Genero_musical_4    0.502676\n",
       "dtype: float64"
      ]
     },
     "execution_count": 51,
     "metadata": {},
     "output_type": "execute_result"
    }
   ],
   "source": [
    "sia_df.apply(np.mean, axis=0).sort_values()"
   ]
  },
  {
   "attachments": {},
   "cell_type": "markdown",
   "metadata": {},
   "source": [
    "### Grafique la distribución de las probabilidades para algún artista en específico"
   ]
  },
  {
   "cell_type": "code",
   "execution_count": 60,
   "metadata": {},
   "outputs": [
    {
     "data": {
      "image/png": "[encoded data removed]",
      "text/plain": [
       "<Figure size 640x480 with 1 Axes>"
      ]
     },
     "metadata": {},
     "output_type": "display_data"
    }
   ],
   "source": [
    "sns.histplot(sia_df.apply(np.mean, axis=0).sort_values(), color='teal')\n",
    "plt.xlabel('Probabilidad')\n",
    "plt.ylabel('Clúster')\n",
    "plt.title(f'Distribución de las probabilidades de pertenencia para artista: SIA')\n",
    "plt.tight_layout()\n",
    "plt.show()"
   ]
  }
 ],
 "metadata": {
  "kernelspec": {
   "display_name": "base",
   "language": "python",
   "name": "python3"
  },
  "language_info": {
   "codemirror_mode": {
    "name": "ipython",
    "version": 3
   },
   "file_extension": ".py",
   "mimetype": "text/x-python",
   "name": "python",
   "nbconvert_exporter": "python",
   "pygments_lexer": "ipython3",
   "version": "3.9.16"
  },
  "orig_nbformat": 4
 },
 "nbformat": 4,
 "nbformat_minor": 2
}
