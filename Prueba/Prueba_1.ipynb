{
 "cells": [
  {
   "attachments": {},
   "cell_type": "markdown",
   "metadata": {},
   "source": [
    "    Este proyecto muestra lo solicitado según los hitos entregados."
   ]
  },
  {
   "attachments": {},
   "cell_type": "markdown",
   "metadata": {},
   "source": [
    "# <span style=\"color:cyan\"> HITO 1"
   ]
  },
  {
   "attachments": {},
   "cell_type": "markdown",
   "metadata": {},
   "source": [
    "### <span style=\"color:#87CEEB\"> El enunciado debe estar clarificado, considerando el tipo de problema a resolver. Se deben considerar las librerías a implementar.\n",
    "\n",
    "    La base de datos con la que se trabajará a lo largo de esta prueba contiene información acerca de la polaridad de sentimientos de Twitter.\n",
    "    Para esto, se solicita alcanzar el mejor desempeño posible para clasificar si un tweet tiene una polaridad positiva o negativa en cuanto al sentimiento que expresa.\n",
    "    Para este caso el vector objetivo corresponde a 'sentiment', el cual dado los valores que presenta será necesario recodificar seguiendo unas indicaciones dadas en el enunciado.\n",
    "    Esta base de datos tiene solo un atributo llamado 'content', que contiene 'tweets', los que se procesarán para realizar las clasificaciones de sentimiento.\n",
    "\n",
    "    Las librerías a implementar se detallan a continuación:"
   ]
  },
  {
   "cell_type": "code",
   "execution_count": 1,
   "metadata": {},
   "outputs": [
    {
     "name": "stdout",
     "output_type": "stream",
     "text": [
      "(CVXPY) May 03 01:26:51 PM: Encountered unexpected exception importing solver GLOP:\n",
      "RuntimeError('Unrecognized new version of ortools (9.6.2534). Expected < 9.5.0.Please open a feature request on cvxpy to enable support for this version.')\n",
      "(CVXPY) May 03 01:26:51 PM: Encountered unexpected exception importing solver PDLP:\n",
      "RuntimeError('Unrecognized new version of ortools (9.6.2534). Expected < 9.5.0.Please open a feature request on cvxpy to enable support for this version.')\n"
     ]
    }
   ],
   "source": [
    "# Ingesta\n",
    "import numpy as np\n",
    "import pandas as pd\n",
    "import scipy.stats as stats\n",
    "\n",
    "# Preprocesamiento\n",
    "import nltk\n",
    "from nltk.corpus import stopwords\n",
    "from nltk.stem import SnowballStemmer, WordNetLemmatizer\n",
    "from sklearn.feature_extraction.text import CountVectorizer\n",
    "import re\n",
    "from optbinning import OptimalBinning\n",
    "from sklearn.preprocessing import StandardScaler\n",
    "from imblearn.over_sampling import SMOTE\n",
    "\n",
    "# Visualización\n",
    "import matplotlib.pyplot as plt\n",
    "import seaborn as sns\n",
    "sns.set_style(\"darkgrid\")\n",
    "\n",
    "# Modelación\n",
    "import statsmodels.formula.api as smf\n",
    "from sklearn.model_selection import train_test_split\n",
    "from sklearn.model_selection import GridSearchCV\n",
    "from sklearn.ensemble import GradientBoostingClassifier\n",
    "from sklearn.tree import DecisionTreeClassifier\n",
    "from sklearn.ensemble import RandomForestClassifier\n",
    "from sklearn.discriminant_analysis import LinearDiscriminantAnalysis\n",
    "from sklearn.naive_bayes import BernoulliNB\n",
    "from sklearn.linear_model import LogisticRegression\n",
    "\n",
    "# Métricas de evaluación\n",
    "from sklearn.metrics import confusion_matrix\n",
    "from sklearn.metrics import accuracy_score\n",
    "from sklearn.metrics import precision_score, recall_score, f1_score\n",
    "from sklearn.metrics import classification_report\n",
    "from sklearn.metrics import roc_curve\n",
    "from sklearn.metrics import roc_auc_score\n",
    "\n",
    "# Otros\n",
    "import pickle\n",
    "#import warnings\n",
    "#warnings.filterwarnings(\"ignore\")"
   ]
  },
  {
   "attachments": {},
   "cell_type": "markdown",
   "metadata": {},
   "source": [
    "    Las librerías se obtuvieron desde 'conda list'\n",
    "    \n",
    "    # Name                    Version                   Build\n",
    "    imbalanced-learn          0.10.1           py39haa95532_0\n",
    "    matplotlib                3.7.1            py39haa95532_1\n",
    "    nltk                      3.7                pyhd3eb1b0_0\n",
    "    numpy                     1.23.5           py39h3b20f71_0\n",
    "    optbinning                0.17.3                   pypi_0\n",
    "    pandas                    1.5.3            py39hf11a4ad_0\n",
    "    pickleshare               0.7.5           pyhd3eb1b0_1003\n",
    "    scikit-learn              1.2.2            py39hd77b12b_0\n",
    "    scipy                     1.10.1           py39h321e85e_0\n",
    "    seaborn                   0.12.2           py39haa95532_0\n",
    "    statsmodels               0.13.5           py39h080aedc_1"
   ]
  },
  {
   "attachments": {},
   "cell_type": "markdown",
   "metadata": {},
   "source": [
    "### <span style=\"color:#87CEEB\"> El tipo de métricas a implementar\n",
    "\n",
    "    Con las métricas se busca analizar el desempeño del modelo en la predicción con nuevas observaciones.\n",
    "    Para esto, existen varias métricas. Las que se utilizarán en este proyecto son:\n",
    "    \n",
    "        - Matriz de confusión: muestra la cantidad de predicciones verdaderas y falsas para cada clase. La matriz de confusión tiene cuatro entradas: verdaderos positivos, falsos positivos, verdaderos negativos y falsos negativos.\n",
    "\n",
    "        - Accuracy: mide la proporción de predicciones correctas en comparación con el total de predicciones. La exactitud puede ser engañosa cuando la distribución de las clases no está equilibrada, ya que un modelo puede tener una alta exactitud al predecir la clase mayoritaria, pero ser muy malo al predecir la clase minoritaria.\n",
    "\n",
    "        - Precision: mide la proporción de verdaderos positivos entre todos los resultados positivos predichos.\n",
    "\n",
    "        - Recall: mide la proporción de verdaderos positivos entre todos los resultados positivos reales.\n",
    "\n",
    "        - F1-Score: combina precisión y recall en una sola métrica, es una media armónica entre ambas.\n",
    "\n",
    "        - Curva ROC: mide la capacidad del modelo para distinguir entre las clases positivas y negativas. El AUC-ROC es útil cuando se necesita comparar modelos en términos de su capacidad para distinguir entre las clases positivas y negativas."
   ]
  },
  {
   "attachments": {},
   "cell_type": "markdown",
   "metadata": {},
   "source": [
    "### <span style=\"color:#87CEEB\"> ¿Qué estrategia de división de muestras?\n",
    "\n",
    "    La división de muestras se refiere a la forma en que los datos se dividen en conjuntos de entrenamiento y prueba. Este es un paso importante en el proceso de entrenamiento y evaluación del modelo. \n",
    "    En este caso se utilizará la función train_test_split que se obtiene importando desde el módulo 'model_selection' de sklearn."
   ]
  },
  {
   "attachments": {},
   "cell_type": "markdown",
   "metadata": {},
   "source": [
    "### <span style=\"color:#87CEEB\"> ¿Qué tipo de preprocesamiento se implementará?\n",
    "\n",
    "    El preprocesamiento de datos es un paso importante en la construcción de modelos de aprendizaje automático. Las técnicas de preprocesamiento se utilizan para limpiar y transformar los datos en un formato adecuado para el entrenamiento del modelo.\n",
    "    Para este problema se analizará la presencia de datos perdidos, estandarización, recodificación de variables categóricas, reducción de dimensionalidad y balanceo de clases en caso de ser necesario.\n",
    "    En el caso del preprocesamiento de texto se implementará el uso de stopwords, lematización y stemming. Todo esto con la finalidad de reducir la cantidad de palabras que no aportan poder predictivo a los modelos."
   ]
  },
  {
   "attachments": {},
   "cell_type": "markdown",
   "metadata": {},
   "source": [
    "### <span style=\"color:#87CEEB\"> Declarar por lo menos cinco modelos con una grilla de hiperparámetros tentativa\n",
    "\n",
    "    Los modelos que se implementarán son:\n",
    "\n",
    "    - Gradient Boosting: Tiene la capacidad de manejar datos no lineales y ruidosos.\n",
    "\n",
    "    - Árboles de decisión: Los árboles de decisión son buenos para problemas con un gran número de características y pueden manejar valores perdidos y valores extremos.\n",
    "\n",
    "    - Random Fores: Este modelo es una mejora de los árboles de decisión. Es capaz de manejar datos no lineales y ruidosos y puede identificar patrones complejos en los datos.\n",
    "\n",
    "    - Linear Discriminant Analysis: LDA es especialmente útil cuando se tienen muchas características y se necesita una forma de reducir la dimensionalidad del conjunto de datos.\n",
    "\n",
    "    - Naive Bayes (Bernoulli): Es un modelo de clasificación probabilístico que se utiliza comúnmente para el procesamiento de texto. Es especialmente útil cuando se tiene un gran número de características, ya que puede manejar datos dispersos y es rápido de entrenar y predecir.\n",
    "\n",
    "    - Regresión logística se utiliza comúnmente para la clasificación binaria y multiclase. Es fácil de interpretar y puede proporcionar una probabilidad de pertenencia a una clase determinada."
   ]
  },
  {
   "attachments": {},
   "cell_type": "markdown",
   "metadata": {},
   "source": [
    "    Las grillas definidas a continuación se utilizarán para una primera iteración de los modelos. A partir de los resultados obtenidos se evaluará realizar un balanceo de clases y modificar las grillas para incrementar el desempeño."
   ]
  },
  {
   "attachments": {},
   "cell_type": "markdown",
   "metadata": {},
   "source": [
    "``` python\n",
    "# Gradient Boosting\n",
    "gb_grid_v1 = {\n",
    "    'n_estimators': [50, 100, 200],\n",
    "    'learning_rate': [0.01, 0.1, 1],\n",
    "    'max_depth': [3, 5, 7]}\n",
    "\n",
    "# Decision Tree Classifier\n",
    "dec_tree_grid_v1 = {\n",
    "    'min_samples_split': [2, 5, 10],\n",
    "    'max_depth': [None, 1, 5, 10],\n",
    "    'min_samples_leaf': [1, 3, 5],\n",
    "    'max_features': ['sqrt', 'log2', None]\n",
    "    }\n",
    "\n",
    "# Random Forest Classifier\n",
    "rf_grid_v1 = {\n",
    "    'n_estimators': [100, 200, 300],\n",
    "    'max_depth': [None, 10, 20, 30],\n",
    "    'max_features': ['sqrt', 'log2', None]\n",
    "}\n",
    "\n",
    "# Linear Discriminant Analysis\n",
    "lda_grid_v1 = {\n",
    "    'priors': [None, [0.1, 0.9], [0.3, 0.7], [0.5, 0.5], [0.7, 0.3], [0.9, 0.1]],\n",
    "    'solver': ['svd'], \n",
    "    'tol': [0.0001, 0.001, 0.01]\n",
    "}\n",
    "\n",
    "# BernoulliNB\n",
    "bernoulli_nb_grid_v1 = {\n",
    "    'alpha': [0.001, 0.01, 0.1, 1.0],\n",
    "    'binarize': [None, 0.1, 0.5, 0.9],\n",
    "    'fit_prior': [True, False]\n",
    "}\n",
    "\n",
    "# Logistic Regression\n",
    "lr_grid_v1 = {    \n",
    "    'C': [0.1, 1, 10, 100],\n",
    "    'fit_intercept': [True, False], \n",
    "    'class_weight': [None, 'balanced'],\n",
    "    'max_iter': [100, 500]\n",
    "}\n",
    "\n",
    "```"
   ]
  },
  {
   "attachments": {},
   "cell_type": "markdown",
   "metadata": {},
   "source": [
    "### <span style=\"color:#87CEEB\"> Se debe analizar el comportamiento del vector objetivo."
   ]
  },
  {
   "cell_type": "code",
   "execution_count": 2,
   "metadata": {},
   "outputs": [
    {
     "data": {
      "text/html": [
       "<div>\n",
       "<style scoped>\n",
       "    .dataframe tbody tr th:only-of-type {\n",
       "        vertical-align: middle;\n",
       "    }\n",
       "\n",
       "    .dataframe tbody tr th {\n",
       "        vertical-align: top;\n",
       "    }\n",
       "\n",
       "    .dataframe thead th {\n",
       "        text-align: right;\n",
       "    }\n",
       "</style>\n",
       "<table border=\"1\" class=\"dataframe\">\n",
       "  <thead>\n",
       "    <tr style=\"text-align: right;\">\n",
       "      <th></th>\n",
       "      <th>content</th>\n",
       "      <th>sentiment</th>\n",
       "    </tr>\n",
       "  </thead>\n",
       "  <tbody>\n",
       "    <tr>\n",
       "      <th>0</th>\n",
       "      <td>Happy Mama's day to all mothers</td>\n",
       "      <td>love</td>\n",
       "    </tr>\n",
       "    <tr>\n",
       "      <th>1</th>\n",
       "      <td>@LysdelTellez I am lost. Please help me find a...</td>\n",
       "      <td>worry</td>\n",
       "    </tr>\n",
       "    <tr>\n",
       "      <th>2</th>\n",
       "      <td>@BoomKatt yes yes I AM, networking whore to th...</td>\n",
       "      <td>happiness</td>\n",
       "    </tr>\n",
       "    <tr>\n",
       "      <th>3</th>\n",
       "      <td>you@snapplynn Wish that would have been your t...</td>\n",
       "      <td>neutral</td>\n",
       "    </tr>\n",
       "    <tr>\n",
       "      <th>4</th>\n",
       "      <td>now i am doing the MicroEconomics project  iha...</td>\n",
       "      <td>worry</td>\n",
       "    </tr>\n",
       "  </tbody>\n",
       "</table>\n",
       "</div>"
      ],
      "text/plain": [
       "                                             content  sentiment\n",
       "0                    Happy Mama's day to all mothers       love\n",
       "1  @LysdelTellez I am lost. Please help me find a...      worry\n",
       "2  @BoomKatt yes yes I AM, networking whore to th...  happiness\n",
       "3  you@snapplynn Wish that would have been your t...    neutral\n",
       "4  now i am doing the MicroEconomics project  iha...      worry"
      ]
     },
     "execution_count": 2,
     "metadata": {},
     "output_type": "execute_result"
    }
   ],
   "source": [
    "df = pd.read_csv('training_tweets.csv').drop('Unnamed: 0', axis=1)\n",
    "df.head()"
   ]
  },
  {
   "cell_type": "code",
   "execution_count": 3,
   "metadata": {},
   "outputs": [
    {
     "data": {
      "text/plain": [
       "count       30000\n",
       "unique         13\n",
       "top       neutral\n",
       "freq         6451\n",
       "Name: sentiment, dtype: object"
      ]
     },
     "execution_count": 3,
     "metadata": {},
     "output_type": "execute_result"
    }
   ],
   "source": [
    "df['sentiment'].describe()"
   ]
  },
  {
   "attachments": {},
   "cell_type": "markdown",
   "metadata": {},
   "source": [
    "    Se observa que el vector objetivo es de tipo categórico y está compuesto de 30000 observaciones. Tiene 13 clases, de las cuales la mayor frecuencia corresponde a 'neutral' con 6451 ocurrencias."
   ]
  },
  {
   "cell_type": "code",
   "execution_count": 4,
   "metadata": {},
   "outputs": [
    {
     "data": {
      "text/plain": [
       "neutral       6451\n",
       "worry         6337\n",
       "happiness     3952\n",
       "sadness       3869\n",
       "love          2908\n",
       "surprise      1619\n",
       "fun           1331\n",
       "relief        1158\n",
       "hate           975\n",
       "empty          617\n",
       "enthusiasm     559\n",
       "boredom        135\n",
       "anger           89\n",
       "Name: sentiment, dtype: int64"
      ]
     },
     "execution_count": 4,
     "metadata": {},
     "output_type": "execute_result"
    }
   ],
   "source": [
    "df['sentiment'].value_counts()"
   ]
  },
  {
   "cell_type": "code",
   "execution_count": 5,
   "metadata": {},
   "outputs": [
    {
     "data": {
      "text/plain": [
       "neutral       21.50\n",
       "worry         21.12\n",
       "happiness     13.17\n",
       "sadness       12.90\n",
       "love           9.69\n",
       "surprise       5.40\n",
       "fun            4.44\n",
       "relief         3.86\n",
       "hate           3.25\n",
       "empty          2.06\n",
       "enthusiasm     1.86\n",
       "boredom        0.45\n",
       "anger          0.30\n",
       "Name: sentiment, dtype: float64"
      ]
     },
     "execution_count": 5,
     "metadata": {},
     "output_type": "execute_result"
    }
   ],
   "source": [
    "(df['sentiment'].value_counts('%')*100).round(2)"
   ]
  },
  {
   "attachments": {},
   "cell_type": "markdown",
   "metadata": {},
   "source": [
    "    Se observa que la clase 'neutral' tiene un porcentaje de apariciones de 21.5%, seguido de 'worry'.\n",
    "    Cabe señalar que al momento de recodificar, la clase 'neutral' tendrá una gran importancia en el equilibrio del vector objetivo.\n",
    "    Lo mostrado anteriormente en porcentajes es posible observarlo de manera gráfica a continuación."
   ]
  },
  {
   "cell_type": "code",
   "execution_count": 6,
   "metadata": {},
   "outputs": [
    {
     "data": {
      "image/png": "[encoded data removed]",
      "text/plain": [
       "<Figure size 800x500 with 1 Axes>"
      ]
     },
     "metadata": {},
     "output_type": "display_data"
    }
   ],
   "source": [
    "plt.figure(figsize=(8, 5))\n",
    "ax = sns.histplot(df['sentiment'], color='darkseagreen')\n",
    "plt.xticks(rotation=45, ha='right')\n",
    "plt.title('Vector objetivo')\n",
    "plt.xlabel('Clases')\n",
    "plt.ylabel('Frecuencia')\n",
    "for i in ax.containers:\n",
    "        ax.bar_label(i, label_type='edge')"
   ]
  },
  {
   "attachments": {},
   "cell_type": "markdown",
   "metadata": {},
   "source": [
    "### <span style=\"color:#87CEEB\"> Se debe reportar el patrón de datos perdidos."
   ]
  },
  {
   "cell_type": "code",
   "execution_count": 7,
   "metadata": {},
   "outputs": [
    {
     "name": "stdout",
     "output_type": "stream",
     "text": [
      "content\n",
      "False    30000\n",
      "Name: content, dtype: int64 \n",
      " ------------------------------\n",
      "sentiment\n",
      "False    30000\n",
      "Name: sentiment, dtype: int64 \n",
      " ------------------------------\n"
     ]
    }
   ],
   "source": [
    "# Datos perdidos en el vector objetivo y columna de atributos\n",
    "for col in df.columns:\n",
    "    print(col)\n",
    "    print(df[col].isna().value_counts(),'\\n','-'*30)"
   ]
  },
  {
   "attachments": {},
   "cell_type": "markdown",
   "metadata": {},
   "source": [
    "    No existen datos perdidos en esta base de datos tanto para el vector objetivo como para la variable content."
   ]
  },
  {
   "attachments": {},
   "cell_type": "markdown",
   "metadata": {},
   "source": [
    "### <span style=\"color:#87CEEB\"> Se debe implementar recodificaciones para el vector objetivo."
   ]
  },
  {
   "cell_type": "code",
   "execution_count": 8,
   "metadata": {},
   "outputs": [],
   "source": [
    "np.random.seed(94)\n",
    "\n",
    "# Diccionario de recodificación\n",
    "recodificacion = {\n",
    "    'worry': 'Negativa',\n",
    "    'happiness': 'Positiva',\n",
    "    'sadness': 'Negativa',\n",
    "    'love': 'Positiva',\n",
    "    'surprise': 'Positiva',\n",
    "    'fun': 'Positiva',\n",
    "    'relief': 'Positiva',\n",
    "    'hate': 'Negativa',\n",
    "    'empty': 'Negativa',\n",
    "    'enthusiasm': 'Positiva',\n",
    "    'boredom': 'Negativa',\n",
    "    'anger': 'Negativa',\n",
    "    'neutral': np.random.choice(['Positiva', 'Negativa'])\n",
    "}\n",
    "# Recodificación de la columna 'sentiment'\n",
    "df['sentiment_recod'] = df['sentiment'].map(recodificacion)\n",
    "\n",
    "df = df.drop('sentiment', axis=1)"
   ]
  },
  {
   "cell_type": "code",
   "execution_count": 9,
   "metadata": {},
   "outputs": [
    {
     "data": {
      "image/png": "[encoded data removed]",
      "text/plain": [
       "<Figure size 500x500 with 1 Axes>"
      ]
     },
     "metadata": {},
     "output_type": "display_data"
    }
   ],
   "source": [
    "plt.figure(figsize=(5, 5))\n",
    "ax = sns.histplot(df['sentiment_recod'], color='darkgoldenrod')\n",
    "plt.xticks(rotation=45, ha='right')\n",
    "plt.title('Vector objetivo recodificado')\n",
    "plt.xlabel('')\n",
    "plt.ylabel('Frecuencia')\n",
    "for i in ax.containers:\n",
    "        ax.bar_label(i, label_type='edge')"
   ]
  },
  {
   "cell_type": "code",
   "execution_count": 10,
   "metadata": {},
   "outputs": [
    {
     "data": {
      "text/plain": [
       "Negativa    18473\n",
       "Positiva    11527\n",
       "Name: sentiment_recod, dtype: int64"
      ]
     },
     "execution_count": 10,
     "metadata": {},
     "output_type": "execute_result"
    }
   ],
   "source": [
    "df['sentiment_recod'].value_counts()"
   ]
  },
  {
   "attachments": {},
   "cell_type": "markdown",
   "metadata": {},
   "source": [
    "    Se observa un desbalance de clases en el vector objetivo. Este puede tener un impacto negativo en la calidad de los modelos que se van a implementar.\n",
    "    Cuando ocurre esto, los modelos tienden a clasificar la mayoría de las muestras como pertenecientes a la clase más frecuente, lo que puede resultar en un sesgo y una precisión más baja para la clase minoritaria."
   ]
  },
  {
   "attachments": {},
   "cell_type": "markdown",
   "metadata": {},
   "source": [
    "# <span style=\"color:cyan\"> HITO 2"
   ]
  },
  {
   "attachments": {},
   "cell_type": "markdown",
   "metadata": {},
   "source": [
    "#### <span style=\"color:#87CEEB\"> Analizar el comportamiento del vector objetivo.\n",
    "    - Realizado en el hito 1"
   ]
  },
  {
   "attachments": {},
   "cell_type": "markdown",
   "metadata": {},
   "source": [
    "#### <span style=\"color:#87CEEB\"> Reportar el patrón de datos perdidos.\n",
    "    - Realizado en el hito 1"
   ]
  },
  {
   "attachments": {},
   "cell_type": "markdown",
   "metadata": {},
   "source": [
    "#### <span style=\"color:#87CEEB\"> Implementar recodificaciones para el vector objetivo.\n",
    "    - Realizado en el hito 1"
   ]
  },
  {
   "attachments": {},
   "cell_type": "markdown",
   "metadata": {},
   "source": [
    "### <span style=\"color:#87CEEB\"> Preprocesamiento de texto"
   ]
  },
  {
   "cell_type": "code",
   "execution_count": 11,
   "metadata": {},
   "outputs": [
    {
     "name": "stderr",
     "output_type": "stream",
     "text": [
      "[nltk_data] Downloading package stopwords to\n",
      "[nltk_data]     C:\\Users\\Rodrigo\\AppData\\Roaming\\nltk_data...\n",
      "[nltk_data]   Package stopwords is already up-to-date!\n",
      "[nltk_data] Downloading package wordnet to\n",
      "[nltk_data]     C:\\Users\\Rodrigo\\AppData\\Roaming\\nltk_data...\n",
      "[nltk_data]   Package wordnet is already up-to-date!\n",
      "[nltk_data] Downloading package omw-1.4 to\n",
      "[nltk_data]     C:\\Users\\Rodrigo\\AppData\\Roaming\\nltk_data...\n",
      "[nltk_data]   Package omw-1.4 is already up-to-date!\n"
     ]
    },
    {
     "data": {
      "text/plain": [
       "True"
      ]
     },
     "execution_count": 11,
     "metadata": {},
     "output_type": "execute_result"
    }
   ],
   "source": [
    "nltk.download('stopwords')\n",
    "nltk.download('wordnet')\n",
    "nltk.download('omw-1.4')"
   ]
  },
  {
   "cell_type": "code",
   "execution_count": 12,
   "metadata": {},
   "outputs": [],
   "source": [
    "# Función para preprocesar el texto\n",
    "def preprocess_text(text):\n",
    "    # Eliminar caracteres especiales, números y convertir a minúsculas\n",
    "    text = re.sub('[^a-zA-Z]', ' ', text)\n",
    "    text = text.lower()\n",
    "\n",
    "    # Tokenizar el texto en palabras individuales\n",
    "    words = text.split()\n",
    "\n",
    "    # stopwords que no tienen aporte en el sentimiento. También se agregaron algunos carácteres.\n",
    "    my_stopwords = ['quot', 'think', 'lol', 'com', 'im', 'amp', 'ca', 'new','na', 'll',\n",
    "                'say', 'twitter', 'watch', 've', 'twitpic', 'lt', 'tweet', 'ok', 'let', \"'s\", '&', ';', '/']\n",
    "    custom_stopwords = set(stopwords.words('english'))\n",
    "    custom_stopwords.update(my_stopwords)\n",
    "    words = [w for w in words if not w in custom_stopwords]\n",
    "\n",
    "    # Lematizar las palabras\n",
    "    lemmatizer = WordNetLemmatizer()\n",
    "    words = [lemmatizer.lemmatize(w) for w in words]\n",
    "\n",
    "    # Realizar stemming de las palabras\n",
    "    stemmer = SnowballStemmer('english')\n",
    "    words = [stemmer.stem(w) for w in words]\n",
    "\n",
    "    # Unir las palabras en una sola cadena de texto\n",
    "    text = ' '.join(words)\n",
    "    return text\n",
    "\n",
    "# Aplicar la función de preprocesamiento a cada tweet\n",
    "df['processed_text'] = df['content'].apply(preprocess_text)"
   ]
  },
  {
   "attachments": {},
   "cell_type": "markdown",
   "metadata": {},
   "source": [
    "    En esta función se preprocesa la columna que contiene los tweets.\n",
    "    Para esto se utilizaron stopwords, lematización y stemming para reducir la cantidad de palabras de la base de datos y mejorar la calidad del análisis de texto.\n",
    "    Las stopwords son palabras comunes que se eliminan porque no aportan información valiosa, la lematización convierte palabras a su forma base y el stemming reduce palabras a su raíz. Todo esto ayuda a hacer el análisis de texto más efectivo."
   ]
  },
  {
   "attachments": {},
   "cell_type": "markdown",
   "metadata": {},
   "source": [
    "### <span style=\"color:#87CEEB\"> Representación de cada palabra como atributo"
   ]
  },
  {
   "cell_type": "code",
   "execution_count": 13,
   "metadata": {},
   "outputs": [],
   "source": [
    "# Instanciar el objeto CountVectorizer\n",
    "vectorizer = CountVectorizer(stop_words='english')\n",
    "# Vectorizar el texto preprocesado\n",
    "vectorized_text = vectorizer.fit_transform(df['processed_text'])\n",
    "# palabras en todo el dataframe df['preprocessed_text']\n",
    "words = vectorizer.get_feature_names_out()\n",
    "# Convertir la matriz dispersa a una matriz densa\n",
    "dense_matrix = vectorized_text.toarray()\n",
    "# dataframe con la matriz densa y el vocabulario como columnas\n",
    "vectorized_data = pd.DataFrame(dense_matrix, columns=words)\n",
    "# frecuencia para cada palabra\n",
    "words_freq = dense_matrix.sum(axis=0)\n",
    "# palabras a dataframe simple\n",
    "words_freq_df = pd.DataFrame([list(words), list(words_freq)]).T\n",
    "# renombro columnas y ordeno de mayor a menor frecuencia\n",
    "words_freq_df.columns = ['words', 'freq']\n",
    "words_freq_df = words_freq_df.sort_values(by='freq', ascending=False)\n",
    "# Combinar el dataframe de palabras con el dataframe original\n",
    "df_procesado = pd.concat([df, vectorized_data], axis=1)\n",
    "# Eliminar la columna de texto procesado\n",
    "df_procesado = df_procesado.drop('processed_text', axis=1)"
   ]
  },
  {
   "cell_type": "code",
   "execution_count": 14,
   "metadata": {},
   "outputs": [
    {
     "data": {
      "text/html": [
       "<div>\n",
       "<style scoped>\n",
       "    .dataframe tbody tr th:only-of-type {\n",
       "        vertical-align: middle;\n",
       "    }\n",
       "\n",
       "    .dataframe tbody tr th {\n",
       "        vertical-align: top;\n",
       "    }\n",
       "\n",
       "    .dataframe thead th {\n",
       "        text-align: right;\n",
       "    }\n",
       "</style>\n",
       "<table border=\"1\" class=\"dataframe\">\n",
       "  <thead>\n",
       "    <tr style=\"text-align: right;\">\n",
       "      <th></th>\n",
       "      <th>content</th>\n",
       "      <th>sentiment_recod</th>\n",
       "      <th>aa</th>\n",
       "      <th>aaa</th>\n",
       "      <th>aaaa</th>\n",
       "      <th>aaaaa</th>\n",
       "      <th>aaaaaaaa</th>\n",
       "      <th>aaaaaaaaaaa</th>\n",
       "      <th>aaaaaaaaaamaz</th>\n",
       "      <th>aaaaaaaafternoon</th>\n",
       "      <th>...</th>\n",
       "      <th>zyot</th>\n",
       "      <th>zywwj</th>\n",
       "      <th>zzerb</th>\n",
       "      <th>zzre</th>\n",
       "      <th>zzwhitejd</th>\n",
       "      <th>zzz</th>\n",
       "      <th>zzzz</th>\n",
       "      <th>zzzzi</th>\n",
       "      <th>zzzzz</th>\n",
       "      <th>zzzzzzz</th>\n",
       "    </tr>\n",
       "  </thead>\n",
       "  <tbody>\n",
       "    <tr>\n",
       "      <th>0</th>\n",
       "      <td>Happy Mama's day to all mothers</td>\n",
       "      <td>Positiva</td>\n",
       "      <td>0</td>\n",
       "      <td>0</td>\n",
       "      <td>0</td>\n",
       "      <td>0</td>\n",
       "      <td>0</td>\n",
       "      <td>0</td>\n",
       "      <td>0</td>\n",
       "      <td>0</td>\n",
       "      <td>...</td>\n",
       "      <td>0</td>\n",
       "      <td>0</td>\n",
       "      <td>0</td>\n",
       "      <td>0</td>\n",
       "      <td>0</td>\n",
       "      <td>0</td>\n",
       "      <td>0</td>\n",
       "      <td>0</td>\n",
       "      <td>0</td>\n",
       "      <td>0</td>\n",
       "    </tr>\n",
       "    <tr>\n",
       "      <th>1</th>\n",
       "      <td>@LysdelTellez I am lost. Please help me find a...</td>\n",
       "      <td>Negativa</td>\n",
       "      <td>0</td>\n",
       "      <td>0</td>\n",
       "      <td>0</td>\n",
       "      <td>0</td>\n",
       "      <td>0</td>\n",
       "      <td>0</td>\n",
       "      <td>0</td>\n",
       "      <td>0</td>\n",
       "      <td>...</td>\n",
       "      <td>0</td>\n",
       "      <td>0</td>\n",
       "      <td>0</td>\n",
       "      <td>0</td>\n",
       "      <td>0</td>\n",
       "      <td>0</td>\n",
       "      <td>0</td>\n",
       "      <td>0</td>\n",
       "      <td>0</td>\n",
       "      <td>0</td>\n",
       "    </tr>\n",
       "    <tr>\n",
       "      <th>2</th>\n",
       "      <td>@BoomKatt yes yes I AM, networking whore to th...</td>\n",
       "      <td>Positiva</td>\n",
       "      <td>0</td>\n",
       "      <td>0</td>\n",
       "      <td>0</td>\n",
       "      <td>0</td>\n",
       "      <td>0</td>\n",
       "      <td>0</td>\n",
       "      <td>0</td>\n",
       "      <td>0</td>\n",
       "      <td>...</td>\n",
       "      <td>0</td>\n",
       "      <td>0</td>\n",
       "      <td>0</td>\n",
       "      <td>0</td>\n",
       "      <td>0</td>\n",
       "      <td>0</td>\n",
       "      <td>0</td>\n",
       "      <td>0</td>\n",
       "      <td>0</td>\n",
       "      <td>0</td>\n",
       "    </tr>\n",
       "    <tr>\n",
       "      <th>3</th>\n",
       "      <td>you@snapplynn Wish that would have been your t...</td>\n",
       "      <td>Negativa</td>\n",
       "      <td>0</td>\n",
       "      <td>0</td>\n",
       "      <td>0</td>\n",
       "      <td>0</td>\n",
       "      <td>0</td>\n",
       "      <td>0</td>\n",
       "      <td>0</td>\n",
       "      <td>0</td>\n",
       "      <td>...</td>\n",
       "      <td>0</td>\n",
       "      <td>0</td>\n",
       "      <td>0</td>\n",
       "      <td>0</td>\n",
       "      <td>0</td>\n",
       "      <td>0</td>\n",
       "      <td>0</td>\n",
       "      <td>0</td>\n",
       "      <td>0</td>\n",
       "      <td>0</td>\n",
       "    </tr>\n",
       "    <tr>\n",
       "      <th>4</th>\n",
       "      <td>now i am doing the MicroEconomics project  iha...</td>\n",
       "      <td>Negativa</td>\n",
       "      <td>0</td>\n",
       "      <td>0</td>\n",
       "      <td>0</td>\n",
       "      <td>0</td>\n",
       "      <td>0</td>\n",
       "      <td>0</td>\n",
       "      <td>0</td>\n",
       "      <td>0</td>\n",
       "      <td>...</td>\n",
       "      <td>0</td>\n",
       "      <td>0</td>\n",
       "      <td>0</td>\n",
       "      <td>0</td>\n",
       "      <td>0</td>\n",
       "      <td>0</td>\n",
       "      <td>0</td>\n",
       "      <td>0</td>\n",
       "      <td>0</td>\n",
       "      <td>0</td>\n",
       "    </tr>\n",
       "  </tbody>\n",
       "</table>\n",
       "<p>5 rows × 31693 columns</p>\n",
       "</div>"
      ],
      "text/plain": [
       "                                             content sentiment_recod  aa  aaa  \\\n",
       "0                    Happy Mama's day to all mothers        Positiva   0    0   \n",
       "1  @LysdelTellez I am lost. Please help me find a...        Negativa   0    0   \n",
       "2  @BoomKatt yes yes I AM, networking whore to th...        Positiva   0    0   \n",
       "3  you@snapplynn Wish that would have been your t...        Negativa   0    0   \n",
       "4  now i am doing the MicroEconomics project  iha...        Negativa   0    0   \n",
       "\n",
       "   aaaa  aaaaa  aaaaaaaa  aaaaaaaaaaa  aaaaaaaaaamaz  aaaaaaaafternoon  ...  \\\n",
       "0     0      0         0            0              0                 0  ...   \n",
       "1     0      0         0            0              0                 0  ...   \n",
       "2     0      0         0            0              0                 0  ...   \n",
       "3     0      0         0            0              0                 0  ...   \n",
       "4     0      0         0            0              0                 0  ...   \n",
       "\n",
       "   zyot  zywwj  zzerb  zzre  zzwhitejd  zzz  zzzz  zzzzi  zzzzz  zzzzzzz  \n",
       "0     0      0      0     0          0    0     0      0      0        0  \n",
       "1     0      0      0     0          0    0     0      0      0        0  \n",
       "2     0      0      0     0          0    0     0      0      0        0  \n",
       "3     0      0      0     0          0    0     0      0      0        0  \n",
       "4     0      0      0     0          0    0     0      0      0        0  \n",
       "\n",
       "[5 rows x 31693 columns]"
      ]
     },
     "execution_count": 14,
     "metadata": {},
     "output_type": "execute_result"
    }
   ],
   "source": [
    "df_procesado.head()"
   ]
  },
  {
   "cell_type": "code",
   "execution_count": 15,
   "metadata": {},
   "outputs": [
    {
     "data": {
      "text/html": [
       "<div>\n",
       "<style scoped>\n",
       "    .dataframe tbody tr th:only-of-type {\n",
       "        vertical-align: middle;\n",
       "    }\n",
       "\n",
       "    .dataframe tbody tr th {\n",
       "        vertical-align: top;\n",
       "    }\n",
       "\n",
       "    .dataframe thead th {\n",
       "        text-align: right;\n",
       "    }\n",
       "</style>\n",
       "<table border=\"1\" class=\"dataframe\">\n",
       "  <thead>\n",
       "    <tr style=\"text-align: right;\">\n",
       "      <th></th>\n",
       "      <th>words</th>\n",
       "      <th>freq</th>\n",
       "    </tr>\n",
       "  </thead>\n",
       "  <tbody>\n",
       "    <tr>\n",
       "      <th>6539</th>\n",
       "      <td>day</td>\n",
       "      <td>2825</td>\n",
       "    </tr>\n",
       "    <tr>\n",
       "      <th>10656</th>\n",
       "      <td>good</td>\n",
       "      <td>1758</td>\n",
       "    </tr>\n",
       "    <tr>\n",
       "      <th>30741</th>\n",
       "      <td>work</td>\n",
       "      <td>1674</td>\n",
       "    </tr>\n",
       "    <tr>\n",
       "      <th>16467</th>\n",
       "      <td>love</td>\n",
       "      <td>1623</td>\n",
       "    </tr>\n",
       "    <tr>\n",
       "      <th>15955</th>\n",
       "      <td>like</td>\n",
       "      <td>1551</td>\n",
       "    </tr>\n",
       "    <tr>\n",
       "      <th>...</th>\n",
       "      <td>...</td>\n",
       "      <td>...</td>\n",
       "    </tr>\n",
       "    <tr>\n",
       "      <th>12801</th>\n",
       "      <td>inlovewithjona</td>\n",
       "      <td>1</td>\n",
       "    </tr>\n",
       "    <tr>\n",
       "      <th>12797</th>\n",
       "      <td>inland</td>\n",
       "      <td>1</td>\n",
       "    </tr>\n",
       "    <tr>\n",
       "      <th>12796</th>\n",
       "      <td>inkswamp</td>\n",
       "      <td>1</td>\n",
       "    </tr>\n",
       "    <tr>\n",
       "      <th>12794</th>\n",
       "      <td>inkrediblenyc</td>\n",
       "      <td>1</td>\n",
       "    </tr>\n",
       "    <tr>\n",
       "      <th>31690</th>\n",
       "      <td>zzzzzzz</td>\n",
       "      <td>1</td>\n",
       "    </tr>\n",
       "  </tbody>\n",
       "</table>\n",
       "<p>31691 rows × 2 columns</p>\n",
       "</div>"
      ],
      "text/plain": [
       "                words  freq\n",
       "6539              day  2825\n",
       "10656            good  1758\n",
       "30741            work  1674\n",
       "16467            love  1623\n",
       "15955            like  1551\n",
       "...               ...   ...\n",
       "12801  inlovewithjona     1\n",
       "12797          inland     1\n",
       "12796        inkswamp     1\n",
       "12794   inkrediblenyc     1\n",
       "31690         zzzzzzz     1\n",
       "\n",
       "[31691 rows x 2 columns]"
      ]
     },
     "execution_count": 15,
     "metadata": {},
     "output_type": "execute_result"
    }
   ],
   "source": [
    "words_freq_df"
   ]
  },
  {
   "attachments": {},
   "cell_type": "markdown",
   "metadata": {},
   "source": [
    "    Identifico palabras con una frecuencia menor o igual a 100, dada la baja relevancia en la totalidad de tweets."
   ]
  },
  {
   "cell_type": "code",
   "execution_count": 16,
   "metadata": {},
   "outputs": [
    {
     "data": {
      "text/html": [
       "<div>\n",
       "<style scoped>\n",
       "    .dataframe tbody tr th:only-of-type {\n",
       "        vertical-align: middle;\n",
       "    }\n",
       "\n",
       "    .dataframe tbody tr th {\n",
       "        vertical-align: top;\n",
       "    }\n",
       "\n",
       "    .dataframe thead th {\n",
       "        text-align: right;\n",
       "    }\n",
       "</style>\n",
       "<table border=\"1\" class=\"dataframe\">\n",
       "  <thead>\n",
       "    <tr style=\"text-align: right;\">\n",
       "      <th></th>\n",
       "      <th>words</th>\n",
       "      <th>freq</th>\n",
       "    </tr>\n",
       "  </thead>\n",
       "  <tbody>\n",
       "    <tr>\n",
       "      <th>11791</th>\n",
       "      <td>high</td>\n",
       "      <td>100</td>\n",
       "    </tr>\n",
       "    <tr>\n",
       "      <th>27948</th>\n",
       "      <td>ticket</td>\n",
       "      <td>100</td>\n",
       "    </tr>\n",
       "    <tr>\n",
       "      <th>8914</th>\n",
       "      <td>facebook</td>\n",
       "      <td>100</td>\n",
       "    </tr>\n",
       "    <tr>\n",
       "      <th>11521</th>\n",
       "      <td>heard</td>\n",
       "      <td>99</td>\n",
       "    </tr>\n",
       "    <tr>\n",
       "      <th>4157</th>\n",
       "      <td>card</td>\n",
       "      <td>99</td>\n",
       "    </tr>\n",
       "    <tr>\n",
       "      <th>...</th>\n",
       "      <td>...</td>\n",
       "      <td>...</td>\n",
       "    </tr>\n",
       "    <tr>\n",
       "      <th>12801</th>\n",
       "      <td>inlovewithjona</td>\n",
       "      <td>1</td>\n",
       "    </tr>\n",
       "    <tr>\n",
       "      <th>12797</th>\n",
       "      <td>inland</td>\n",
       "      <td>1</td>\n",
       "    </tr>\n",
       "    <tr>\n",
       "      <th>12796</th>\n",
       "      <td>inkswamp</td>\n",
       "      <td>1</td>\n",
       "    </tr>\n",
       "    <tr>\n",
       "      <th>12794</th>\n",
       "      <td>inkrediblenyc</td>\n",
       "      <td>1</td>\n",
       "    </tr>\n",
       "    <tr>\n",
       "      <th>31690</th>\n",
       "      <td>zzzzzzz</td>\n",
       "      <td>1</td>\n",
       "    </tr>\n",
       "  </tbody>\n",
       "</table>\n",
       "<p>31375 rows × 2 columns</p>\n",
       "</div>"
      ],
      "text/plain": [
       "                words freq\n",
       "11791            high  100\n",
       "27948          ticket  100\n",
       "8914         facebook  100\n",
       "11521           heard   99\n",
       "4157             card   99\n",
       "...               ...  ...\n",
       "12801  inlovewithjona    1\n",
       "12797          inland    1\n",
       "12796        inkswamp    1\n",
       "12794   inkrediblenyc    1\n",
       "31690         zzzzzzz    1\n",
       "\n",
       "[31375 rows x 2 columns]"
      ]
     },
     "execution_count": 16,
     "metadata": {},
     "output_type": "execute_result"
    }
   ],
   "source": [
    "words_freq_df[words_freq_df['freq'] <= 100]"
   ]
  },
  {
   "cell_type": "code",
   "execution_count": 17,
   "metadata": {},
   "outputs": [
    {
     "data": {
      "text/plain": [
       "(30000, 317)"
      ]
     },
     "execution_count": 17,
     "metadata": {},
     "output_type": "execute_result"
    }
   ],
   "source": [
    "# Guardo aquellas palabras en una lista.\n",
    "lista_freq_menor_100 = ((words_freq_df[words_freq_df['freq'] <= 100])['words']).tolist()\n",
    "\n",
    "# Usando la lista recién creada, elimino del dataframe 'words_freq_df' esas variables para disminuir la dimensionalidad.\n",
    "df_reducido = df_procesado.drop(lista_freq_menor_100, axis=1)\n",
    "\n",
    "df_reducido.shape"
   ]
  },
  {
   "attachments": {},
   "cell_type": "markdown",
   "metadata": {},
   "source": [
    "    Con lo realizado, se redujo la dimensionalidad a 317 columnas, descartando 31375."
   ]
  },
  {
   "attachments": {},
   "cell_type": "markdown",
   "metadata": {},
   "source": [
    "##### <span style=\"color:#87CEEB\"> Implementación de IV"
   ]
  },
  {
   "cell_type": "code",
   "execution_count": 18,
   "metadata": {},
   "outputs": [],
   "source": [
    "# Binarización de vector objetivo\n",
    "df_reducido['sentiment_bin'] = np.where(df_reducido['sentiment_recod'] == 'Positiva', 1, 0)\n",
    "\n",
    "# ELimino 'content' y sentiment_recod' para solo dejar el vector objetivo y los atributos\n",
    "df_reducido = df_reducido.drop(['sentiment_recod'], axis=1)"
   ]
  },
  {
   "cell_type": "code",
   "execution_count": 19,
   "metadata": {},
   "outputs": [
    {
     "data": {
      "text/html": [
       "<div>\n",
       "<style scoped>\n",
       "    .dataframe tbody tr th:only-of-type {\n",
       "        vertical-align: middle;\n",
       "    }\n",
       "\n",
       "    .dataframe tbody tr th {\n",
       "        vertical-align: top;\n",
       "    }\n",
       "\n",
       "    .dataframe thead th {\n",
       "        text-align: right;\n",
       "    }\n",
       "</style>\n",
       "<table border=\"1\" class=\"dataframe\">\n",
       "  <thead>\n",
       "    <tr style=\"text-align: right;\">\n",
       "      <th></th>\n",
       "      <th>abl</th>\n",
       "      <th>actual</th>\n",
       "      <th>ago</th>\n",
       "      <th>alon</th>\n",
       "      <th>alreadi</th>\n",
       "      <th>alway</th>\n",
       "      <th>amaz</th>\n",
       "      <th>anoth</th>\n",
       "      <th>anymor</th>\n",
       "      <th>anyon</th>\n",
       "      <th>...</th>\n",
       "      <th>www</th>\n",
       "      <th>xx</th>\n",
       "      <th>ya</th>\n",
       "      <th>yay</th>\n",
       "      <th>yeah</th>\n",
       "      <th>year</th>\n",
       "      <th>yes</th>\n",
       "      <th>yesterday</th>\n",
       "      <th>youtub</th>\n",
       "      <th>sentiment_bin</th>\n",
       "    </tr>\n",
       "  </thead>\n",
       "  <tbody>\n",
       "    <tr>\n",
       "      <th>0</th>\n",
       "      <td>0</td>\n",
       "      <td>0</td>\n",
       "      <td>0</td>\n",
       "      <td>0</td>\n",
       "      <td>0</td>\n",
       "      <td>0</td>\n",
       "      <td>0</td>\n",
       "      <td>0</td>\n",
       "      <td>0</td>\n",
       "      <td>0</td>\n",
       "      <td>...</td>\n",
       "      <td>0</td>\n",
       "      <td>0</td>\n",
       "      <td>0</td>\n",
       "      <td>0</td>\n",
       "      <td>0</td>\n",
       "      <td>0</td>\n",
       "      <td>0</td>\n",
       "      <td>0</td>\n",
       "      <td>0</td>\n",
       "      <td>1</td>\n",
       "    </tr>\n",
       "    <tr>\n",
       "      <th>1</th>\n",
       "      <td>0</td>\n",
       "      <td>0</td>\n",
       "      <td>0</td>\n",
       "      <td>0</td>\n",
       "      <td>0</td>\n",
       "      <td>0</td>\n",
       "      <td>0</td>\n",
       "      <td>0</td>\n",
       "      <td>0</td>\n",
       "      <td>0</td>\n",
       "      <td>...</td>\n",
       "      <td>0</td>\n",
       "      <td>0</td>\n",
       "      <td>0</td>\n",
       "      <td>0</td>\n",
       "      <td>0</td>\n",
       "      <td>0</td>\n",
       "      <td>0</td>\n",
       "      <td>0</td>\n",
       "      <td>0</td>\n",
       "      <td>0</td>\n",
       "    </tr>\n",
       "    <tr>\n",
       "      <th>2</th>\n",
       "      <td>0</td>\n",
       "      <td>0</td>\n",
       "      <td>0</td>\n",
       "      <td>0</td>\n",
       "      <td>0</td>\n",
       "      <td>0</td>\n",
       "      <td>0</td>\n",
       "      <td>0</td>\n",
       "      <td>0</td>\n",
       "      <td>0</td>\n",
       "      <td>...</td>\n",
       "      <td>0</td>\n",
       "      <td>0</td>\n",
       "      <td>0</td>\n",
       "      <td>0</td>\n",
       "      <td>0</td>\n",
       "      <td>0</td>\n",
       "      <td>2</td>\n",
       "      <td>0</td>\n",
       "      <td>0</td>\n",
       "      <td>1</td>\n",
       "    </tr>\n",
       "    <tr>\n",
       "      <th>3</th>\n",
       "      <td>0</td>\n",
       "      <td>0</td>\n",
       "      <td>0</td>\n",
       "      <td>0</td>\n",
       "      <td>0</td>\n",
       "      <td>0</td>\n",
       "      <td>0</td>\n",
       "      <td>0</td>\n",
       "      <td>0</td>\n",
       "      <td>0</td>\n",
       "      <td>...</td>\n",
       "      <td>0</td>\n",
       "      <td>0</td>\n",
       "      <td>0</td>\n",
       "      <td>0</td>\n",
       "      <td>0</td>\n",
       "      <td>0</td>\n",
       "      <td>0</td>\n",
       "      <td>0</td>\n",
       "      <td>0</td>\n",
       "      <td>0</td>\n",
       "    </tr>\n",
       "    <tr>\n",
       "      <th>4</th>\n",
       "      <td>0</td>\n",
       "      <td>0</td>\n",
       "      <td>0</td>\n",
       "      <td>0</td>\n",
       "      <td>0</td>\n",
       "      <td>0</td>\n",
       "      <td>0</td>\n",
       "      <td>0</td>\n",
       "      <td>0</td>\n",
       "      <td>0</td>\n",
       "      <td>...</td>\n",
       "      <td>0</td>\n",
       "      <td>0</td>\n",
       "      <td>0</td>\n",
       "      <td>0</td>\n",
       "      <td>0</td>\n",
       "      <td>0</td>\n",
       "      <td>0</td>\n",
       "      <td>0</td>\n",
       "      <td>0</td>\n",
       "      <td>0</td>\n",
       "    </tr>\n",
       "  </tbody>\n",
       "</table>\n",
       "<p>5 rows × 317 columns</p>\n",
       "</div>"
      ],
      "text/plain": [
       "   abl  actual  ago  alon  alreadi  alway  amaz  anoth  anymor  anyon  ...  \\\n",
       "0    0       0    0     0        0      0     0      0       0      0  ...   \n",
       "1    0       0    0     0        0      0     0      0       0      0  ...   \n",
       "2    0       0    0     0        0      0     0      0       0      0  ...   \n",
       "3    0       0    0     0        0      0     0      0       0      0  ...   \n",
       "4    0       0    0     0        0      0     0      0       0      0  ...   \n",
       "\n",
       "   www  xx  ya  yay  yeah  year  yes  yesterday  youtub  sentiment_bin  \n",
       "0    0   0   0    0     0     0    0          0       0              1  \n",
       "1    0   0   0    0     0     0    0          0       0              0  \n",
       "2    0   0   0    0     0     0    2          0       0              1  \n",
       "3    0   0   0    0     0     0    0          0       0              0  \n",
       "4    0   0   0    0     0     0    0          0       0              0  \n",
       "\n",
       "[5 rows x 317 columns]"
      ]
     },
     "execution_count": 19,
     "metadata": {},
     "output_type": "execute_result"
    }
   ],
   "source": [
    "df_reducido.head()"
   ]
  },
  {
   "cell_type": "code",
   "execution_count": 20,
   "metadata": {},
   "outputs": [],
   "source": [
    "# Separación de muestras de entrenamiento y pruebas para obtener el IV\n",
    "X_optb = df_reducido.drop('sentiment_bin', axis=1)\n",
    "y = df_reducido['sentiment_bin']\n",
    "\n",
    "rep_seed = 94\n",
    "X_train_optb, X_test_optb, y_train_optb, y_test_optb = train_test_split(X_optb, y,\n",
    "                                                    test_size=.33, \n",
    "                                                    random_state=rep_seed)"
   ]
  },
  {
   "cell_type": "code",
   "execution_count": 21,
   "metadata": {},
   "outputs": [],
   "source": [
    "lista_atributos = df_reducido.iloc[:, :-2].columns"
   ]
  },
  {
   "cell_type": "code",
   "execution_count": 22,
   "metadata": {},
   "outputs": [
    {
     "data": {
      "text/plain": [
       "[['abl', 0.0],\n",
       " ['actual', 0.0],\n",
       " ['ago', 0.0],\n",
       " ['alon', 0.0],\n",
       " ['alreadi', 0.0],\n",
       " ['alway', 0.0],\n",
       " ['amaz', 0.0],\n",
       " ['anoth', 0.0],\n",
       " ['anymor', 0.0],\n",
       " ['anyon', 0.0],\n",
       " ['anyth', 0.0],\n",
       " ['ask', 0.0],\n",
       " ['aw', 0.0],\n",
       " ['away', 0.0],\n",
       " ['awesom', 0.0],\n",
       " ['aww', 0.0],\n",
       " ['awww', 0.0],\n",
       " ['babi', 0.0],\n",
       " ['bad', 0.0],\n",
       " ['beauti', 0.0],\n",
       " ['bed', 0.0],\n",
       " ['believ', 0.0],\n",
       " ['best', 0.0],\n",
       " ['better', 0.0],\n",
       " ['big', 0.0],\n",
       " ['birthday', 0.0],\n",
       " ['bit', 0.0],\n",
       " ['blog', 0.0],\n",
       " ['boo', 0.0],\n",
       " ['book', 0.0],\n",
       " ['bore', 0.0],\n",
       " ['boy', 0.0],\n",
       " ['break', 0.0],\n",
       " ['brother', 0.0],\n",
       " ['busi', 0.0],\n",
       " ['buy', 0.0],\n",
       " ['came', 0.0],\n",
       " ['car', 0.0],\n",
       " ['cat', 0.0],\n",
       " ['caus', 0.0],\n",
       " ['chang', 0.0],\n",
       " ['check', 0.0],\n",
       " ['class', 0.0],\n",
       " ['clean', 0.0],\n",
       " ['close', 0.0],\n",
       " ['coffe', 0.0],\n",
       " ['cold', 0.0],\n",
       " ['come', 0.0],\n",
       " ['comput', 0.0],\n",
       " ['cool', 0.0],\n",
       " ['cri', 0.0],\n",
       " ['cute', 0.0],\n",
       " ['dad', 0.0],\n",
       " ['damn', 0.0],\n",
       " ['day', 0.0508],\n",
       " ['didnt', 0.0],\n",
       " ['die', 0.0],\n",
       " ['dinner', 0.0],\n",
       " ['dog', 0.0],\n",
       " ['dont', 0.0],\n",
       " ['dream', 0.0],\n",
       " ['drink', 0.0],\n",
       " ['drive', 0.0],\n",
       " ['dude', 0.0],\n",
       " ['earli', 0.0],\n",
       " ['eat', 0.0],\n",
       " ['els', 0.0],\n",
       " ['end', 0.0],\n",
       " ['enjoy', 0.0],\n",
       " ['everi', 0.0],\n",
       " ['everyon', 0.0],\n",
       " ['everyth', 0.0],\n",
       " ['exam', 0.0],\n",
       " ['excit', 0.0],\n",
       " ['eye', 0.0],\n",
       " ['face', 0.0],\n",
       " ['fail', 0.0],\n",
       " ['famili', 0.0],\n",
       " ['fan', 0.0],\n",
       " ['far', 0.0],\n",
       " ['feel', 0.0],\n",
       " ['final', 0.0],\n",
       " ['finish', 0.0],\n",
       " ['follow', 0.0],\n",
       " ['food', 0.0],\n",
       " ['forgot', 0.0],\n",
       " ['forward', 0.0],\n",
       " ['free', 0.0],\n",
       " ['friday', 0.0],\n",
       " ['friend', 0.0],\n",
       " ['fuck', 0.0],\n",
       " ['fun', 0.0],\n",
       " ['funni', 0.0],\n",
       " ['game', 0.0],\n",
       " ['girl', 0.0],\n",
       " ['glad', 0.0],\n",
       " ['god', 0.0],\n",
       " ['gone', 0.0],\n",
       " ['gonna', 0.0],\n",
       " ['good', 0.0255],\n",
       " ['goodnight', 0.0],\n",
       " ['got', 0.0],\n",
       " ['gotta', 0.0],\n",
       " ['great', 0.0],\n",
       " ['gt', 0.0],\n",
       " ['guess', 0.0],\n",
       " ['guy', 0.0],\n",
       " ['ha', 0.0],\n",
       " ['haha', 0.0],\n",
       " ['hahaha', 0.0],\n",
       " ['hair', 0.0],\n",
       " ['hang', 0.0],\n",
       " ['happen', 0.0],\n",
       " ['happi', 0.0],\n",
       " ['hard', 0.0],\n",
       " ['hate', 0.0],\n",
       " ['head', 0.0],\n",
       " ['headach', 0.0],\n",
       " ['hear', 0.0],\n",
       " ['hell', 0.0],\n",
       " ['help', 0.0],\n",
       " ['hey', 0.0],\n",
       " ['hi', 0.0],\n",
       " ['hit', 0.0],\n",
       " ['holiday', 0.0],\n",
       " ['home', 0.0],\n",
       " ['hope', 0.0],\n",
       " ['hot', 0.0],\n",
       " ['hour', 0.0],\n",
       " ['hous', 0.0],\n",
       " ['http', 0.0],\n",
       " ['hug', 0.0],\n",
       " ['hurt', 0.0],\n",
       " ['idea', 0.0],\n",
       " ['ill', 0.0],\n",
       " ['internet', 0.0],\n",
       " ['job', 0.0],\n",
       " ['kid', 0.0],\n",
       " ['kill', 0.0],\n",
       " ['kind', 0.0],\n",
       " ['kinda', 0.0],\n",
       " ['know', 0.0],\n",
       " ['late', 0.0],\n",
       " ['later', 0.0],\n",
       " ['learn', 0.0],\n",
       " ['leav', 0.0],\n",
       " ['left', 0.0],\n",
       " ['life', 0.0],\n",
       " ['like', 0.0001],\n",
       " ['link', 0.0],\n",
       " ['listen', 0.0],\n",
       " ['littl', 0.0],\n",
       " ['live', 0.0],\n",
       " ['long', 0.0],\n",
       " ['look', 0.0],\n",
       " ['lost', 0.0],\n",
       " ['lot', 0.0],\n",
       " ['love', 0.1294],\n",
       " ['luck', 0.0],\n",
       " ['lunch', 0.0],\n",
       " ['ly', 0.0],\n",
       " ['make', 0.0],\n",
       " ['man', 0.0],\n",
       " ['mani', 0.0],\n",
       " ['mayb', 0.0],\n",
       " ['mean', 0.0],\n",
       " ['meet', 0.0],\n",
       " ['minut', 0.0],\n",
       " ['miss', 0.0],\n",
       " ['mom', 0.0],\n",
       " ['mommi', 0.0],\n",
       " ['monday', 0.0],\n",
       " ['money', 0.0],\n",
       " ['month', 0.0],\n",
       " ['morn', 0.0],\n",
       " ['mother', 0.0],\n",
       " ['movi', 0.0],\n",
       " ['mum', 0.0],\n",
       " ['music', 0.0],\n",
       " ['need', 0.0],\n",
       " ['news', 0.0],\n",
       " ['nice', 0.0],\n",
       " ['night', 0.0],\n",
       " ['noth', 0.0],\n",
       " ['offic', 0.0],\n",
       " ['oh', 0.0],\n",
       " ['okay', 0.0],\n",
       " ['old', 0.0],\n",
       " ['omg', 0.0],\n",
       " ['outsid', 0.0],\n",
       " ['pain', 0.0],\n",
       " ['parti', 0.0],\n",
       " ['peopl', 0.0],\n",
       " ['person', 0.0],\n",
       " ['phone', 0.0],\n",
       " ['photo', 0.0],\n",
       " ['pic', 0.0],\n",
       " ['pictur', 0.0],\n",
       " ['place', 0.0],\n",
       " ['plan', 0.0],\n",
       " ['play', 0.0],\n",
       " ['pleas', 0.0],\n",
       " ['plurk', 0.0],\n",
       " ['poor', 0.0],\n",
       " ['post', 0.0],\n",
       " ['pretti', 0.0],\n",
       " ['probabl', 0.0],\n",
       " ['problem', 0.0],\n",
       " ['quit', 0.0],\n",
       " ['rain', 0.0],\n",
       " ['read', 0.0],\n",
       " ['readi', 0.0],\n",
       " ['real', 0.0],\n",
       " ['realli', 0.0],\n",
       " ['rememb', 0.0],\n",
       " ['repli', 0.0],\n",
       " ['right', 0.0],\n",
       " ['rock', 0.0],\n",
       " ['room', 0.0],\n",
       " ['run', 0.0],\n",
       " ['sad', 0.0],\n",
       " ['said', 0.0],\n",
       " ['saw', 0.0],\n",
       " ['say', 0.0],\n",
       " ['school', 0.0],\n",
       " ['seen', 0.0],\n",
       " ['send', 0.0],\n",
       " ['set', 0.0],\n",
       " ['shit', 0.0],\n",
       " ['shop', 0.0],\n",
       " ['sick', 0.0],\n",
       " ['sinc', 0.0],\n",
       " ['sit', 0.0],\n",
       " ['site', 0.0],\n",
       " ['sleep', 0.0],\n",
       " ['someon', 0.0],\n",
       " ['someth', 0.0],\n",
       " ['song', 0.0],\n",
       " ['soon', 0.0],\n",
       " ['sooo', 0.0],\n",
       " ['sorri', 0.0],\n",
       " ['sound', 0.0],\n",
       " ['star', 0.0],\n",
       " ['start', 0.0],\n",
       " ['stay', 0.0],\n",
       " ['stop', 0.0],\n",
       " ['stuck', 0.0],\n",
       " ['studi', 0.0],\n",
       " ['stuff', 0.0],\n",
       " ['stupid', 0.0],\n",
       " ['suck', 0.0],\n",
       " ['summer', 0.0],\n",
       " ['sun', 0.0],\n",
       " ['sunday', 0.0],\n",
       " ['super', 0.0],\n",
       " ['sure', 0.0],\n",
       " ['sweet', 0.0],\n",
       " ['talk', 0.0],\n",
       " ['tell', 0.0],\n",
       " ['th', 0.0],\n",
       " ['thank', 0.0],\n",
       " ['thing', 0.0],\n",
       " ['think', 0.0],\n",
       " ['tho', 0.0],\n",
       " ['thought', 0.0],\n",
       " ['till', 0.0],\n",
       " ['time', 0.0],\n",
       " ['tinyurl', 0.0],\n",
       " ['tire', 0.0],\n",
       " ['today', 0.0],\n",
       " ['tomorrow', 0.0],\n",
       " ['tonight', 0.0],\n",
       " ['took', 0.0],\n",
       " ['total', 0.0],\n",
       " ['tri', 0.0],\n",
       " ['trip', 0.0],\n",
       " ['turn', 0.0],\n",
       " ['tv', 0.0],\n",
       " ['tweet', 0.0],\n",
       " ['ugh', 0.0],\n",
       " ['updat', 0.0],\n",
       " ['ur', 0.0],\n",
       " ['use', 0.0],\n",
       " ['video', 0.0],\n",
       " ['wait', 0.0],\n",
       " ['wake', 0.0],\n",
       " ['walk', 0.0],\n",
       " ['wanna', 0.0],\n",
       " ['want', 0.0],\n",
       " ['war', 0.0],\n",
       " ['watch', 0.0],\n",
       " ['way', 0.0],\n",
       " ['weather', 0.0],\n",
       " ['week', 0.0],\n",
       " ['weekend', 0.0],\n",
       " ['welcom', 0.0],\n",
       " ['went', 0.0],\n",
       " ['win', 0.0],\n",
       " ['wish', 0.0],\n",
       " ['woke', 0.0],\n",
       " ['wonder', 0.0],\n",
       " ['word', 0.0],\n",
       " ['work', 0.009],\n",
       " ['world', 0.0],\n",
       " ['wow', 0.0],\n",
       " ['write', 0.0],\n",
       " ['wrong', 0.0],\n",
       " ['www', 0.0],\n",
       " ['xx', 0.0],\n",
       " ['ya', 0.0],\n",
       " ['yay', 0.0],\n",
       " ['yeah', 0.0],\n",
       " ['year', 0.0],\n",
       " ['yes', 0.0],\n",
       " ['yesterday', 0.0]]"
      ]
     },
     "execution_count": 22,
     "metadata": {},
     "output_type": "execute_result"
    }
   ],
   "source": [
    "from optbinning import OptimalBinning\n",
    "\n",
    "iv_values = []\n",
    "for index, variable in enumerate(lista_atributos):\n",
    "    optb = OptimalBinning(name=variable, dtype='numerical', solver='cp')\n",
    "    optb.fit(X_train_optb[variable], y_train_optb)\n",
    "    binning_table = optb.binning_table.build()\n",
    "    binning_results = binning_table.loc['Totals', 'IV'].round(4)\n",
    "    iv_binning_table = [variable, binning_results]\n",
    "    iv_values.append(iv_binning_table)\n",
    "\n",
    "iv_values"
   ]
  },
  {
   "cell_type": "code",
   "execution_count": 23,
   "metadata": {},
   "outputs": [
    {
     "name": "stdout",
     "output_type": "stream",
     "text": [
      "[['day', 0.0508], ['good', 0.0255], ['like', 0.0001], ['love', 0.1294], ['work', 0.009]]\n"
     ]
    }
   ],
   "source": [
    "# valores de IV filtrados\n",
    "filtered_values = [item for item in iv_values if item[1] > 0]\n",
    "print(filtered_values)"
   ]
  },
  {
   "attachments": {},
   "cell_type": "markdown",
   "metadata": {},
   "source": [
    "    El IV (Information Value) es una medida de la capacidad predictiva de una variable en un modelo de clasificación. En este caso, luego de implementar y filtrar los valores de IV mayores a cero, se obtuvo que solamente cinco variables cumplen esta condición.\n",
    "    A partir de los valores obtenidos, se tomó la decisión de considerar las 100 variables con mayor frecuencia y crear un nuevo dataframe que las contenga. Dentro de estas 100 variables estan contenidas las cinco que se obtuvieron filtrando el IV. "
   ]
  },
  {
   "cell_type": "code",
   "execution_count": 24,
   "metadata": {},
   "outputs": [
    {
     "data": {
      "text/html": [
       "<div>\n",
       "<style scoped>\n",
       "    .dataframe tbody tr th:only-of-type {\n",
       "        vertical-align: middle;\n",
       "    }\n",
       "\n",
       "    .dataframe tbody tr th {\n",
       "        vertical-align: top;\n",
       "    }\n",
       "\n",
       "    .dataframe thead th {\n",
       "        text-align: right;\n",
       "    }\n",
       "</style>\n",
       "<table border=\"1\" class=\"dataframe\">\n",
       "  <thead>\n",
       "    <tr style=\"text-align: right;\">\n",
       "      <th></th>\n",
       "      <th>words</th>\n",
       "      <th>freq</th>\n",
       "    </tr>\n",
       "  </thead>\n",
       "  <tbody>\n",
       "    <tr>\n",
       "      <th>6539</th>\n",
       "      <td>day</td>\n",
       "      <td>2825</td>\n",
       "    </tr>\n",
       "    <tr>\n",
       "      <th>10656</th>\n",
       "      <td>good</td>\n",
       "      <td>1758</td>\n",
       "    </tr>\n",
       "    <tr>\n",
       "      <th>30741</th>\n",
       "      <td>work</td>\n",
       "      <td>1674</td>\n",
       "    </tr>\n",
       "    <tr>\n",
       "      <th>16467</th>\n",
       "      <td>love</td>\n",
       "      <td>1623</td>\n",
       "    </tr>\n",
       "    <tr>\n",
       "      <th>15955</th>\n",
       "      <td>like</td>\n",
       "      <td>1551</td>\n",
       "    </tr>\n",
       "    <tr>\n",
       "      <th>...</th>\n",
       "      <td>...</td>\n",
       "      <td>...</td>\n",
       "    </tr>\n",
       "    <tr>\n",
       "      <th>8432</th>\n",
       "      <td>enjoy</td>\n",
       "      <td>262</td>\n",
       "    </tr>\n",
       "    <tr>\n",
       "      <th>25688</th>\n",
       "      <td>song</td>\n",
       "      <td>260</td>\n",
       "    </tr>\n",
       "    <tr>\n",
       "      <th>31195</th>\n",
       "      <td>yay</td>\n",
       "      <td>259</td>\n",
       "    </tr>\n",
       "    <tr>\n",
       "      <th>25672</th>\n",
       "      <td>someth</td>\n",
       "      <td>257</td>\n",
       "    </tr>\n",
       "    <tr>\n",
       "      <th>16430</th>\n",
       "      <td>lot</td>\n",
       "      <td>256</td>\n",
       "    </tr>\n",
       "  </tbody>\n",
       "</table>\n",
       "<p>100 rows × 2 columns</p>\n",
       "</div>"
      ],
      "text/plain": [
       "        words  freq\n",
       "6539      day  2825\n",
       "10656    good  1758\n",
       "30741    work  1674\n",
       "16467    love  1623\n",
       "15955    like  1551\n",
       "...       ...   ...\n",
       "8432    enjoy   262\n",
       "25688    song   260\n",
       "31195     yay   259\n",
       "25672  someth   257\n",
       "16430     lot   256\n",
       "\n",
       "[100 rows x 2 columns]"
      ]
     },
     "execution_count": 24,
     "metadata": {},
     "output_type": "execute_result"
    }
   ],
   "source": [
    "words_freq_df.head(100)"
   ]
  },
  {
   "cell_type": "code",
   "execution_count": 25,
   "metadata": {},
   "outputs": [],
   "source": [
    "top_100_list = words_freq_df.loc[:,'words'][:100].to_list()"
   ]
  },
  {
   "cell_type": "code",
   "execution_count": 26,
   "metadata": {},
   "outputs": [],
   "source": [
    "df_top_100 = df_reducido.loc[:, top_100_list + ['sentiment_bin']]"
   ]
  },
  {
   "cell_type": "code",
   "execution_count": 27,
   "metadata": {},
   "outputs": [
    {
     "data": {
      "text/html": [
       "<div>\n",
       "<style scoped>\n",
       "    .dataframe tbody tr th:only-of-type {\n",
       "        vertical-align: middle;\n",
       "    }\n",
       "\n",
       "    .dataframe tbody tr th {\n",
       "        vertical-align: top;\n",
       "    }\n",
       "\n",
       "    .dataframe thead th {\n",
       "        text-align: right;\n",
       "    }\n",
       "</style>\n",
       "<table border=\"1\" class=\"dataframe\">\n",
       "  <thead>\n",
       "    <tr style=\"text-align: right;\">\n",
       "      <th></th>\n",
       "      <th>day</th>\n",
       "      <th>good</th>\n",
       "      <th>work</th>\n",
       "      <th>love</th>\n",
       "      <th>like</th>\n",
       "      <th>http</th>\n",
       "      <th>today</th>\n",
       "      <th>got</th>\n",
       "      <th>time</th>\n",
       "      <th>happi</th>\n",
       "      <th>...</th>\n",
       "      <th>wanna</th>\n",
       "      <th>phone</th>\n",
       "      <th>ur</th>\n",
       "      <th>eat</th>\n",
       "      <th>enjoy</th>\n",
       "      <th>song</th>\n",
       "      <th>yay</th>\n",
       "      <th>someth</th>\n",
       "      <th>lot</th>\n",
       "      <th>sentiment_bin</th>\n",
       "    </tr>\n",
       "  </thead>\n",
       "  <tbody>\n",
       "    <tr>\n",
       "      <th>7691</th>\n",
       "      <td>0</td>\n",
       "      <td>0</td>\n",
       "      <td>0</td>\n",
       "      <td>0</td>\n",
       "      <td>0</td>\n",
       "      <td>0</td>\n",
       "      <td>0</td>\n",
       "      <td>0</td>\n",
       "      <td>0</td>\n",
       "      <td>0</td>\n",
       "      <td>...</td>\n",
       "      <td>0</td>\n",
       "      <td>0</td>\n",
       "      <td>0</td>\n",
       "      <td>0</td>\n",
       "      <td>0</td>\n",
       "      <td>0</td>\n",
       "      <td>0</td>\n",
       "      <td>0</td>\n",
       "      <td>0</td>\n",
       "      <td>0</td>\n",
       "    </tr>\n",
       "  </tbody>\n",
       "</table>\n",
       "<p>1 rows × 101 columns</p>\n",
       "</div>"
      ],
      "text/plain": [
       "      day  good  work  love  like  http  today  got  time  happi  ...  wanna  \\\n",
       "7691    0     0     0     0     0     0      0    0     0      0  ...      0   \n",
       "\n",
       "      phone  ur  eat  enjoy  song  yay  someth  lot  sentiment_bin  \n",
       "7691      0   0    0      0     0    0       0    0              0  \n",
       "\n",
       "[1 rows x 101 columns]"
      ]
     },
     "execution_count": 27,
     "metadata": {},
     "output_type": "execute_result"
    }
   ],
   "source": [
    "df_top_100.sample()"
   ]
  },
  {
   "cell_type": "code",
   "execution_count": 28,
   "metadata": {},
   "outputs": [
    {
     "data": {
      "text/plain": [
       "(30000, 101)"
      ]
     },
     "execution_count": 28,
     "metadata": {},
     "output_type": "execute_result"
    }
   ],
   "source": [
    "df_top_100.shape"
   ]
  },
  {
   "attachments": {},
   "cell_type": "markdown",
   "metadata": {},
   "source": [
    "#### <span style=\"color:#87CEEB\"> Separación de muestras de entrenamiento y pruebas para el nuevo dataframe obtenido"
   ]
  },
  {
   "cell_type": "code",
   "execution_count": 29,
   "metadata": {},
   "outputs": [],
   "source": [
    "# Separación de muestras de entrenamiento y pruebas\n",
    "X = df_top_100.drop('sentiment_bin', axis=1)\n",
    "y = df_top_100['sentiment_bin']\n",
    "\n",
    "X_train, X_test, y_train, y_test = train_test_split(X, y,\n",
    "                                                    test_size=.33, \n",
    "                                                    random_state=rep_seed)\n",
    "\n",
    "\n",
    "# estandarización\n",
    "from sklearn.preprocessing import StandardScaler\n",
    "\n",
    "scaler = StandardScaler().fit(X_train)\n",
    "\n",
    "X_train_scaled = scaler.transform(X_train)\n",
    "X_test_scaled = scaler.transform(X_test)"
   ]
  },
  {
   "attachments": {},
   "cell_type": "markdown",
   "metadata": {},
   "source": [
    "#### <span style=\"color:#87CEEB\"> Las grillas de hiperparámetros para cada uno de los cinco modelos propuestos deben estar declaradas."
   ]
  },
  {
   "cell_type": "code",
   "execution_count": 30,
   "metadata": {},
   "outputs": [],
   "source": [
    "# Las grillas de hiperparámetros tentativas para cada modelo son:\n",
    "\n",
    "# Gradient Boosting\n",
    "gb_grid_v1 = {\n",
    "    'n_estimators': [50, 100, 200],\n",
    "    'learning_rate': [0.01, 0.1, 1],\n",
    "    'max_depth': [3, 5, 7]}\n",
    "\n",
    "# Decision Tree Classifier\n",
    "dec_tree_grid_v1 = {\n",
    "    'min_samples_split': [2, 5, 10],\n",
    "    'max_depth': [None, 1, 5, 10],\n",
    "    'min_samples_leaf': [1, 3, 5],\n",
    "    'max_features': ['sqrt', 'log2', None]\n",
    "    }\n",
    "\n",
    "# Random Forest Classifier\n",
    "rf_grid_v1 = {\n",
    "    'n_estimators': [100, 200, 300],\n",
    "    'max_depth': [None, 10, 20, 30],\n",
    "    'max_features': ['sqrt', 'log2', None]\n",
    "}\n",
    "\n",
    "# Linear Discriminant Analysis\n",
    "lda_grid_v1 = {\n",
    "    'priors': [None, [0.1, 0.9], [0.3, 0.7], [0.5, 0.5], [0.7, 0.3], [0.9, 0.1]],\n",
    "    'solver': ['svd'], \n",
    "    'tol': [0.0001, 0.001, 0.01]\n",
    "}\n",
    "\n",
    "# BernoulliNB\n",
    "bernoulli_nb_grid_v1 = {\n",
    "    'alpha': [0.001, 0.01, 0.1, 1.0],\n",
    "    'binarize': [None, 0.1, 0.5, 0.9],\n",
    "    'fit_prior': [True, False]\n",
    "}\n",
    "\n",
    "# Logistic Regression\n",
    "lr_grid_v1 = {    \n",
    "    'C': [0.1, 1, 10, 100],\n",
    "    'fit_intercept': [True, False], \n",
    "    'class_weight': [None, 'balanced'],\n",
    "    'max_iter': [100, 500]\n",
    "}\n"
   ]
  },
  {
   "attachments": {},
   "cell_type": "markdown",
   "metadata": {},
   "source": [
    "    Como se mencionó anteriormente, estas grillas son para una primera iteración de los modelos. De acuerdo a los resultados obtenidos se evaluará modificar sus valores."
   ]
  },
  {
   "attachments": {},
   "cell_type": "markdown",
   "metadata": {},
   "source": [
    "##### <span style=\"color:#87CEEB\"> Generar la búsqueda de grilla de por lo menos dos modelos, preservando la información en un archivo serializado."
   ]
  },
  {
   "cell_type": "code",
   "execution_count": 31,
   "metadata": {},
   "outputs": [],
   "source": [
    "from sklearn.model_selection import GridSearchCV\n",
    "import pickle"
   ]
  },
  {
   "attachments": {},
   "cell_type": "markdown",
   "metadata": {},
   "source": [
    "## MODELO 1 Gradient Boosting"
   ]
  },
  {
   "cell_type": "code",
   "execution_count": 32,
   "metadata": {},
   "outputs": [
    {
     "name": "stdout",
     "output_type": "stream",
     "text": [
      "Fitting 5 folds for each of 27 candidates, totalling 135 fits\n"
     ]
    },
    {
     "data": {
      "text/html": [
       "<style>#sk-container-id-1 {color: black;background-color: white;}#sk-container-id-1 pre{padding: 0;}#sk-container-id-1 div.sk-toggleable {background-color: white;}#sk-container-id-1 label.sk-toggleable__label {cursor: pointer;display: block;width: 100%;margin-bottom: 0;padding: 0.3em;box-sizing: border-box;text-align: center;}#sk-container-id-1 label.sk-toggleable__label-arrow:before {content: \"▸\";float: left;margin-right: 0.25em;color: #696969;}#sk-container-id-1 label.sk-toggleable__label-arrow:hover:before {color: black;}#sk-container-id-1 div.sk-estimator:hover label.sk-toggleable__label-arrow:before {color: black;}#sk-container-id-1 div.sk-toggleable__content {max-height: 0;max-width: 0;overflow: hidden;text-align: left;background-color: #f0f8ff;}#sk-container-id-1 div.sk-toggleable__content pre {margin: 0.2em;color: black;border-radius: 0.25em;background-color: #f0f8ff;}#sk-container-id-1 input.sk-toggleable__control:checked~div.sk-toggleable__content {max-height: 200px;max-width: 100%;overflow: auto;}#sk-container-id-1 input.sk-toggleable__control:checked~label.sk-toggleable__label-arrow:before {content: \"▾\";}#sk-container-id-1 div.sk-estimator input.sk-toggleable__control:checked~label.sk-toggleable__label {background-color: #d4ebff;}#sk-container-id-1 div.sk-label input.sk-toggleable__control:checked~label.sk-toggleable__label {background-color: #d4ebff;}#sk-container-id-1 input.sk-hidden--visually {border: 0;clip: rect(1px 1px 1px 1px);clip: rect(1px, 1px, 1px, 1px);height: 1px;margin: -1px;overflow: hidden;padding: 0;position: absolute;width: 1px;}#sk-container-id-1 div.sk-estimator {font-family: monospace;background-color: #f0f8ff;border: 1px dotted black;border-radius: 0.25em;box-sizing: border-box;margin-bottom: 0.5em;}#sk-container-id-1 div.sk-estimator:hover {background-color: #d4ebff;}#sk-container-id-1 div.sk-parallel-item::after {content: \"\";width: 100%;border-bottom: 1px solid gray;flex-grow: 1;}#sk-container-id-1 div.sk-label:hover label.sk-toggleable__label {background-color: #d4ebff;}#sk-container-id-1 div.sk-serial::before {content: \"\";position: absolute;border-left: 1px solid gray;box-sizing: border-box;top: 0;bottom: 0;left: 50%;z-index: 0;}#sk-container-id-1 div.sk-serial {display: flex;flex-direction: column;align-items: center;background-color: white;padding-right: 0.2em;padding-left: 0.2em;position: relative;}#sk-container-id-1 div.sk-item {position: relative;z-index: 1;}#sk-container-id-1 div.sk-parallel {display: flex;align-items: stretch;justify-content: center;background-color: white;position: relative;}#sk-container-id-1 div.sk-item::before, #sk-container-id-1 div.sk-parallel-item::before {content: \"\";position: absolute;border-left: 1px solid gray;box-sizing: border-box;top: 0;bottom: 0;left: 50%;z-index: -1;}#sk-container-id-1 div.sk-parallel-item {display: flex;flex-direction: column;z-index: 1;position: relative;background-color: white;}#sk-container-id-1 div.sk-parallel-item:first-child::after {align-self: flex-end;width: 50%;}#sk-container-id-1 div.sk-parallel-item:last-child::after {align-self: flex-start;width: 50%;}#sk-container-id-1 div.sk-parallel-item:only-child::after {width: 0;}#sk-container-id-1 div.sk-dashed-wrapped {border: 1px dashed gray;margin: 0 0.4em 0.5em 0.4em;box-sizing: border-box;padding-bottom: 0.4em;background-color: white;}#sk-container-id-1 div.sk-label label {font-family: monospace;font-weight: bold;display: inline-block;line-height: 1.2em;}#sk-container-id-1 div.sk-label-container {text-align: center;}#sk-container-id-1 div.sk-container {/* jupyter's `normalize.less` sets `[hidden] { display: none; }` but bootstrap.min.css set `[hidden] { display: none !important; }` so we also need the `!important` here to be able to override the default hidden behavior on the sphinx rendered scikit-learn.org. See: https://github.com/scikit-learn/scikit-learn/issues/21755 */display: inline-block !important;position: relative;}#sk-container-id-1 div.sk-text-repr-fallback {display: none;}</style><div id=\"sk-container-id-1\" class=\"sk-top-container\"><div class=\"sk-text-repr-fallback\"><pre>GridSearchCV(cv=5, estimator=GradientBoostingClassifier(random_state=94),\n",
       "             n_jobs=-1,\n",
       "             param_grid={&#x27;learning_rate&#x27;: [0.01, 0.1, 1],\n",
       "                         &#x27;max_depth&#x27;: [3, 5, 7],\n",
       "                         &#x27;n_estimators&#x27;: [50, 100, 200]},\n",
       "             verbose=1)</pre><b>In a Jupyter environment, please rerun this cell to show the HTML representation or trust the notebook. <br />On GitHub, the HTML representation is unable to render, please try loading this page with nbviewer.org.</b></div><div class=\"sk-container\" hidden><div class=\"sk-item sk-dashed-wrapped\"><div class=\"sk-label-container\"><div class=\"sk-label sk-toggleable\"><input class=\"sk-toggleable__control sk-hidden--visually\" id=\"sk-estimator-id-1\" type=\"checkbox\" ><label for=\"sk-estimator-id-1\" class=\"sk-toggleable__label sk-toggleable__label-arrow\">GridSearchCV</label><div class=\"sk-toggleable__content\"><pre>GridSearchCV(cv=5, estimator=GradientBoostingClassifier(random_state=94),\n",
       "             n_jobs=-1,\n",
       "             param_grid={&#x27;learning_rate&#x27;: [0.01, 0.1, 1],\n",
       "                         &#x27;max_depth&#x27;: [3, 5, 7],\n",
       "                         &#x27;n_estimators&#x27;: [50, 100, 200]},\n",
       "             verbose=1)</pre></div></div></div><div class=\"sk-parallel\"><div class=\"sk-parallel-item\"><div class=\"sk-item\"><div class=\"sk-label-container\"><div class=\"sk-label sk-toggleable\"><input class=\"sk-toggleable__control sk-hidden--visually\" id=\"sk-estimator-id-2\" type=\"checkbox\" ><label for=\"sk-estimator-id-2\" class=\"sk-toggleable__label sk-toggleable__label-arrow\">estimator: GradientBoostingClassifier</label><div class=\"sk-toggleable__content\"><pre>GradientBoostingClassifier(random_state=94)</pre></div></div></div><div class=\"sk-serial\"><div class=\"sk-item\"><div class=\"sk-estimator sk-toggleable\"><input class=\"sk-toggleable__control sk-hidden--visually\" id=\"sk-estimator-id-3\" type=\"checkbox\" ><label for=\"sk-estimator-id-3\" class=\"sk-toggleable__label sk-toggleable__label-arrow\">GradientBoostingClassifier</label><div class=\"sk-toggleable__content\"><pre>GradientBoostingClassifier(random_state=94)</pre></div></div></div></div></div></div></div></div></div></div>"
      ],
      "text/plain": [
       "GridSearchCV(cv=5, estimator=GradientBoostingClassifier(random_state=94),\n",
       "             n_jobs=-1,\n",
       "             param_grid={'learning_rate': [0.01, 0.1, 1],\n",
       "                         'max_depth': [3, 5, 7],\n",
       "                         'n_estimators': [50, 100, 200]},\n",
       "             verbose=1)"
      ]
     },
     "execution_count": 32,
     "metadata": {},
     "output_type": "execute_result"
    }
   ],
   "source": [
    "gb_model_v1 = GridSearchCV(GradientBoostingClassifier(random_state=rep_seed),\n",
    "                                param_grid = gb_grid_v1,\n",
    "                                cv=5,\n",
    "                                verbose=1,\n",
    "                                n_jobs=-1)\n",
    "\n",
    "# ajuste modelo\n",
    "gb_model_v1.fit(X_train_scaled, y_train)"
   ]
  },
  {
   "cell_type": "code",
   "execution_count": 33,
   "metadata": {},
   "outputs": [
    {
     "data": {
      "text/plain": [
       "{'learning_rate': 0.1, 'max_depth': 3, 'n_estimators': 200}"
      ]
     },
     "execution_count": 33,
     "metadata": {},
     "output_type": "execute_result"
    }
   ],
   "source": [
    "gb_model_v1.best_params_"
   ]
  },
  {
   "cell_type": "code",
   "execution_count": 34,
   "metadata": {},
   "outputs": [],
   "source": [
    "# predicciones train y test\n",
    "gb_yhat_train_v1 = gb_model_v1.predict(X_train_scaled)\n",
    "gb_yhat_test_v1 = gb_model_v1.predict(X_test_scaled)"
   ]
  },
  {
   "cell_type": "code",
   "execution_count": 35,
   "metadata": {},
   "outputs": [
    {
     "name": "stdout",
     "output_type": "stream",
     "text": [
      "Matriz de confusión gradient boosting, testing:\n",
      " [[5439  640]\n",
      " [2325 1496]] \n",
      "\n",
      " ------------------------------------------------------- \n",
      "\n",
      "Classification_report training gradient boosting:\n",
      "               precision    recall  f1-score   support\n",
      "\n",
      "           0       0.71      0.90      0.80     12394\n",
      "           1       0.73      0.42      0.53      7706\n",
      "\n",
      "    accuracy                           0.72     20100\n",
      "   macro avg       0.72      0.66      0.67     20100\n",
      "weighted avg       0.72      0.72      0.70     20100\n",
      " \n",
      " ------------------------------------------------------- \n",
      "\n",
      "Classification_report testing gradient boosting:\n",
      "               precision    recall  f1-score   support\n",
      "\n",
      "           0       0.70      0.89      0.79      6079\n",
      "           1       0.70      0.39      0.50      3821\n",
      "\n",
      "    accuracy                           0.70      9900\n",
      "   macro avg       0.70      0.64      0.64      9900\n",
      "weighted avg       0.70      0.70      0.68      9900\n",
      "\n"
     ]
    }
   ],
   "source": [
    "def print_metricas(y_train, model_yhat_train, model_yhat_test, name_model):    \n",
    "    \"\"\"\n",
    "    Imprime las métricas para cada modelo.\n",
    "\n",
    "    Parameters\n",
    "    ----------\n",
    "    y_train: variable\n",
    "        vector objetivo de entrenamiento\n",
    "    model_yhat: variable\n",
    "            predicciones del modelo\n",
    "    name_model: str\n",
    "        nombre para identificar el modelo\n",
    "\n",
    "    Returns\n",
    "        None\n",
    "    \"\"\"\n",
    "    # matriz de confusión\n",
    "    matriz_confusion = confusion_matrix(y_true=y_test, y_pred=model_yhat_test)\n",
    "    print(f'Matriz de confusión {name_model}, testing:\\n', matriz_confusion,'\\n\\n','-'*55,'\\n')\n",
    "\n",
    "    # classification report training \n",
    "    classif_report = classification_report(y_true=y_train, y_pred=model_yhat_train)\n",
    "    print(f'Classification_report training {name_model}:\\n', classif_report,'\\n','-'*55,'\\n')\n",
    "\n",
    "    # classification report testing \n",
    "    classif_report = classification_report(y_true=y_test, y_pred=model_yhat_test)\n",
    "    print(f'Classification_report testing {name_model}:\\n', classif_report)\n",
    "\n",
    "# métricas\n",
    "print_metricas(y_train=y_train, model_yhat_train=gb_yhat_train_v1, model_yhat_test=gb_yhat_test_v1, name_model='gradient boosting')"
   ]
  },
  {
   "attachments": {},
   "cell_type": "markdown",
   "metadata": {},
   "source": [
    "## MODELO 1 Decision Tree Classifier"
   ]
  },
  {
   "cell_type": "code",
   "execution_count": 36,
   "metadata": {},
   "outputs": [
    {
     "name": "stdout",
     "output_type": "stream",
     "text": [
      "Fitting 5 folds for each of 108 candidates, totalling 540 fits\n"
     ]
    },
    {
     "data": {
      "text/html": [
       "<style>#sk-container-id-2 {color: black;background-color: white;}#sk-container-id-2 pre{padding: 0;}#sk-container-id-2 div.sk-toggleable {background-color: white;}#sk-container-id-2 label.sk-toggleable__label {cursor: pointer;display: block;width: 100%;margin-bottom: 0;padding: 0.3em;box-sizing: border-box;text-align: center;}#sk-container-id-2 label.sk-toggleable__label-arrow:before {content: \"▸\";float: left;margin-right: 0.25em;color: #696969;}#sk-container-id-2 label.sk-toggleable__label-arrow:hover:before {color: black;}#sk-container-id-2 div.sk-estimator:hover label.sk-toggleable__label-arrow:before {color: black;}#sk-container-id-2 div.sk-toggleable__content {max-height: 0;max-width: 0;overflow: hidden;text-align: left;background-color: #f0f8ff;}#sk-container-id-2 div.sk-toggleable__content pre {margin: 0.2em;color: black;border-radius: 0.25em;background-color: #f0f8ff;}#sk-container-id-2 input.sk-toggleable__control:checked~div.sk-toggleable__content {max-height: 200px;max-width: 100%;overflow: auto;}#sk-container-id-2 input.sk-toggleable__control:checked~label.sk-toggleable__label-arrow:before {content: \"▾\";}#sk-container-id-2 div.sk-estimator input.sk-toggleable__control:checked~label.sk-toggleable__label {background-color: #d4ebff;}#sk-container-id-2 div.sk-label input.sk-toggleable__control:checked~label.sk-toggleable__label {background-color: #d4ebff;}#sk-container-id-2 input.sk-hidden--visually {border: 0;clip: rect(1px 1px 1px 1px);clip: rect(1px, 1px, 1px, 1px);height: 1px;margin: -1px;overflow: hidden;padding: 0;position: absolute;width: 1px;}#sk-container-id-2 div.sk-estimator {font-family: monospace;background-color: #f0f8ff;border: 1px dotted black;border-radius: 0.25em;box-sizing: border-box;margin-bottom: 0.5em;}#sk-container-id-2 div.sk-estimator:hover {background-color: #d4ebff;}#sk-container-id-2 div.sk-parallel-item::after {content: \"\";width: 100%;border-bottom: 1px solid gray;flex-grow: 1;}#sk-container-id-2 div.sk-label:hover label.sk-toggleable__label {background-color: #d4ebff;}#sk-container-id-2 div.sk-serial::before {content: \"\";position: absolute;border-left: 1px solid gray;box-sizing: border-box;top: 0;bottom: 0;left: 50%;z-index: 0;}#sk-container-id-2 div.sk-serial {display: flex;flex-direction: column;align-items: center;background-color: white;padding-right: 0.2em;padding-left: 0.2em;position: relative;}#sk-container-id-2 div.sk-item {position: relative;z-index: 1;}#sk-container-id-2 div.sk-parallel {display: flex;align-items: stretch;justify-content: center;background-color: white;position: relative;}#sk-container-id-2 div.sk-item::before, #sk-container-id-2 div.sk-parallel-item::before {content: \"\";position: absolute;border-left: 1px solid gray;box-sizing: border-box;top: 0;bottom: 0;left: 50%;z-index: -1;}#sk-container-id-2 div.sk-parallel-item {display: flex;flex-direction: column;z-index: 1;position: relative;background-color: white;}#sk-container-id-2 div.sk-parallel-item:first-child::after {align-self: flex-end;width: 50%;}#sk-container-id-2 div.sk-parallel-item:last-child::after {align-self: flex-start;width: 50%;}#sk-container-id-2 div.sk-parallel-item:only-child::after {width: 0;}#sk-container-id-2 div.sk-dashed-wrapped {border: 1px dashed gray;margin: 0 0.4em 0.5em 0.4em;box-sizing: border-box;padding-bottom: 0.4em;background-color: white;}#sk-container-id-2 div.sk-label label {font-family: monospace;font-weight: bold;display: inline-block;line-height: 1.2em;}#sk-container-id-2 div.sk-label-container {text-align: center;}#sk-container-id-2 div.sk-container {/* jupyter's `normalize.less` sets `[hidden] { display: none; }` but bootstrap.min.css set `[hidden] { display: none !important; }` so we also need the `!important` here to be able to override the default hidden behavior on the sphinx rendered scikit-learn.org. See: https://github.com/scikit-learn/scikit-learn/issues/21755 */display: inline-block !important;position: relative;}#sk-container-id-2 div.sk-text-repr-fallback {display: none;}</style><div id=\"sk-container-id-2\" class=\"sk-top-container\"><div class=\"sk-text-repr-fallback\"><pre>GridSearchCV(cv=5, estimator=DecisionTreeClassifier(random_state=94), n_jobs=-1,\n",
       "             param_grid={&#x27;max_depth&#x27;: [None, 1, 5, 10],\n",
       "                         &#x27;max_features&#x27;: [&#x27;sqrt&#x27;, &#x27;log2&#x27;, None],\n",
       "                         &#x27;min_samples_leaf&#x27;: [1, 3, 5],\n",
       "                         &#x27;min_samples_split&#x27;: [2, 5, 10]},\n",
       "             verbose=1)</pre><b>In a Jupyter environment, please rerun this cell to show the HTML representation or trust the notebook. <br />On GitHub, the HTML representation is unable to render, please try loading this page with nbviewer.org.</b></div><div class=\"sk-container\" hidden><div class=\"sk-item sk-dashed-wrapped\"><div class=\"sk-label-container\"><div class=\"sk-label sk-toggleable\"><input class=\"sk-toggleable__control sk-hidden--visually\" id=\"sk-estimator-id-4\" type=\"checkbox\" ><label for=\"sk-estimator-id-4\" class=\"sk-toggleable__label sk-toggleable__label-arrow\">GridSearchCV</label><div class=\"sk-toggleable__content\"><pre>GridSearchCV(cv=5, estimator=DecisionTreeClassifier(random_state=94), n_jobs=-1,\n",
       "             param_grid={&#x27;max_depth&#x27;: [None, 1, 5, 10],\n",
       "                         &#x27;max_features&#x27;: [&#x27;sqrt&#x27;, &#x27;log2&#x27;, None],\n",
       "                         &#x27;min_samples_leaf&#x27;: [1, 3, 5],\n",
       "                         &#x27;min_samples_split&#x27;: [2, 5, 10]},\n",
       "             verbose=1)</pre></div></div></div><div class=\"sk-parallel\"><div class=\"sk-parallel-item\"><div class=\"sk-item\"><div class=\"sk-label-container\"><div class=\"sk-label sk-toggleable\"><input class=\"sk-toggleable__control sk-hidden--visually\" id=\"sk-estimator-id-5\" type=\"checkbox\" ><label for=\"sk-estimator-id-5\" class=\"sk-toggleable__label sk-toggleable__label-arrow\">estimator: DecisionTreeClassifier</label><div class=\"sk-toggleable__content\"><pre>DecisionTreeClassifier(random_state=94)</pre></div></div></div><div class=\"sk-serial\"><div class=\"sk-item\"><div class=\"sk-estimator sk-toggleable\"><input class=\"sk-toggleable__control sk-hidden--visually\" id=\"sk-estimator-id-6\" type=\"checkbox\" ><label for=\"sk-estimator-id-6\" class=\"sk-toggleable__label sk-toggleable__label-arrow\">DecisionTreeClassifier</label><div class=\"sk-toggleable__content\"><pre>DecisionTreeClassifier(random_state=94)</pre></div></div></div></div></div></div></div></div></div></div>"
      ],
      "text/plain": [
       "GridSearchCV(cv=5, estimator=DecisionTreeClassifier(random_state=94), n_jobs=-1,\n",
       "             param_grid={'max_depth': [None, 1, 5, 10],\n",
       "                         'max_features': ['sqrt', 'log2', None],\n",
       "                         'min_samples_leaf': [1, 3, 5],\n",
       "                         'min_samples_split': [2, 5, 10]},\n",
       "             verbose=1)"
      ]
     },
     "execution_count": 36,
     "metadata": {},
     "output_type": "execute_result"
    }
   ],
   "source": [
    "dec_tree_model_v1 = GridSearchCV(DecisionTreeClassifier(random_state=rep_seed),\n",
    "                                param_grid = dec_tree_grid_v1,\n",
    "                                cv=5,\n",
    "                                verbose=1,\n",
    "                                n_jobs=-1)\n",
    "\n",
    "# ajuste modelo\n",
    "dec_tree_model_v1.fit(X_train_scaled, y_train)"
   ]
  },
  {
   "cell_type": "code",
   "execution_count": 37,
   "metadata": {},
   "outputs": [
    {
     "data": {
      "text/plain": [
       "{'max_depth': None,\n",
       " 'max_features': 'log2',\n",
       " 'min_samples_leaf': 5,\n",
       " 'min_samples_split': 2}"
      ]
     },
     "execution_count": 37,
     "metadata": {},
     "output_type": "execute_result"
    }
   ],
   "source": [
    "dec_tree_model_v1.best_params_"
   ]
  },
  {
   "cell_type": "code",
   "execution_count": 38,
   "metadata": {},
   "outputs": [
    {
     "name": "stdout",
     "output_type": "stream",
     "text": [
      "Matriz de confusión decision tree, testing:\n",
      " [[5299  780]\n",
      " [2318 1503]] \n",
      "\n",
      " ------------------------------------------------------- \n",
      "\n",
      "Classification_report training decision tree:\n",
      "               precision    recall  f1-score   support\n",
      "\n",
      "           0       0.71      0.88      0.79     12394\n",
      "           1       0.70      0.43      0.53      7706\n",
      "\n",
      "    accuracy                           0.71     20100\n",
      "   macro avg       0.70      0.66      0.66     20100\n",
      "weighted avg       0.71      0.71      0.69     20100\n",
      " \n",
      " ------------------------------------------------------- \n",
      "\n",
      "Classification_report testing decision tree:\n",
      "               precision    recall  f1-score   support\n",
      "\n",
      "           0       0.70      0.87      0.77      6079\n",
      "           1       0.66      0.39      0.49      3821\n",
      "\n",
      "    accuracy                           0.69      9900\n",
      "   macro avg       0.68      0.63      0.63      9900\n",
      "weighted avg       0.68      0.69      0.67      9900\n",
      "\n"
     ]
    }
   ],
   "source": [
    "# predicciones train y test\n",
    "dec_tree_yhat_train_v1 = dec_tree_model_v1.predict(X_train_scaled)\n",
    "dec_tree_yhat_test_v1 = dec_tree_model_v1.predict(X_test_scaled)\n",
    "\n",
    "# métricas\n",
    "print_metricas(y_train=y_train, model_yhat_train=dec_tree_yhat_train_v1, model_yhat_test=dec_tree_yhat_test_v1, name_model='decision tree')"
   ]
  },
  {
   "attachments": {},
   "cell_type": "markdown",
   "metadata": {},
   "source": [
    "## MODELO 1 Random Forest"
   ]
  },
  {
   "cell_type": "code",
   "execution_count": 39,
   "metadata": {},
   "outputs": [
    {
     "name": "stdout",
     "output_type": "stream",
     "text": [
      "Fitting 5 folds for each of 36 candidates, totalling 180 fits\n"
     ]
    },
    {
     "data": {
      "text/html": [
       "<style>#sk-container-id-3 {color: black;background-color: white;}#sk-container-id-3 pre{padding: 0;}#sk-container-id-3 div.sk-toggleable {background-color: white;}#sk-container-id-3 label.sk-toggleable__label {cursor: pointer;display: block;width: 100%;margin-bottom: 0;padding: 0.3em;box-sizing: border-box;text-align: center;}#sk-container-id-3 label.sk-toggleable__label-arrow:before {content: \"▸\";float: left;margin-right: 0.25em;color: #696969;}#sk-container-id-3 label.sk-toggleable__label-arrow:hover:before {color: black;}#sk-container-id-3 div.sk-estimator:hover label.sk-toggleable__label-arrow:before {color: black;}#sk-container-id-3 div.sk-toggleable__content {max-height: 0;max-width: 0;overflow: hidden;text-align: left;background-color: #f0f8ff;}#sk-container-id-3 div.sk-toggleable__content pre {margin: 0.2em;color: black;border-radius: 0.25em;background-color: #f0f8ff;}#sk-container-id-3 input.sk-toggleable__control:checked~div.sk-toggleable__content {max-height: 200px;max-width: 100%;overflow: auto;}#sk-container-id-3 input.sk-toggleable__control:checked~label.sk-toggleable__label-arrow:before {content: \"▾\";}#sk-container-id-3 div.sk-estimator input.sk-toggleable__control:checked~label.sk-toggleable__label {background-color: #d4ebff;}#sk-container-id-3 div.sk-label input.sk-toggleable__control:checked~label.sk-toggleable__label {background-color: #d4ebff;}#sk-container-id-3 input.sk-hidden--visually {border: 0;clip: rect(1px 1px 1px 1px);clip: rect(1px, 1px, 1px, 1px);height: 1px;margin: -1px;overflow: hidden;padding: 0;position: absolute;width: 1px;}#sk-container-id-3 div.sk-estimator {font-family: monospace;background-color: #f0f8ff;border: 1px dotted black;border-radius: 0.25em;box-sizing: border-box;margin-bottom: 0.5em;}#sk-container-id-3 div.sk-estimator:hover {background-color: #d4ebff;}#sk-container-id-3 div.sk-parallel-item::after {content: \"\";width: 100%;border-bottom: 1px solid gray;flex-grow: 1;}#sk-container-id-3 div.sk-label:hover label.sk-toggleable__label {background-color: #d4ebff;}#sk-container-id-3 div.sk-serial::before {content: \"\";position: absolute;border-left: 1px solid gray;box-sizing: border-box;top: 0;bottom: 0;left: 50%;z-index: 0;}#sk-container-id-3 div.sk-serial {display: flex;flex-direction: column;align-items: center;background-color: white;padding-right: 0.2em;padding-left: 0.2em;position: relative;}#sk-container-id-3 div.sk-item {position: relative;z-index: 1;}#sk-container-id-3 div.sk-parallel {display: flex;align-items: stretch;justify-content: center;background-color: white;position: relative;}#sk-container-id-3 div.sk-item::before, #sk-container-id-3 div.sk-parallel-item::before {content: \"\";position: absolute;border-left: 1px solid gray;box-sizing: border-box;top: 0;bottom: 0;left: 50%;z-index: -1;}#sk-container-id-3 div.sk-parallel-item {display: flex;flex-direction: column;z-index: 1;position: relative;background-color: white;}#sk-container-id-3 div.sk-parallel-item:first-child::after {align-self: flex-end;width: 50%;}#sk-container-id-3 div.sk-parallel-item:last-child::after {align-self: flex-start;width: 50%;}#sk-container-id-3 div.sk-parallel-item:only-child::after {width: 0;}#sk-container-id-3 div.sk-dashed-wrapped {border: 1px dashed gray;margin: 0 0.4em 0.5em 0.4em;box-sizing: border-box;padding-bottom: 0.4em;background-color: white;}#sk-container-id-3 div.sk-label label {font-family: monospace;font-weight: bold;display: inline-block;line-height: 1.2em;}#sk-container-id-3 div.sk-label-container {text-align: center;}#sk-container-id-3 div.sk-container {/* jupyter's `normalize.less` sets `[hidden] { display: none; }` but bootstrap.min.css set `[hidden] { display: none !important; }` so we also need the `!important` here to be able to override the default hidden behavior on the sphinx rendered scikit-learn.org. See: https://github.com/scikit-learn/scikit-learn/issues/21755 */display: inline-block !important;position: relative;}#sk-container-id-3 div.sk-text-repr-fallback {display: none;}</style><div id=\"sk-container-id-3\" class=\"sk-top-container\"><div class=\"sk-text-repr-fallback\"><pre>GridSearchCV(cv=5, estimator=RandomForestClassifier(random_state=94), n_jobs=-1,\n",
       "             param_grid={&#x27;max_depth&#x27;: [None, 10, 20, 30],\n",
       "                         &#x27;max_features&#x27;: [&#x27;sqrt&#x27;, &#x27;log2&#x27;, None],\n",
       "                         &#x27;n_estimators&#x27;: [100, 200, 300]},\n",
       "             verbose=1)</pre><b>In a Jupyter environment, please rerun this cell to show the HTML representation or trust the notebook. <br />On GitHub, the HTML representation is unable to render, please try loading this page with nbviewer.org.</b></div><div class=\"sk-container\" hidden><div class=\"sk-item sk-dashed-wrapped\"><div class=\"sk-label-container\"><div class=\"sk-label sk-toggleable\"><input class=\"sk-toggleable__control sk-hidden--visually\" id=\"sk-estimator-id-7\" type=\"checkbox\" ><label for=\"sk-estimator-id-7\" class=\"sk-toggleable__label sk-toggleable__label-arrow\">GridSearchCV</label><div class=\"sk-toggleable__content\"><pre>GridSearchCV(cv=5, estimator=RandomForestClassifier(random_state=94), n_jobs=-1,\n",
       "             param_grid={&#x27;max_depth&#x27;: [None, 10, 20, 30],\n",
       "                         &#x27;max_features&#x27;: [&#x27;sqrt&#x27;, &#x27;log2&#x27;, None],\n",
       "                         &#x27;n_estimators&#x27;: [100, 200, 300]},\n",
       "             verbose=1)</pre></div></div></div><div class=\"sk-parallel\"><div class=\"sk-parallel-item\"><div class=\"sk-item\"><div class=\"sk-label-container\"><div class=\"sk-label sk-toggleable\"><input class=\"sk-toggleable__control sk-hidden--visually\" id=\"sk-estimator-id-8\" type=\"checkbox\" ><label for=\"sk-estimator-id-8\" class=\"sk-toggleable__label sk-toggleable__label-arrow\">estimator: RandomForestClassifier</label><div class=\"sk-toggleable__content\"><pre>RandomForestClassifier(random_state=94)</pre></div></div></div><div class=\"sk-serial\"><div class=\"sk-item\"><div class=\"sk-estimator sk-toggleable\"><input class=\"sk-toggleable__control sk-hidden--visually\" id=\"sk-estimator-id-9\" type=\"checkbox\" ><label for=\"sk-estimator-id-9\" class=\"sk-toggleable__label sk-toggleable__label-arrow\">RandomForestClassifier</label><div class=\"sk-toggleable__content\"><pre>RandomForestClassifier(random_state=94)</pre></div></div></div></div></div></div></div></div></div></div>"
      ],
      "text/plain": [
       "GridSearchCV(cv=5, estimator=RandomForestClassifier(random_state=94), n_jobs=-1,\n",
       "             param_grid={'max_depth': [None, 10, 20, 30],\n",
       "                         'max_features': ['sqrt', 'log2', None],\n",
       "                         'n_estimators': [100, 200, 300]},\n",
       "             verbose=1)"
      ]
     },
     "execution_count": 39,
     "metadata": {},
     "output_type": "execute_result"
    }
   ],
   "source": [
    "rf_model_v1 = GridSearchCV(RandomForestClassifier(random_state=rep_seed),\n",
    "                            param_grid = rf_grid_v1,\n",
    "                            cv=5,\n",
    "                            verbose=1,\n",
    "                            n_jobs=-1)\n",
    "\n",
    "# ajuste modelo\n",
    "rf_model_v1.fit(X_train_scaled, y_train)"
   ]
  },
  {
   "cell_type": "code",
   "execution_count": 40,
   "metadata": {},
   "outputs": [
    {
     "data": {
      "text/plain": [
       "{'max_depth': 30, 'max_features': 'log2', 'n_estimators': 300}"
      ]
     },
     "execution_count": 40,
     "metadata": {},
     "output_type": "execute_result"
    }
   ],
   "source": [
    "rf_model_v1.best_params_"
   ]
  },
  {
   "cell_type": "code",
   "execution_count": 41,
   "metadata": {},
   "outputs": [
    {
     "name": "stdout",
     "output_type": "stream",
     "text": [
      "Matriz de confusión random forest, testing:\n",
      " [[5445  634]\n",
      " [2384 1437]] \n",
      "\n",
      " ------------------------------------------------------- \n",
      "\n",
      "Classification_report training random forest:\n",
      "               precision    recall  f1-score   support\n",
      "\n",
      "           0       0.74      0.94      0.83     12394\n",
      "           1       0.84      0.46      0.60      7706\n",
      "\n",
      "    accuracy                           0.76     20100\n",
      "   macro avg       0.79      0.70      0.71     20100\n",
      "weighted avg       0.78      0.76      0.74     20100\n",
      " \n",
      " ------------------------------------------------------- \n",
      "\n",
      "Classification_report testing random forest:\n",
      "               precision    recall  f1-score   support\n",
      "\n",
      "           0       0.70      0.90      0.78      6079\n",
      "           1       0.69      0.38      0.49      3821\n",
      "\n",
      "    accuracy                           0.70      9900\n",
      "   macro avg       0.69      0.64      0.64      9900\n",
      "weighted avg       0.69      0.70      0.67      9900\n",
      "\n"
     ]
    }
   ],
   "source": [
    "# predicciones train y test\n",
    "rf_yhat_train_v1 = rf_model_v1.predict(X_train_scaled)\n",
    "rf_yhat_test_v1 = rf_model_v1.predict(X_test_scaled)\n",
    "\n",
    "# métricas\n",
    "print_metricas(y_train=y_train, model_yhat_train=rf_yhat_train_v1, model_yhat_test=rf_yhat_test_v1, name_model='random forest')"
   ]
  },
  {
   "attachments": {},
   "cell_type": "markdown",
   "metadata": {},
   "source": [
    "## MODELO 1 LDA"
   ]
  },
  {
   "cell_type": "code",
   "execution_count": 42,
   "metadata": {},
   "outputs": [
    {
     "name": "stdout",
     "output_type": "stream",
     "text": [
      "Fitting 5 folds for each of 18 candidates, totalling 90 fits\n"
     ]
    },
    {
     "data": {
      "text/html": [
       "<style>#sk-container-id-4 {color: black;background-color: white;}#sk-container-id-4 pre{padding: 0;}#sk-container-id-4 div.sk-toggleable {background-color: white;}#sk-container-id-4 label.sk-toggleable__label {cursor: pointer;display: block;width: 100%;margin-bottom: 0;padding: 0.3em;box-sizing: border-box;text-align: center;}#sk-container-id-4 label.sk-toggleable__label-arrow:before {content: \"▸\";float: left;margin-right: 0.25em;color: #696969;}#sk-container-id-4 label.sk-toggleable__label-arrow:hover:before {color: black;}#sk-container-id-4 div.sk-estimator:hover label.sk-toggleable__label-arrow:before {color: black;}#sk-container-id-4 div.sk-toggleable__content {max-height: 0;max-width: 0;overflow: hidden;text-align: left;background-color: #f0f8ff;}#sk-container-id-4 div.sk-toggleable__content pre {margin: 0.2em;color: black;border-radius: 0.25em;background-color: #f0f8ff;}#sk-container-id-4 input.sk-toggleable__control:checked~div.sk-toggleable__content {max-height: 200px;max-width: 100%;overflow: auto;}#sk-container-id-4 input.sk-toggleable__control:checked~label.sk-toggleable__label-arrow:before {content: \"▾\";}#sk-container-id-4 div.sk-estimator input.sk-toggleable__control:checked~label.sk-toggleable__label {background-color: #d4ebff;}#sk-container-id-4 div.sk-label input.sk-toggleable__control:checked~label.sk-toggleable__label {background-color: #d4ebff;}#sk-container-id-4 input.sk-hidden--visually {border: 0;clip: rect(1px 1px 1px 1px);clip: rect(1px, 1px, 1px, 1px);height: 1px;margin: -1px;overflow: hidden;padding: 0;position: absolute;width: 1px;}#sk-container-id-4 div.sk-estimator {font-family: monospace;background-color: #f0f8ff;border: 1px dotted black;border-radius: 0.25em;box-sizing: border-box;margin-bottom: 0.5em;}#sk-container-id-4 div.sk-estimator:hover {background-color: #d4ebff;}#sk-container-id-4 div.sk-parallel-item::after {content: \"\";width: 100%;border-bottom: 1px solid gray;flex-grow: 1;}#sk-container-id-4 div.sk-label:hover label.sk-toggleable__label {background-color: #d4ebff;}#sk-container-id-4 div.sk-serial::before {content: \"\";position: absolute;border-left: 1px solid gray;box-sizing: border-box;top: 0;bottom: 0;left: 50%;z-index: 0;}#sk-container-id-4 div.sk-serial {display: flex;flex-direction: column;align-items: center;background-color: white;padding-right: 0.2em;padding-left: 0.2em;position: relative;}#sk-container-id-4 div.sk-item {position: relative;z-index: 1;}#sk-container-id-4 div.sk-parallel {display: flex;align-items: stretch;justify-content: center;background-color: white;position: relative;}#sk-container-id-4 div.sk-item::before, #sk-container-id-4 div.sk-parallel-item::before {content: \"\";position: absolute;border-left: 1px solid gray;box-sizing: border-box;top: 0;bottom: 0;left: 50%;z-index: -1;}#sk-container-id-4 div.sk-parallel-item {display: flex;flex-direction: column;z-index: 1;position: relative;background-color: white;}#sk-container-id-4 div.sk-parallel-item:first-child::after {align-self: flex-end;width: 50%;}#sk-container-id-4 div.sk-parallel-item:last-child::after {align-self: flex-start;width: 50%;}#sk-container-id-4 div.sk-parallel-item:only-child::after {width: 0;}#sk-container-id-4 div.sk-dashed-wrapped {border: 1px dashed gray;margin: 0 0.4em 0.5em 0.4em;box-sizing: border-box;padding-bottom: 0.4em;background-color: white;}#sk-container-id-4 div.sk-label label {font-family: monospace;font-weight: bold;display: inline-block;line-height: 1.2em;}#sk-container-id-4 div.sk-label-container {text-align: center;}#sk-container-id-4 div.sk-container {/* jupyter's `normalize.less` sets `[hidden] { display: none; }` but bootstrap.min.css set `[hidden] { display: none !important; }` so we also need the `!important` here to be able to override the default hidden behavior on the sphinx rendered scikit-learn.org. See: https://github.com/scikit-learn/scikit-learn/issues/21755 */display: inline-block !important;position: relative;}#sk-container-id-4 div.sk-text-repr-fallback {display: none;}</style><div id=\"sk-container-id-4\" class=\"sk-top-container\"><div class=\"sk-text-repr-fallback\"><pre>GridSearchCV(cv=5, estimator=LinearDiscriminantAnalysis(), n_jobs=-1,\n",
       "             param_grid={&#x27;priors&#x27;: [None, [0.1, 0.9], [0.3, 0.7], [0.5, 0.5],\n",
       "                                    [0.7, 0.3], [0.9, 0.1]],\n",
       "                         &#x27;solver&#x27;: [&#x27;svd&#x27;], &#x27;tol&#x27;: [0.0001, 0.001, 0.01]},\n",
       "             verbose=1)</pre><b>In a Jupyter environment, please rerun this cell to show the HTML representation or trust the notebook. <br />On GitHub, the HTML representation is unable to render, please try loading this page with nbviewer.org.</b></div><div class=\"sk-container\" hidden><div class=\"sk-item sk-dashed-wrapped\"><div class=\"sk-label-container\"><div class=\"sk-label sk-toggleable\"><input class=\"sk-toggleable__control sk-hidden--visually\" id=\"sk-estimator-id-10\" type=\"checkbox\" ><label for=\"sk-estimator-id-10\" class=\"sk-toggleable__label sk-toggleable__label-arrow\">GridSearchCV</label><div class=\"sk-toggleable__content\"><pre>GridSearchCV(cv=5, estimator=LinearDiscriminantAnalysis(), n_jobs=-1,\n",
       "             param_grid={&#x27;priors&#x27;: [None, [0.1, 0.9], [0.3, 0.7], [0.5, 0.5],\n",
       "                                    [0.7, 0.3], [0.9, 0.1]],\n",
       "                         &#x27;solver&#x27;: [&#x27;svd&#x27;], &#x27;tol&#x27;: [0.0001, 0.001, 0.01]},\n",
       "             verbose=1)</pre></div></div></div><div class=\"sk-parallel\"><div class=\"sk-parallel-item\"><div class=\"sk-item\"><div class=\"sk-label-container\"><div class=\"sk-label sk-toggleable\"><input class=\"sk-toggleable__control sk-hidden--visually\" id=\"sk-estimator-id-11\" type=\"checkbox\" ><label for=\"sk-estimator-id-11\" class=\"sk-toggleable__label sk-toggleable__label-arrow\">estimator: LinearDiscriminantAnalysis</label><div class=\"sk-toggleable__content\"><pre>LinearDiscriminantAnalysis()</pre></div></div></div><div class=\"sk-serial\"><div class=\"sk-item\"><div class=\"sk-estimator sk-toggleable\"><input class=\"sk-toggleable__control sk-hidden--visually\" id=\"sk-estimator-id-12\" type=\"checkbox\" ><label for=\"sk-estimator-id-12\" class=\"sk-toggleable__label sk-toggleable__label-arrow\">LinearDiscriminantAnalysis</label><div class=\"sk-toggleable__content\"><pre>LinearDiscriminantAnalysis()</pre></div></div></div></div></div></div></div></div></div></div>"
      ],
      "text/plain": [
       "GridSearchCV(cv=5, estimator=LinearDiscriminantAnalysis(), n_jobs=-1,\n",
       "             param_grid={'priors': [None, [0.1, 0.9], [0.3, 0.7], [0.5, 0.5],\n",
       "                                    [0.7, 0.3], [0.9, 0.1]],\n",
       "                         'solver': ['svd'], 'tol': [0.0001, 0.001, 0.01]},\n",
       "             verbose=1)"
      ]
     },
     "execution_count": 42,
     "metadata": {},
     "output_type": "execute_result"
    }
   ],
   "source": [
    "lda_model_v1 = GridSearchCV(LinearDiscriminantAnalysis(),\n",
    "                            param_grid = lda_grid_v1,\n",
    "                            cv=5,\n",
    "                            verbose=1,\n",
    "                            n_jobs=-1)\n",
    "\n",
    "# ajuste modelo\n",
    "lda_model_v1.fit(X_train_scaled, y_train)"
   ]
  },
  {
   "cell_type": "code",
   "execution_count": 43,
   "metadata": {},
   "outputs": [
    {
     "data": {
      "text/plain": [
       "{'priors': None, 'solver': 'svd', 'tol': 0.0001}"
      ]
     },
     "execution_count": 43,
     "metadata": {},
     "output_type": "execute_result"
    }
   ],
   "source": [
    "lda_model_v1.best_params_"
   ]
  },
  {
   "cell_type": "code",
   "execution_count": 44,
   "metadata": {},
   "outputs": [
    {
     "name": "stdout",
     "output_type": "stream",
     "text": [
      "Matriz de confusión lda, testing:\n",
      " [[5426  653]\n",
      " [2315 1506]] \n",
      "\n",
      " ------------------------------------------------------- \n",
      "\n",
      "Classification_report training lda:\n",
      "               precision    recall  f1-score   support\n",
      "\n",
      "           0       0.71      0.89      0.79     12394\n",
      "           1       0.70      0.41      0.52      7706\n",
      "\n",
      "    accuracy                           0.71     20100\n",
      "   macro avg       0.70      0.65      0.65     20100\n",
      "weighted avg       0.71      0.71      0.69     20100\n",
      " \n",
      " ------------------------------------------------------- \n",
      "\n",
      "Classification_report testing lda:\n",
      "               precision    recall  f1-score   support\n",
      "\n",
      "           0       0.70      0.89      0.79      6079\n",
      "           1       0.70      0.39      0.50      3821\n",
      "\n",
      "    accuracy                           0.70      9900\n",
      "   macro avg       0.70      0.64      0.64      9900\n",
      "weighted avg       0.70      0.70      0.68      9900\n",
      "\n"
     ]
    }
   ],
   "source": [
    "# predicciones train y test\n",
    "lda_yhat_train_v1 = lda_model_v1.predict(X_train_scaled)\n",
    "lda_yhat_test_v1 = lda_model_v1.predict(X_test_scaled)\n",
    "\n",
    "# métricas\n",
    "print_metricas(y_train=y_train, model_yhat_train=lda_yhat_train_v1, model_yhat_test=lda_yhat_test_v1, name_model='lda')"
   ]
  },
  {
   "attachments": {},
   "cell_type": "markdown",
   "metadata": {},
   "source": [
    "## MODELO 1 BernoulliNB"
   ]
  },
  {
   "cell_type": "code",
   "execution_count": 45,
   "metadata": {},
   "outputs": [
    {
     "name": "stdout",
     "output_type": "stream",
     "text": [
      "Fitting 5 folds for each of 32 candidates, totalling 160 fits\n"
     ]
    },
    {
     "data": {
      "text/html": [
       "<style>#sk-container-id-5 {color: black;background-color: white;}#sk-container-id-5 pre{padding: 0;}#sk-container-id-5 div.sk-toggleable {background-color: white;}#sk-container-id-5 label.sk-toggleable__label {cursor: pointer;display: block;width: 100%;margin-bottom: 0;padding: 0.3em;box-sizing: border-box;text-align: center;}#sk-container-id-5 label.sk-toggleable__label-arrow:before {content: \"▸\";float: left;margin-right: 0.25em;color: #696969;}#sk-container-id-5 label.sk-toggleable__label-arrow:hover:before {color: black;}#sk-container-id-5 div.sk-estimator:hover label.sk-toggleable__label-arrow:before {color: black;}#sk-container-id-5 div.sk-toggleable__content {max-height: 0;max-width: 0;overflow: hidden;text-align: left;background-color: #f0f8ff;}#sk-container-id-5 div.sk-toggleable__content pre {margin: 0.2em;color: black;border-radius: 0.25em;background-color: #f0f8ff;}#sk-container-id-5 input.sk-toggleable__control:checked~div.sk-toggleable__content {max-height: 200px;max-width: 100%;overflow: auto;}#sk-container-id-5 input.sk-toggleable__control:checked~label.sk-toggleable__label-arrow:before {content: \"▾\";}#sk-container-id-5 div.sk-estimator input.sk-toggleable__control:checked~label.sk-toggleable__label {background-color: #d4ebff;}#sk-container-id-5 div.sk-label input.sk-toggleable__control:checked~label.sk-toggleable__label {background-color: #d4ebff;}#sk-container-id-5 input.sk-hidden--visually {border: 0;clip: rect(1px 1px 1px 1px);clip: rect(1px, 1px, 1px, 1px);height: 1px;margin: -1px;overflow: hidden;padding: 0;position: absolute;width: 1px;}#sk-container-id-5 div.sk-estimator {font-family: monospace;background-color: #f0f8ff;border: 1px dotted black;border-radius: 0.25em;box-sizing: border-box;margin-bottom: 0.5em;}#sk-container-id-5 div.sk-estimator:hover {background-color: #d4ebff;}#sk-container-id-5 div.sk-parallel-item::after {content: \"\";width: 100%;border-bottom: 1px solid gray;flex-grow: 1;}#sk-container-id-5 div.sk-label:hover label.sk-toggleable__label {background-color: #d4ebff;}#sk-container-id-5 div.sk-serial::before {content: \"\";position: absolute;border-left: 1px solid gray;box-sizing: border-box;top: 0;bottom: 0;left: 50%;z-index: 0;}#sk-container-id-5 div.sk-serial {display: flex;flex-direction: column;align-items: center;background-color: white;padding-right: 0.2em;padding-left: 0.2em;position: relative;}#sk-container-id-5 div.sk-item {position: relative;z-index: 1;}#sk-container-id-5 div.sk-parallel {display: flex;align-items: stretch;justify-content: center;background-color: white;position: relative;}#sk-container-id-5 div.sk-item::before, #sk-container-id-5 div.sk-parallel-item::before {content: \"\";position: absolute;border-left: 1px solid gray;box-sizing: border-box;top: 0;bottom: 0;left: 50%;z-index: -1;}#sk-container-id-5 div.sk-parallel-item {display: flex;flex-direction: column;z-index: 1;position: relative;background-color: white;}#sk-container-id-5 div.sk-parallel-item:first-child::after {align-self: flex-end;width: 50%;}#sk-container-id-5 div.sk-parallel-item:last-child::after {align-self: flex-start;width: 50%;}#sk-container-id-5 div.sk-parallel-item:only-child::after {width: 0;}#sk-container-id-5 div.sk-dashed-wrapped {border: 1px dashed gray;margin: 0 0.4em 0.5em 0.4em;box-sizing: border-box;padding-bottom: 0.4em;background-color: white;}#sk-container-id-5 div.sk-label label {font-family: monospace;font-weight: bold;display: inline-block;line-height: 1.2em;}#sk-container-id-5 div.sk-label-container {text-align: center;}#sk-container-id-5 div.sk-container {/* jupyter's `normalize.less` sets `[hidden] { display: none; }` but bootstrap.min.css set `[hidden] { display: none !important; }` so we also need the `!important` here to be able to override the default hidden behavior on the sphinx rendered scikit-learn.org. See: https://github.com/scikit-learn/scikit-learn/issues/21755 */display: inline-block !important;position: relative;}#sk-container-id-5 div.sk-text-repr-fallback {display: none;}</style><div id=\"sk-container-id-5\" class=\"sk-top-container\"><div class=\"sk-text-repr-fallback\"><pre>GridSearchCV(cv=5, estimator=BernoulliNB(), n_jobs=-1,\n",
       "             param_grid={&#x27;alpha&#x27;: [0.001, 0.01, 0.1, 1.0],\n",
       "                         &#x27;binarize&#x27;: [None, 0.1, 0.5, 0.9],\n",
       "                         &#x27;fit_prior&#x27;: [True, False]},\n",
       "             verbose=1)</pre><b>In a Jupyter environment, please rerun this cell to show the HTML representation or trust the notebook. <br />On GitHub, the HTML representation is unable to render, please try loading this page with nbviewer.org.</b></div><div class=\"sk-container\" hidden><div class=\"sk-item sk-dashed-wrapped\"><div class=\"sk-label-container\"><div class=\"sk-label sk-toggleable\"><input class=\"sk-toggleable__control sk-hidden--visually\" id=\"sk-estimator-id-13\" type=\"checkbox\" ><label for=\"sk-estimator-id-13\" class=\"sk-toggleable__label sk-toggleable__label-arrow\">GridSearchCV</label><div class=\"sk-toggleable__content\"><pre>GridSearchCV(cv=5, estimator=BernoulliNB(), n_jobs=-1,\n",
       "             param_grid={&#x27;alpha&#x27;: [0.001, 0.01, 0.1, 1.0],\n",
       "                         &#x27;binarize&#x27;: [None, 0.1, 0.5, 0.9],\n",
       "                         &#x27;fit_prior&#x27;: [True, False]},\n",
       "             verbose=1)</pre></div></div></div><div class=\"sk-parallel\"><div class=\"sk-parallel-item\"><div class=\"sk-item\"><div class=\"sk-label-container\"><div class=\"sk-label sk-toggleable\"><input class=\"sk-toggleable__control sk-hidden--visually\" id=\"sk-estimator-id-14\" type=\"checkbox\" ><label for=\"sk-estimator-id-14\" class=\"sk-toggleable__label sk-toggleable__label-arrow\">estimator: BernoulliNB</label><div class=\"sk-toggleable__content\"><pre>BernoulliNB()</pre></div></div></div><div class=\"sk-serial\"><div class=\"sk-item\"><div class=\"sk-estimator sk-toggleable\"><input class=\"sk-toggleable__control sk-hidden--visually\" id=\"sk-estimator-id-15\" type=\"checkbox\" ><label for=\"sk-estimator-id-15\" class=\"sk-toggleable__label sk-toggleable__label-arrow\">BernoulliNB</label><div class=\"sk-toggleable__content\"><pre>BernoulliNB()</pre></div></div></div></div></div></div></div></div></div></div>"
      ],
      "text/plain": [
       "GridSearchCV(cv=5, estimator=BernoulliNB(), n_jobs=-1,\n",
       "             param_grid={'alpha': [0.001, 0.01, 0.1, 1.0],\n",
       "                         'binarize': [None, 0.1, 0.5, 0.9],\n",
       "                         'fit_prior': [True, False]},\n",
       "             verbose=1)"
      ]
     },
     "execution_count": 45,
     "metadata": {},
     "output_type": "execute_result"
    }
   ],
   "source": [
    "bernoulli_nb_model_v1 = GridSearchCV(BernoulliNB(),\n",
    "                                    param_grid = bernoulli_nb_grid_v1,\n",
    "                                    cv=5,\n",
    "                                    verbose=1,\n",
    "                                    n_jobs=-1)\n",
    "                                \n",
    "# ajuste modelo\n",
    "bernoulli_nb_model_v1.fit(X_train_scaled, y_train)"
   ]
  },
  {
   "cell_type": "code",
   "execution_count": 46,
   "metadata": {},
   "outputs": [
    {
     "data": {
      "text/plain": [
       "{'alpha': 0.001, 'binarize': 0.1, 'fit_prior': True}"
      ]
     },
     "execution_count": 46,
     "metadata": {},
     "output_type": "execute_result"
    }
   ],
   "source": [
    "bernoulli_nb_model_v1.best_params_"
   ]
  },
  {
   "cell_type": "code",
   "execution_count": 47,
   "metadata": {},
   "outputs": [
    {
     "name": "stdout",
     "output_type": "stream",
     "text": [
      "Matriz de confusión bernoulli_nb, testing:\n",
      " [[5349  730]\n",
      " [2269 1552]] \n",
      "\n",
      " ------------------------------------------------------- \n",
      "\n",
      "Classification_report training bernoulli_nb:\n",
      "               precision    recall  f1-score   support\n",
      "\n",
      "           0       0.71      0.88      0.79     12394\n",
      "           1       0.69      0.42      0.53      7706\n",
      "\n",
      "    accuracy                           0.71     20100\n",
      "   macro avg       0.70      0.65      0.66     20100\n",
      "weighted avg       0.70      0.71      0.69     20100\n",
      " \n",
      " ------------------------------------------------------- \n",
      "\n",
      "Classification_report testing bernoulli_nb:\n",
      "               precision    recall  f1-score   support\n",
      "\n",
      "           0       0.70      0.88      0.78      6079\n",
      "           1       0.68      0.41      0.51      3821\n",
      "\n",
      "    accuracy                           0.70      9900\n",
      "   macro avg       0.69      0.64      0.64      9900\n",
      "weighted avg       0.69      0.70      0.68      9900\n",
      "\n"
     ]
    }
   ],
   "source": [
    "# predicciones train y test\n",
    "bernoulli_nb_yhat_train_v1 = bernoulli_nb_model_v1.predict(X_train_scaled)\n",
    "bernoulli_nb_yhat_test_v1 = bernoulli_nb_model_v1.predict(X_test_scaled)\n",
    "\n",
    "# métricas\n",
    "print_metricas(y_train=y_train, model_yhat_train=bernoulli_nb_yhat_train_v1, model_yhat_test=bernoulli_nb_yhat_test_v1, name_model='bernoulli_nb')"
   ]
  },
  {
   "attachments": {},
   "cell_type": "markdown",
   "metadata": {},
   "source": [
    "## MODELO 1 Logistic Regression"
   ]
  },
  {
   "cell_type": "code",
   "execution_count": 48,
   "metadata": {},
   "outputs": [
    {
     "name": "stdout",
     "output_type": "stream",
     "text": [
      "Fitting 5 folds for each of 32 candidates, totalling 160 fits\n"
     ]
    },
    {
     "data": {
      "text/html": [
       "<style>#sk-container-id-6 {color: black;background-color: white;}#sk-container-id-6 pre{padding: 0;}#sk-container-id-6 div.sk-toggleable {background-color: white;}#sk-container-id-6 label.sk-toggleable__label {cursor: pointer;display: block;width: 100%;margin-bottom: 0;padding: 0.3em;box-sizing: border-box;text-align: center;}#sk-container-id-6 label.sk-toggleable__label-arrow:before {content: \"▸\";float: left;margin-right: 0.25em;color: #696969;}#sk-container-id-6 label.sk-toggleable__label-arrow:hover:before {color: black;}#sk-container-id-6 div.sk-estimator:hover label.sk-toggleable__label-arrow:before {color: black;}#sk-container-id-6 div.sk-toggleable__content {max-height: 0;max-width: 0;overflow: hidden;text-align: left;background-color: #f0f8ff;}#sk-container-id-6 div.sk-toggleable__content pre {margin: 0.2em;color: black;border-radius: 0.25em;background-color: #f0f8ff;}#sk-container-id-6 input.sk-toggleable__control:checked~div.sk-toggleable__content {max-height: 200px;max-width: 100%;overflow: auto;}#sk-container-id-6 input.sk-toggleable__control:checked~label.sk-toggleable__label-arrow:before {content: \"▾\";}#sk-container-id-6 div.sk-estimator input.sk-toggleable__control:checked~label.sk-toggleable__label {background-color: #d4ebff;}#sk-container-id-6 div.sk-label input.sk-toggleable__control:checked~label.sk-toggleable__label {background-color: #d4ebff;}#sk-container-id-6 input.sk-hidden--visually {border: 0;clip: rect(1px 1px 1px 1px);clip: rect(1px, 1px, 1px, 1px);height: 1px;margin: -1px;overflow: hidden;padding: 0;position: absolute;width: 1px;}#sk-container-id-6 div.sk-estimator {font-family: monospace;background-color: #f0f8ff;border: 1px dotted black;border-radius: 0.25em;box-sizing: border-box;margin-bottom: 0.5em;}#sk-container-id-6 div.sk-estimator:hover {background-color: #d4ebff;}#sk-container-id-6 div.sk-parallel-item::after {content: \"\";width: 100%;border-bottom: 1px solid gray;flex-grow: 1;}#sk-container-id-6 div.sk-label:hover label.sk-toggleable__label {background-color: #d4ebff;}#sk-container-id-6 div.sk-serial::before {content: \"\";position: absolute;border-left: 1px solid gray;box-sizing: border-box;top: 0;bottom: 0;left: 50%;z-index: 0;}#sk-container-id-6 div.sk-serial {display: flex;flex-direction: column;align-items: center;background-color: white;padding-right: 0.2em;padding-left: 0.2em;position: relative;}#sk-container-id-6 div.sk-item {position: relative;z-index: 1;}#sk-container-id-6 div.sk-parallel {display: flex;align-items: stretch;justify-content: center;background-color: white;position: relative;}#sk-container-id-6 div.sk-item::before, #sk-container-id-6 div.sk-parallel-item::before {content: \"\";position: absolute;border-left: 1px solid gray;box-sizing: border-box;top: 0;bottom: 0;left: 50%;z-index: -1;}#sk-container-id-6 div.sk-parallel-item {display: flex;flex-direction: column;z-index: 1;position: relative;background-color: white;}#sk-container-id-6 div.sk-parallel-item:first-child::after {align-self: flex-end;width: 50%;}#sk-container-id-6 div.sk-parallel-item:last-child::after {align-self: flex-start;width: 50%;}#sk-container-id-6 div.sk-parallel-item:only-child::after {width: 0;}#sk-container-id-6 div.sk-dashed-wrapped {border: 1px dashed gray;margin: 0 0.4em 0.5em 0.4em;box-sizing: border-box;padding-bottom: 0.4em;background-color: white;}#sk-container-id-6 div.sk-label label {font-family: monospace;font-weight: bold;display: inline-block;line-height: 1.2em;}#sk-container-id-6 div.sk-label-container {text-align: center;}#sk-container-id-6 div.sk-container {/* jupyter's `normalize.less` sets `[hidden] { display: none; }` but bootstrap.min.css set `[hidden] { display: none !important; }` so we also need the `!important` here to be able to override the default hidden behavior on the sphinx rendered scikit-learn.org. See: https://github.com/scikit-learn/scikit-learn/issues/21755 */display: inline-block !important;position: relative;}#sk-container-id-6 div.sk-text-repr-fallback {display: none;}</style><div id=\"sk-container-id-6\" class=\"sk-top-container\"><div class=\"sk-text-repr-fallback\"><pre>GridSearchCV(cv=5, estimator=LogisticRegression(random_state=94), n_jobs=-1,\n",
       "             param_grid={&#x27;C&#x27;: [0.1, 1, 10, 100],\n",
       "                         &#x27;class_weight&#x27;: [None, &#x27;balanced&#x27;],\n",
       "                         &#x27;fit_intercept&#x27;: [True, False],\n",
       "                         &#x27;max_iter&#x27;: [100, 500]},\n",
       "             verbose=1)</pre><b>In a Jupyter environment, please rerun this cell to show the HTML representation or trust the notebook. <br />On GitHub, the HTML representation is unable to render, please try loading this page with nbviewer.org.</b></div><div class=\"sk-container\" hidden><div class=\"sk-item sk-dashed-wrapped\"><div class=\"sk-label-container\"><div class=\"sk-label sk-toggleable\"><input class=\"sk-toggleable__control sk-hidden--visually\" id=\"sk-estimator-id-16\" type=\"checkbox\" ><label for=\"sk-estimator-id-16\" class=\"sk-toggleable__label sk-toggleable__label-arrow\">GridSearchCV</label><div class=\"sk-toggleable__content\"><pre>GridSearchCV(cv=5, estimator=LogisticRegression(random_state=94), n_jobs=-1,\n",
       "             param_grid={&#x27;C&#x27;: [0.1, 1, 10, 100],\n",
       "                         &#x27;class_weight&#x27;: [None, &#x27;balanced&#x27;],\n",
       "                         &#x27;fit_intercept&#x27;: [True, False],\n",
       "                         &#x27;max_iter&#x27;: [100, 500]},\n",
       "             verbose=1)</pre></div></div></div><div class=\"sk-parallel\"><div class=\"sk-parallel-item\"><div class=\"sk-item\"><div class=\"sk-label-container\"><div class=\"sk-label sk-toggleable\"><input class=\"sk-toggleable__control sk-hidden--visually\" id=\"sk-estimator-id-17\" type=\"checkbox\" ><label for=\"sk-estimator-id-17\" class=\"sk-toggleable__label sk-toggleable__label-arrow\">estimator: LogisticRegression</label><div class=\"sk-toggleable__content\"><pre>LogisticRegression(random_state=94)</pre></div></div></div><div class=\"sk-serial\"><div class=\"sk-item\"><div class=\"sk-estimator sk-toggleable\"><input class=\"sk-toggleable__control sk-hidden--visually\" id=\"sk-estimator-id-18\" type=\"checkbox\" ><label for=\"sk-estimator-id-18\" class=\"sk-toggleable__label sk-toggleable__label-arrow\">LogisticRegression</label><div class=\"sk-toggleable__content\"><pre>LogisticRegression(random_state=94)</pre></div></div></div></div></div></div></div></div></div></div>"
      ],
      "text/plain": [
       "GridSearchCV(cv=5, estimator=LogisticRegression(random_state=94), n_jobs=-1,\n",
       "             param_grid={'C': [0.1, 1, 10, 100],\n",
       "                         'class_weight': [None, 'balanced'],\n",
       "                         'fit_intercept': [True, False],\n",
       "                         'max_iter': [100, 500]},\n",
       "             verbose=1)"
      ]
     },
     "execution_count": 48,
     "metadata": {},
     "output_type": "execute_result"
    }
   ],
   "source": [
    "lr_model_v1 = GridSearchCV(LogisticRegression(random_state=rep_seed),\n",
    "                        param_grid=lr_grid_v1,\n",
    "                        cv=5,\n",
    "                        verbose=1,\n",
    "                        n_jobs=-1\n",
    ")\n",
    "\n",
    "# ajuste modelo\n",
    "lr_model_v1.fit(X_train_scaled, y_train)"
   ]
  },
  {
   "cell_type": "code",
   "execution_count": 49,
   "metadata": {},
   "outputs": [
    {
     "data": {
      "text/plain": [
       "{'C': 0.1, 'class_weight': None, 'fit_intercept': True, 'max_iter': 100}"
      ]
     },
     "execution_count": 49,
     "metadata": {},
     "output_type": "execute_result"
    }
   ],
   "source": [
    "lr_model_v1.best_params_"
   ]
  },
  {
   "cell_type": "code",
   "execution_count": 50,
   "metadata": {},
   "outputs": [
    {
     "name": "stdout",
     "output_type": "stream",
     "text": [
      "Matriz de confusión logistic regression, testing:\n",
      " [[5403  676]\n",
      " [2293 1528]] \n",
      "\n",
      " ------------------------------------------------------- \n",
      "\n",
      "Classification_report training logistic regression:\n",
      "               precision    recall  f1-score   support\n",
      "\n",
      "           0       0.71      0.89      0.79     12394\n",
      "           1       0.70      0.42      0.52      7706\n",
      "\n",
      "    accuracy                           0.71     20100\n",
      "   macro avg       0.70      0.65      0.66     20100\n",
      "weighted avg       0.71      0.71      0.69     20100\n",
      " \n",
      " ------------------------------------------------------- \n",
      "\n",
      "Classification_report testing logistic regression:\n",
      "               precision    recall  f1-score   support\n",
      "\n",
      "           0       0.70      0.89      0.78      6079\n",
      "           1       0.69      0.40      0.51      3821\n",
      "\n",
      "    accuracy                           0.70      9900\n",
      "   macro avg       0.70      0.64      0.65      9900\n",
      "weighted avg       0.70      0.70      0.68      9900\n",
      "\n"
     ]
    }
   ],
   "source": [
    "# predicciones train y test\n",
    "lr_yhat_train_v1 = lr_model_v1.predict(X_train_scaled)\n",
    "lr_yhat_test_v1 = lr_model_v1.predict(X_test_scaled)\n",
    "\n",
    "# métricas\n",
    "print_metricas(y_train=y_train, model_yhat_train=lr_yhat_train_v1, model_yhat_test=lr_yhat_test_v1, name_model='logistic regression')"
   ]
  },
  {
   "attachments": {},
   "cell_type": "markdown",
   "metadata": {},
   "source": [
    "    Se observa que en esta primera iteración, todos los valores de f1_score para la muestra de validación a excepción de random forest y decision tree, tienen valores entre 0.5 y 0.51 para la clase 1; y para la clase 0 estos valores varían entre 0.77 y 0.78. Para las demás métricas, los resultados son similares.\n",
    "    Random forest y decision tree presentan un puntaje f1_score para la clase 1 de 0.49.\n",
    "\n",
    "    Donde todos los modelos fallan en clasificar es en el recall. Para los datos de validación los resultados varían entre 0.38 y 0.41. Siendo esto peor que un clasificador aleatorio.\n",
    "\n",
    "    Se observa que todas las matrices de confusión para los datos de validación tienen grandes observaciones en el cuadrante que corresponde a falsos negativos (alrededor de 23%). Es decir, están clasificados como negativos cuando en realidad son positivos. Esto es concordante con la métrica recall la cual mide la proporción de casos positivos que el modelo es capaz de identificar correctamente.\n",
    "\n",
    "    Como recordatorio, la métrica accuracy mide la proporción de predicciones correctas realizadas por un modelo en relación al total de predicciones realizadas.\n",
    "    Al comparar esta métrica entre entrenamiento y validación de los modelos, no existen grandes diferencias que indiquen una baja capacidad de generalización.\n",
    "    Sin embargo, a pesar de que los modelos generalizan de manera correcta, el desempeño es mejorable, y eso es lo que se buscará en las siguientes iteraciones."
   ]
  },
  {
   "attachments": {},
   "cell_type": "markdown",
   "metadata": {},
   "source": [
    "### <span style=\"color:#87CEEB\"> Curvas ROC de la primera iteración de modelos."
   ]
  },
  {
   "cell_type": "code",
   "execution_count": 51,
   "metadata": {},
   "outputs": [
    {
     "data": {
      "image/png": "[encoded data removed]",
      "text/plain": [
       "<Figure size 1000x800 with 1 Axes>"
      ]
     },
     "metadata": {},
     "output_type": "display_data"
    }
   ],
   "source": [
    "def print_roc_auc(gb_model, dec_tree_model, rf_model, lda_model, bernoulli_nb_model, lr_model, X_test):\n",
    "    \"\"\"\n",
    "    Imprime en un solo gráfico las curvas ROC (test) y los valores AUC (test) para los modelos.\n",
    "\n",
    "    Parameters\n",
    "    ----------\n",
    "    gb_model: variable\n",
    "            modelo ajustado de Gradient Boosting Classifier\n",
    "    dec_tree_model: variable\n",
    "            modelo ajustado de Decision Tree Classifier\n",
    "    lda_model: variable\n",
    "            modelo ajustado de Linear Discriminant Analysis\n",
    "    rf_model: variable\n",
    "            modelo ajustado de Random Forest Classifier\n",
    "    bernoulli_nb_model: variable\n",
    "            modelo ajustado de BernoulliNB (NaiveBayes)\n",
    "    lr_model: variable\n",
    "            modelo ajustado de Logistic Regression\n",
    "\n",
    "    Return\n",
    "        None\n",
    "    \"\"\"\n",
    "    # Valores de probabilidad para cada modelo\n",
    "    models = [gb_model, dec_tree_model, rf_model, lda_model, bernoulli_nb_model, lr_model]\n",
    "    y_hats = [model.predict_proba(X_test)[:, 1] for model in models]\n",
    "\n",
    "    model_names = ['Gradient Boosting', 'Decision Tree', 'Random Forest', 'Linear Discriminant Analysis',\n",
    "                    'Bernoulli Naive Bayes', 'Logistic Regression']\n",
    "    fprs, tprs, labels, auc_scores = [], [], [], []\n",
    "\n",
    "    for i, y_hat in enumerate(y_hats):\n",
    "        fpr, tpr, _ = roc_curve(y_test, y_hat)\n",
    "        fprs.append(fpr)\n",
    "        tprs.append(tpr)\n",
    "        labels.append(model_names[i])\n",
    "        auc_scores.append(round(roc_auc_score(y_test, y_hat), 4))\n",
    "\n",
    "    # Curvas ROC de cada modelo\n",
    "    plt.figure(figsize=(10, 8))\n",
    "    for i in range(len(models)):\n",
    "        plt.plot(fprs[i], tprs[i], lw=1, label=f\"{labels[i]} (AUC={auc_scores[i]})\")\n",
    "    plt.plot([0, 1], [0, 1], linestyle='--', lw=2, color='gray')\n",
    "    plt.plot([0, 0], [1, 0] , c='limegreen', lw=2), plt.plot([1, 1] , c='limegreen', lw=2)\n",
    "    plt.xlabel('Falsos Positivos', fontsize=11)\n",
    "    plt.ylabel('Verdaderos Positivos', fontsize=11)\n",
    "    plt.title('Curvas ROC de modelos')\n",
    "    plt.legend()\n",
    "    plt.show()\n",
    "\n",
    "print_roc_auc(gb_model=gb_model_v1, dec_tree_model=dec_tree_model_v1, rf_model=rf_model_v1, \n",
    "            lda_model=lda_model_v1, bernoulli_nb_model=bernoulli_nb_model_v1, lr_model=lr_model_v1, X_test=X_test_scaled)\n"
   ]
  },
  {
   "attachments": {},
   "cell_type": "markdown",
   "metadata": {},
   "source": [
    "    Las curvas ROC (test) muestran que la relación entre la tasa de verdaderos positivos y falsos positivos para la clase 1 es similar en casi todos los modelos. El que más destaca por ser inferior al resto es el modelo de Decision Tree. Este obtuvo un valor de AUC de 0.6878, mientras de los demás valores están sobre 0.71. \n",
    "    A pesar que los modelos no presentan un desempeño destacable, cabe señalar que están por sobre un clasificador aleatorio, como se observa en la diagonal punteada.\n",
    "\n",
    "    En el próximo hito se intentará mejorar los desempeños de los modelos realizando un oversampling mediante SMOTE y modificando las grillas de hiperparámetros."
   ]
  },
  {
   "attachments": {},
   "cell_type": "markdown",
   "metadata": {},
   "source": [
    "#### <span style=\"color:#87CEEB\"> Archivo serializado"
   ]
  },
  {
   "cell_type": "code",
   "execution_count": 52,
   "metadata": {},
   "outputs": [],
   "source": [
    "# import pickle\n",
    "pickle.dump((# modelos ajustados\n",
    "            gb_model_v1,\n",
    "            dec_tree_model_v1,\n",
    "            rf_model_v1,\n",
    "            lda_model_v1,\n",
    "            bernoulli_nb_model_v1,\n",
    "            lr_model_v1),\n",
    "            open('modelos_hito_2_rodrigo_sepulveda_prueba_1.sav', 'wb'))"
   ]
  },
  {
   "attachments": {},
   "cell_type": "markdown",
   "metadata": {},
   "source": [
    "```python\n",
    "# Lectura archivo .sav\n",
    "read_models_hito_1 = pickle.load(open(\"modelos_hito_2_rodrigo_sepulveda_prueba_1.sav\",\"rb\"))\n",
    "\n",
    "# Guardar datos en variables correspondientes\n",
    "modelo_1, modelo_2, modelo_3, modelo_4, modelo_5, modelo_6 = read_models_hito_2\n",
    "```"
   ]
  },
  {
   "attachments": {},
   "cell_type": "markdown",
   "metadata": {},
   "source": [
    "# <span style=\"color:cyan\"> HITO 3"
   ]
  },
  {
   "attachments": {},
   "cell_type": "markdown",
   "metadata": {},
   "source": [
    "#### <span style=\"color:#87CEEB\"> Entrenar el resto de los modelos declarados mediante la búsqueda de grilla. De ser necesario, se podrá re-especificar los componentes de la grilla."
   ]
  },
  {
   "attachments": {},
   "cell_type": "markdown",
   "metadata": {},
   "source": [
    "    Como en el hito 2 se entrenaron todos los modelos a partir de grillas preliminares, ahora se realizará la iteración 2 y 3 de los modelos. Primero se realizará un oversampling (SMOTE) y calcularán las métricas con las primeras grillas, y luego ya aplicado SMOTE se modificarán los rangos de los hiperparámetros."
   ]
  },
  {
   "cell_type": "code",
   "execution_count": 53,
   "metadata": {},
   "outputs": [],
   "source": [
    "# Instanciamos la clase\n",
    "oversampler = SMOTE(random_state=rep_seed, sampling_strategy='minority')\n",
    "\n",
    "# Oversampling de los datos de entrenamiento\n",
    "X_train_oversamp, y_train_oversamp = oversampler.fit_resample(X_train_scaled, y_train)"
   ]
  },
  {
   "cell_type": "code",
   "execution_count": 54,
   "metadata": {},
   "outputs": [
    {
     "data": {
      "text/plain": [
       "0    12394\n",
       "1    12394\n",
       "Name: sentiment_bin, dtype: int64"
      ]
     },
     "execution_count": 54,
     "metadata": {},
     "output_type": "execute_result"
    }
   ],
   "source": [
    "y_train_oversamp.value_counts()"
   ]
  },
  {
   "attachments": {},
   "cell_type": "markdown",
   "metadata": {},
   "source": [
    "    Con SMOTE se generan nuevas instancias sintéticas de la clase minoritaria (clase 1). sampling_strategy='minority' se usa para igualar el número de instancias de la clase mayoritaria."
   ]
  },
  {
   "attachments": {},
   "cell_type": "markdown",
   "metadata": {},
   "source": [
    "## <span style=\"color:#87CEEB\"> Iteración 2 de los modelos"
   ]
  },
  {
   "attachments": {},
   "cell_type": "markdown",
   "metadata": {},
   "source": [
    "## MODELO 2 Gradient Boosting"
   ]
  },
  {
   "cell_type": "code",
   "execution_count": 55,
   "metadata": {},
   "outputs": [
    {
     "name": "stdout",
     "output_type": "stream",
     "text": [
      "Fitting 5 folds for each of 27 candidates, totalling 135 fits\n"
     ]
    },
    {
     "data": {
      "text/html": [
       "<style>#sk-container-id-7 {color: black;background-color: white;}#sk-container-id-7 pre{padding: 0;}#sk-container-id-7 div.sk-toggleable {background-color: white;}#sk-container-id-7 label.sk-toggleable__label {cursor: pointer;display: block;width: 100%;margin-bottom: 0;padding: 0.3em;box-sizing: border-box;text-align: center;}#sk-container-id-7 label.sk-toggleable__label-arrow:before {content: \"▸\";float: left;margin-right: 0.25em;color: #696969;}#sk-container-id-7 label.sk-toggleable__label-arrow:hover:before {color: black;}#sk-container-id-7 div.sk-estimator:hover label.sk-toggleable__label-arrow:before {color: black;}#sk-container-id-7 div.sk-toggleable__content {max-height: 0;max-width: 0;overflow: hidden;text-align: left;background-color: #f0f8ff;}#sk-container-id-7 div.sk-toggleable__content pre {margin: 0.2em;color: black;border-radius: 0.25em;background-color: #f0f8ff;}#sk-container-id-7 input.sk-toggleable__control:checked~div.sk-toggleable__content {max-height: 200px;max-width: 100%;overflow: auto;}#sk-container-id-7 input.sk-toggleable__control:checked~label.sk-toggleable__label-arrow:before {content: \"▾\";}#sk-container-id-7 div.sk-estimator input.sk-toggleable__control:checked~label.sk-toggleable__label {background-color: #d4ebff;}#sk-container-id-7 div.sk-label input.sk-toggleable__control:checked~label.sk-toggleable__label {background-color: #d4ebff;}#sk-container-id-7 input.sk-hidden--visually {border: 0;clip: rect(1px 1px 1px 1px);clip: rect(1px, 1px, 1px, 1px);height: 1px;margin: -1px;overflow: hidden;padding: 0;position: absolute;width: 1px;}#sk-container-id-7 div.sk-estimator {font-family: monospace;background-color: #f0f8ff;border: 1px dotted black;border-radius: 0.25em;box-sizing: border-box;margin-bottom: 0.5em;}#sk-container-id-7 div.sk-estimator:hover {background-color: #d4ebff;}#sk-container-id-7 div.sk-parallel-item::after {content: \"\";width: 100%;border-bottom: 1px solid gray;flex-grow: 1;}#sk-container-id-7 div.sk-label:hover label.sk-toggleable__label {background-color: #d4ebff;}#sk-container-id-7 div.sk-serial::before {content: \"\";position: absolute;border-left: 1px solid gray;box-sizing: border-box;top: 0;bottom: 0;left: 50%;z-index: 0;}#sk-container-id-7 div.sk-serial {display: flex;flex-direction: column;align-items: center;background-color: white;padding-right: 0.2em;padding-left: 0.2em;position: relative;}#sk-container-id-7 div.sk-item {position: relative;z-index: 1;}#sk-container-id-7 div.sk-parallel {display: flex;align-items: stretch;justify-content: center;background-color: white;position: relative;}#sk-container-id-7 div.sk-item::before, #sk-container-id-7 div.sk-parallel-item::before {content: \"\";position: absolute;border-left: 1px solid gray;box-sizing: border-box;top: 0;bottom: 0;left: 50%;z-index: -1;}#sk-container-id-7 div.sk-parallel-item {display: flex;flex-direction: column;z-index: 1;position: relative;background-color: white;}#sk-container-id-7 div.sk-parallel-item:first-child::after {align-self: flex-end;width: 50%;}#sk-container-id-7 div.sk-parallel-item:last-child::after {align-self: flex-start;width: 50%;}#sk-container-id-7 div.sk-parallel-item:only-child::after {width: 0;}#sk-container-id-7 div.sk-dashed-wrapped {border: 1px dashed gray;margin: 0 0.4em 0.5em 0.4em;box-sizing: border-box;padding-bottom: 0.4em;background-color: white;}#sk-container-id-7 div.sk-label label {font-family: monospace;font-weight: bold;display: inline-block;line-height: 1.2em;}#sk-container-id-7 div.sk-label-container {text-align: center;}#sk-container-id-7 div.sk-container {/* jupyter's `normalize.less` sets `[hidden] { display: none; }` but bootstrap.min.css set `[hidden] { display: none !important; }` so we also need the `!important` here to be able to override the default hidden behavior on the sphinx rendered scikit-learn.org. See: https://github.com/scikit-learn/scikit-learn/issues/21755 */display: inline-block !important;position: relative;}#sk-container-id-7 div.sk-text-repr-fallback {display: none;}</style><div id=\"sk-container-id-7\" class=\"sk-top-container\"><div class=\"sk-text-repr-fallback\"><pre>GridSearchCV(cv=5, estimator=GradientBoostingClassifier(random_state=94),\n",
       "             n_jobs=-1,\n",
       "             param_grid={&#x27;learning_rate&#x27;: [0.01, 0.1, 1],\n",
       "                         &#x27;max_depth&#x27;: [3, 5, 7],\n",
       "                         &#x27;n_estimators&#x27;: [50, 100, 200]},\n",
       "             verbose=1)</pre><b>In a Jupyter environment, please rerun this cell to show the HTML representation or trust the notebook. <br />On GitHub, the HTML representation is unable to render, please try loading this page with nbviewer.org.</b></div><div class=\"sk-container\" hidden><div class=\"sk-item sk-dashed-wrapped\"><div class=\"sk-label-container\"><div class=\"sk-label sk-toggleable\"><input class=\"sk-toggleable__control sk-hidden--visually\" id=\"sk-estimator-id-19\" type=\"checkbox\" ><label for=\"sk-estimator-id-19\" class=\"sk-toggleable__label sk-toggleable__label-arrow\">GridSearchCV</label><div class=\"sk-toggleable__content\"><pre>GridSearchCV(cv=5, estimator=GradientBoostingClassifier(random_state=94),\n",
       "             n_jobs=-1,\n",
       "             param_grid={&#x27;learning_rate&#x27;: [0.01, 0.1, 1],\n",
       "                         &#x27;max_depth&#x27;: [3, 5, 7],\n",
       "                         &#x27;n_estimators&#x27;: [50, 100, 200]},\n",
       "             verbose=1)</pre></div></div></div><div class=\"sk-parallel\"><div class=\"sk-parallel-item\"><div class=\"sk-item\"><div class=\"sk-label-container\"><div class=\"sk-label sk-toggleable\"><input class=\"sk-toggleable__control sk-hidden--visually\" id=\"sk-estimator-id-20\" type=\"checkbox\" ><label for=\"sk-estimator-id-20\" class=\"sk-toggleable__label sk-toggleable__label-arrow\">estimator: GradientBoostingClassifier</label><div class=\"sk-toggleable__content\"><pre>GradientBoostingClassifier(random_state=94)</pre></div></div></div><div class=\"sk-serial\"><div class=\"sk-item\"><div class=\"sk-estimator sk-toggleable\"><input class=\"sk-toggleable__control sk-hidden--visually\" id=\"sk-estimator-id-21\" type=\"checkbox\" ><label for=\"sk-estimator-id-21\" class=\"sk-toggleable__label sk-toggleable__label-arrow\">GradientBoostingClassifier</label><div class=\"sk-toggleable__content\"><pre>GradientBoostingClassifier(random_state=94)</pre></div></div></div></div></div></div></div></div></div></div>"
      ],
      "text/plain": [
       "GridSearchCV(cv=5, estimator=GradientBoostingClassifier(random_state=94),\n",
       "             n_jobs=-1,\n",
       "             param_grid={'learning_rate': [0.01, 0.1, 1],\n",
       "                         'max_depth': [3, 5, 7],\n",
       "                         'n_estimators': [50, 100, 200]},\n",
       "             verbose=1)"
      ]
     },
     "execution_count": 55,
     "metadata": {},
     "output_type": "execute_result"
    }
   ],
   "source": [
    "gb_model_v2 = GridSearchCV(GradientBoostingClassifier(random_state=rep_seed),\n",
    "                            param_grid = gb_grid_v1,\n",
    "                            cv=5,\n",
    "                            verbose=1,\n",
    "                            n_jobs=-1)\n",
    "\n",
    "# ajuste modelo\n",
    "gb_model_v2.fit(X_train_oversamp, y_train_oversamp)"
   ]
  },
  {
   "cell_type": "code",
   "execution_count": 56,
   "metadata": {},
   "outputs": [
    {
     "data": {
      "text/plain": [
       "{'learning_rate': 0.1, 'max_depth': 5, 'n_estimators': 200}"
      ]
     },
     "execution_count": 56,
     "metadata": {},
     "output_type": "execute_result"
    }
   ],
   "source": [
    "gb_model_v2.best_params_"
   ]
  },
  {
   "cell_type": "code",
   "execution_count": 57,
   "metadata": {},
   "outputs": [
    {
     "name": "stdout",
     "output_type": "stream",
     "text": [
      "Matriz de confusión gradient boosting, testing:\n",
      " [[5182  897]\n",
      " [2090 1731]] \n",
      "\n",
      " ------------------------------------------------------- \n",
      "\n",
      "Classification_report training gradient boosting:\n",
      "               precision    recall  f1-score   support\n",
      "\n",
      "           0       0.67      0.88      0.76     12394\n",
      "           1       0.82      0.56      0.67     12394\n",
      "\n",
      "    accuracy                           0.72     24788\n",
      "   macro avg       0.74      0.72      0.71     24788\n",
      "weighted avg       0.74      0.72      0.71     24788\n",
      " \n",
      " ------------------------------------------------------- \n",
      "\n",
      "Classification_report testing gradient boosting:\n",
      "               precision    recall  f1-score   support\n",
      "\n",
      "           0       0.71      0.85      0.78      6079\n",
      "           1       0.66      0.45      0.54      3821\n",
      "\n",
      "    accuracy                           0.70      9900\n",
      "   macro avg       0.69      0.65      0.66      9900\n",
      "weighted avg       0.69      0.70      0.68      9900\n",
      "\n"
     ]
    }
   ],
   "source": [
    "# predicciones train y test\n",
    "gb_yhat_train_v2 = gb_model_v2.predict(X_train_oversamp)\n",
    "gb_yhat_test_v2 = gb_model_v2.predict(X_test_scaled)\n",
    "\n",
    "# métricas\n",
    "print_metricas(y_train=y_train_oversamp, model_yhat_train=gb_yhat_train_v2, model_yhat_test=gb_yhat_test_v2, name_model='gradient boosting')"
   ]
  },
  {
   "attachments": {},
   "cell_type": "markdown",
   "metadata": {},
   "source": [
    "## MODELO 2 Decision Tree Classifier"
   ]
  },
  {
   "cell_type": "code",
   "execution_count": 58,
   "metadata": {},
   "outputs": [
    {
     "name": "stdout",
     "output_type": "stream",
     "text": [
      "Fitting 5 folds for each of 108 candidates, totalling 540 fits\n"
     ]
    },
    {
     "data": {
      "text/html": [
       "<style>#sk-container-id-8 {color: black;background-color: white;}#sk-container-id-8 pre{padding: 0;}#sk-container-id-8 div.sk-toggleable {background-color: white;}#sk-container-id-8 label.sk-toggleable__label {cursor: pointer;display: block;width: 100%;margin-bottom: 0;padding: 0.3em;box-sizing: border-box;text-align: center;}#sk-container-id-8 label.sk-toggleable__label-arrow:before {content: \"▸\";float: left;margin-right: 0.25em;color: #696969;}#sk-container-id-8 label.sk-toggleable__label-arrow:hover:before {color: black;}#sk-container-id-8 div.sk-estimator:hover label.sk-toggleable__label-arrow:before {color: black;}#sk-container-id-8 div.sk-toggleable__content {max-height: 0;max-width: 0;overflow: hidden;text-align: left;background-color: #f0f8ff;}#sk-container-id-8 div.sk-toggleable__content pre {margin: 0.2em;color: black;border-radius: 0.25em;background-color: #f0f8ff;}#sk-container-id-8 input.sk-toggleable__control:checked~div.sk-toggleable__content {max-height: 200px;max-width: 100%;overflow: auto;}#sk-container-id-8 input.sk-toggleable__control:checked~label.sk-toggleable__label-arrow:before {content: \"▾\";}#sk-container-id-8 div.sk-estimator input.sk-toggleable__control:checked~label.sk-toggleable__label {background-color: #d4ebff;}#sk-container-id-8 div.sk-label input.sk-toggleable__control:checked~label.sk-toggleable__label {background-color: #d4ebff;}#sk-container-id-8 input.sk-hidden--visually {border: 0;clip: rect(1px 1px 1px 1px);clip: rect(1px, 1px, 1px, 1px);height: 1px;margin: -1px;overflow: hidden;padding: 0;position: absolute;width: 1px;}#sk-container-id-8 div.sk-estimator {font-family: monospace;background-color: #f0f8ff;border: 1px dotted black;border-radius: 0.25em;box-sizing: border-box;margin-bottom: 0.5em;}#sk-container-id-8 div.sk-estimator:hover {background-color: #d4ebff;}#sk-container-id-8 div.sk-parallel-item::after {content: \"\";width: 100%;border-bottom: 1px solid gray;flex-grow: 1;}#sk-container-id-8 div.sk-label:hover label.sk-toggleable__label {background-color: #d4ebff;}#sk-container-id-8 div.sk-serial::before {content: \"\";position: absolute;border-left: 1px solid gray;box-sizing: border-box;top: 0;bottom: 0;left: 50%;z-index: 0;}#sk-container-id-8 div.sk-serial {display: flex;flex-direction: column;align-items: center;background-color: white;padding-right: 0.2em;padding-left: 0.2em;position: relative;}#sk-container-id-8 div.sk-item {position: relative;z-index: 1;}#sk-container-id-8 div.sk-parallel {display: flex;align-items: stretch;justify-content: center;background-color: white;position: relative;}#sk-container-id-8 div.sk-item::before, #sk-container-id-8 div.sk-parallel-item::before {content: \"\";position: absolute;border-left: 1px solid gray;box-sizing: border-box;top: 0;bottom: 0;left: 50%;z-index: -1;}#sk-container-id-8 div.sk-parallel-item {display: flex;flex-direction: column;z-index: 1;position: relative;background-color: white;}#sk-container-id-8 div.sk-parallel-item:first-child::after {align-self: flex-end;width: 50%;}#sk-container-id-8 div.sk-parallel-item:last-child::after {align-self: flex-start;width: 50%;}#sk-container-id-8 div.sk-parallel-item:only-child::after {width: 0;}#sk-container-id-8 div.sk-dashed-wrapped {border: 1px dashed gray;margin: 0 0.4em 0.5em 0.4em;box-sizing: border-box;padding-bottom: 0.4em;background-color: white;}#sk-container-id-8 div.sk-label label {font-family: monospace;font-weight: bold;display: inline-block;line-height: 1.2em;}#sk-container-id-8 div.sk-label-container {text-align: center;}#sk-container-id-8 div.sk-container {/* jupyter's `normalize.less` sets `[hidden] { display: none; }` but bootstrap.min.css set `[hidden] { display: none !important; }` so we also need the `!important` here to be able to override the default hidden behavior on the sphinx rendered scikit-learn.org. See: https://github.com/scikit-learn/scikit-learn/issues/21755 */display: inline-block !important;position: relative;}#sk-container-id-8 div.sk-text-repr-fallback {display: none;}</style><div id=\"sk-container-id-8\" class=\"sk-top-container\"><div class=\"sk-text-repr-fallback\"><pre>GridSearchCV(cv=5, estimator=DecisionTreeClassifier(random_state=94), n_jobs=-1,\n",
       "             param_grid={&#x27;max_depth&#x27;: [None, 1, 5, 10],\n",
       "                         &#x27;max_features&#x27;: [&#x27;sqrt&#x27;, &#x27;log2&#x27;, None],\n",
       "                         &#x27;min_samples_leaf&#x27;: [1, 3, 5],\n",
       "                         &#x27;min_samples_split&#x27;: [2, 5, 10]},\n",
       "             verbose=1)</pre><b>In a Jupyter environment, please rerun this cell to show the HTML representation or trust the notebook. <br />On GitHub, the HTML representation is unable to render, please try loading this page with nbviewer.org.</b></div><div class=\"sk-container\" hidden><div class=\"sk-item sk-dashed-wrapped\"><div class=\"sk-label-container\"><div class=\"sk-label sk-toggleable\"><input class=\"sk-toggleable__control sk-hidden--visually\" id=\"sk-estimator-id-22\" type=\"checkbox\" ><label for=\"sk-estimator-id-22\" class=\"sk-toggleable__label sk-toggleable__label-arrow\">GridSearchCV</label><div class=\"sk-toggleable__content\"><pre>GridSearchCV(cv=5, estimator=DecisionTreeClassifier(random_state=94), n_jobs=-1,\n",
       "             param_grid={&#x27;max_depth&#x27;: [None, 1, 5, 10],\n",
       "                         &#x27;max_features&#x27;: [&#x27;sqrt&#x27;, &#x27;log2&#x27;, None],\n",
       "                         &#x27;min_samples_leaf&#x27;: [1, 3, 5],\n",
       "                         &#x27;min_samples_split&#x27;: [2, 5, 10]},\n",
       "             verbose=1)</pre></div></div></div><div class=\"sk-parallel\"><div class=\"sk-parallel-item\"><div class=\"sk-item\"><div class=\"sk-label-container\"><div class=\"sk-label sk-toggleable\"><input class=\"sk-toggleable__control sk-hidden--visually\" id=\"sk-estimator-id-23\" type=\"checkbox\" ><label for=\"sk-estimator-id-23\" class=\"sk-toggleable__label sk-toggleable__label-arrow\">estimator: DecisionTreeClassifier</label><div class=\"sk-toggleable__content\"><pre>DecisionTreeClassifier(random_state=94)</pre></div></div></div><div class=\"sk-serial\"><div class=\"sk-item\"><div class=\"sk-estimator sk-toggleable\"><input class=\"sk-toggleable__control sk-hidden--visually\" id=\"sk-estimator-id-24\" type=\"checkbox\" ><label for=\"sk-estimator-id-24\" class=\"sk-toggleable__label sk-toggleable__label-arrow\">DecisionTreeClassifier</label><div class=\"sk-toggleable__content\"><pre>DecisionTreeClassifier(random_state=94)</pre></div></div></div></div></div></div></div></div></div></div>"
      ],
      "text/plain": [
       "GridSearchCV(cv=5, estimator=DecisionTreeClassifier(random_state=94), n_jobs=-1,\n",
       "             param_grid={'max_depth': [None, 1, 5, 10],\n",
       "                         'max_features': ['sqrt', 'log2', None],\n",
       "                         'min_samples_leaf': [1, 3, 5],\n",
       "                         'min_samples_split': [2, 5, 10]},\n",
       "             verbose=1)"
      ]
     },
     "execution_count": 58,
     "metadata": {},
     "output_type": "execute_result"
    }
   ],
   "source": [
    "dec_tree_model_v2 = GridSearchCV(DecisionTreeClassifier(random_state=rep_seed),\n",
    "                                param_grid = dec_tree_grid_v1,\n",
    "                                cv=5,\n",
    "                                verbose=1,\n",
    "                                n_jobs=-1)\n",
    "\n",
    "# ajuste modelo\n",
    "dec_tree_model_v2.fit(X_train_oversamp, y_train_oversamp)"
   ]
  },
  {
   "cell_type": "code",
   "execution_count": 59,
   "metadata": {},
   "outputs": [
    {
     "data": {
      "text/plain": [
       "{'max_depth': None,\n",
       " 'max_features': 'sqrt',\n",
       " 'min_samples_leaf': 3,\n",
       " 'min_samples_split': 10}"
      ]
     },
     "execution_count": 59,
     "metadata": {},
     "output_type": "execute_result"
    }
   ],
   "source": [
    "dec_tree_model_v2.best_params_"
   ]
  },
  {
   "cell_type": "code",
   "execution_count": 60,
   "metadata": {},
   "outputs": [
    {
     "name": "stdout",
     "output_type": "stream",
     "text": [
      "Matriz de confusión decision tree, testing:\n",
      " [[4799 1280]\n",
      " [1983 1838]] \n",
      "\n",
      " ------------------------------------------------------- \n",
      "\n",
      "Classification_report training decision tree:\n",
      "               precision    recall  f1-score   support\n",
      "\n",
      "           0       0.67      0.82      0.74     12394\n",
      "           1       0.77      0.59      0.67     12394\n",
      "\n",
      "    accuracy                           0.71     24788\n",
      "   macro avg       0.72      0.71      0.70     24788\n",
      "weighted avg       0.72      0.71      0.70     24788\n",
      " \n",
      " ------------------------------------------------------- \n",
      "\n",
      "Classification_report testing decision tree:\n",
      "               precision    recall  f1-score   support\n",
      "\n",
      "           0       0.71      0.79      0.75      6079\n",
      "           1       0.59      0.48      0.53      3821\n",
      "\n",
      "    accuracy                           0.67      9900\n",
      "   macro avg       0.65      0.64      0.64      9900\n",
      "weighted avg       0.66      0.67      0.66      9900\n",
      "\n"
     ]
    }
   ],
   "source": [
    "# predicciones train y test\n",
    "dec_tree_yhat_train_v2 = dec_tree_model_v2.predict(X_train_oversamp)\n",
    "dec_tree_yhat_test_v2 = dec_tree_model_v2.predict(X_test_scaled)\n",
    "\n",
    "# métricas\n",
    "print_metricas(y_train=y_train_oversamp, model_yhat_train=dec_tree_yhat_train_v2, model_yhat_test=dec_tree_yhat_test_v2, name_model='decision tree')"
   ]
  },
  {
   "attachments": {},
   "cell_type": "markdown",
   "metadata": {},
   "source": [
    "## MODELO 2 Random Forest"
   ]
  },
  {
   "cell_type": "code",
   "execution_count": 61,
   "metadata": {},
   "outputs": [
    {
     "name": "stdout",
     "output_type": "stream",
     "text": [
      "Fitting 5 folds for each of 36 candidates, totalling 180 fits\n"
     ]
    },
    {
     "data": {
      "text/html": [
       "<style>#sk-container-id-9 {color: black;background-color: white;}#sk-container-id-9 pre{padding: 0;}#sk-container-id-9 div.sk-toggleable {background-color: white;}#sk-container-id-9 label.sk-toggleable__label {cursor: pointer;display: block;width: 100%;margin-bottom: 0;padding: 0.3em;box-sizing: border-box;text-align: center;}#sk-container-id-9 label.sk-toggleable__label-arrow:before {content: \"▸\";float: left;margin-right: 0.25em;color: #696969;}#sk-container-id-9 label.sk-toggleable__label-arrow:hover:before {color: black;}#sk-container-id-9 div.sk-estimator:hover label.sk-toggleable__label-arrow:before {color: black;}#sk-container-id-9 div.sk-toggleable__content {max-height: 0;max-width: 0;overflow: hidden;text-align: left;background-color: #f0f8ff;}#sk-container-id-9 div.sk-toggleable__content pre {margin: 0.2em;color: black;border-radius: 0.25em;background-color: #f0f8ff;}#sk-container-id-9 input.sk-toggleable__control:checked~div.sk-toggleable__content {max-height: 200px;max-width: 100%;overflow: auto;}#sk-container-id-9 input.sk-toggleable__control:checked~label.sk-toggleable__label-arrow:before {content: \"▾\";}#sk-container-id-9 div.sk-estimator input.sk-toggleable__control:checked~label.sk-toggleable__label {background-color: #d4ebff;}#sk-container-id-9 div.sk-label input.sk-toggleable__control:checked~label.sk-toggleable__label {background-color: #d4ebff;}#sk-container-id-9 input.sk-hidden--visually {border: 0;clip: rect(1px 1px 1px 1px);clip: rect(1px, 1px, 1px, 1px);height: 1px;margin: -1px;overflow: hidden;padding: 0;position: absolute;width: 1px;}#sk-container-id-9 div.sk-estimator {font-family: monospace;background-color: #f0f8ff;border: 1px dotted black;border-radius: 0.25em;box-sizing: border-box;margin-bottom: 0.5em;}#sk-container-id-9 div.sk-estimator:hover {background-color: #d4ebff;}#sk-container-id-9 div.sk-parallel-item::after {content: \"\";width: 100%;border-bottom: 1px solid gray;flex-grow: 1;}#sk-container-id-9 div.sk-label:hover label.sk-toggleable__label {background-color: #d4ebff;}#sk-container-id-9 div.sk-serial::before {content: \"\";position: absolute;border-left: 1px solid gray;box-sizing: border-box;top: 0;bottom: 0;left: 50%;z-index: 0;}#sk-container-id-9 div.sk-serial {display: flex;flex-direction: column;align-items: center;background-color: white;padding-right: 0.2em;padding-left: 0.2em;position: relative;}#sk-container-id-9 div.sk-item {position: relative;z-index: 1;}#sk-container-id-9 div.sk-parallel {display: flex;align-items: stretch;justify-content: center;background-color: white;position: relative;}#sk-container-id-9 div.sk-item::before, #sk-container-id-9 div.sk-parallel-item::before {content: \"\";position: absolute;border-left: 1px solid gray;box-sizing: border-box;top: 0;bottom: 0;left: 50%;z-index: -1;}#sk-container-id-9 div.sk-parallel-item {display: flex;flex-direction: column;z-index: 1;position: relative;background-color: white;}#sk-container-id-9 div.sk-parallel-item:first-child::after {align-self: flex-end;width: 50%;}#sk-container-id-9 div.sk-parallel-item:last-child::after {align-self: flex-start;width: 50%;}#sk-container-id-9 div.sk-parallel-item:only-child::after {width: 0;}#sk-container-id-9 div.sk-dashed-wrapped {border: 1px dashed gray;margin: 0 0.4em 0.5em 0.4em;box-sizing: border-box;padding-bottom: 0.4em;background-color: white;}#sk-container-id-9 div.sk-label label {font-family: monospace;font-weight: bold;display: inline-block;line-height: 1.2em;}#sk-container-id-9 div.sk-label-container {text-align: center;}#sk-container-id-9 div.sk-container {/* jupyter's `normalize.less` sets `[hidden] { display: none; }` but bootstrap.min.css set `[hidden] { display: none !important; }` so we also need the `!important` here to be able to override the default hidden behavior on the sphinx rendered scikit-learn.org. See: https://github.com/scikit-learn/scikit-learn/issues/21755 */display: inline-block !important;position: relative;}#sk-container-id-9 div.sk-text-repr-fallback {display: none;}</style><div id=\"sk-container-id-9\" class=\"sk-top-container\"><div class=\"sk-text-repr-fallback\"><pre>GridSearchCV(cv=5, estimator=RandomForestClassifier(random_state=94), n_jobs=-1,\n",
       "             param_grid={&#x27;max_depth&#x27;: [None, 10, 20, 30],\n",
       "                         &#x27;max_features&#x27;: [&#x27;sqrt&#x27;, &#x27;log2&#x27;, None],\n",
       "                         &#x27;n_estimators&#x27;: [100, 200, 300]},\n",
       "             verbose=1)</pre><b>In a Jupyter environment, please rerun this cell to show the HTML representation or trust the notebook. <br />On GitHub, the HTML representation is unable to render, please try loading this page with nbviewer.org.</b></div><div class=\"sk-container\" hidden><div class=\"sk-item sk-dashed-wrapped\"><div class=\"sk-label-container\"><div class=\"sk-label sk-toggleable\"><input class=\"sk-toggleable__control sk-hidden--visually\" id=\"sk-estimator-id-25\" type=\"checkbox\" ><label for=\"sk-estimator-id-25\" class=\"sk-toggleable__label sk-toggleable__label-arrow\">GridSearchCV</label><div class=\"sk-toggleable__content\"><pre>GridSearchCV(cv=5, estimator=RandomForestClassifier(random_state=94), n_jobs=-1,\n",
       "             param_grid={&#x27;max_depth&#x27;: [None, 10, 20, 30],\n",
       "                         &#x27;max_features&#x27;: [&#x27;sqrt&#x27;, &#x27;log2&#x27;, None],\n",
       "                         &#x27;n_estimators&#x27;: [100, 200, 300]},\n",
       "             verbose=1)</pre></div></div></div><div class=\"sk-parallel\"><div class=\"sk-parallel-item\"><div class=\"sk-item\"><div class=\"sk-label-container\"><div class=\"sk-label sk-toggleable\"><input class=\"sk-toggleable__control sk-hidden--visually\" id=\"sk-estimator-id-26\" type=\"checkbox\" ><label for=\"sk-estimator-id-26\" class=\"sk-toggleable__label sk-toggleable__label-arrow\">estimator: RandomForestClassifier</label><div class=\"sk-toggleable__content\"><pre>RandomForestClassifier(random_state=94)</pre></div></div></div><div class=\"sk-serial\"><div class=\"sk-item\"><div class=\"sk-estimator sk-toggleable\"><input class=\"sk-toggleable__control sk-hidden--visually\" id=\"sk-estimator-id-27\" type=\"checkbox\" ><label for=\"sk-estimator-id-27\" class=\"sk-toggleable__label sk-toggleable__label-arrow\">RandomForestClassifier</label><div class=\"sk-toggleable__content\"><pre>RandomForestClassifier(random_state=94)</pre></div></div></div></div></div></div></div></div></div></div>"
      ],
      "text/plain": [
       "GridSearchCV(cv=5, estimator=RandomForestClassifier(random_state=94), n_jobs=-1,\n",
       "             param_grid={'max_depth': [None, 10, 20, 30],\n",
       "                         'max_features': ['sqrt', 'log2', None],\n",
       "                         'n_estimators': [100, 200, 300]},\n",
       "             verbose=1)"
      ]
     },
     "execution_count": 61,
     "metadata": {},
     "output_type": "execute_result"
    }
   ],
   "source": [
    "rf_model_v2 = GridSearchCV(RandomForestClassifier(random_state=rep_seed),\n",
    "                            param_grid = rf_grid_v1,\n",
    "                            cv=5,\n",
    "                            verbose=1,\n",
    "                            n_jobs=-1)\n",
    "\n",
    "# ajuste modelo\n",
    "rf_model_v2.fit(X_train_oversamp, y_train_oversamp)"
   ]
  },
  {
   "cell_type": "code",
   "execution_count": 62,
   "metadata": {},
   "outputs": [
    {
     "data": {
      "text/plain": [
       "{'max_depth': None, 'max_features': 'log2', 'n_estimators': 200}"
      ]
     },
     "execution_count": 62,
     "metadata": {},
     "output_type": "execute_result"
    }
   ],
   "source": [
    "rf_model_v2.best_params_"
   ]
  },
  {
   "cell_type": "code",
   "execution_count": 63,
   "metadata": {},
   "outputs": [
    {
     "name": "stdout",
     "output_type": "stream",
     "text": [
      "Matriz de confusión random forest, testing:\n",
      " [[4718 1361]\n",
      " [1977 1844]] \n",
      "\n",
      " ------------------------------------------------------- \n",
      "\n",
      "Classification_report training random forest:\n",
      "               precision    recall  f1-score   support\n",
      "\n",
      "           0       0.75      0.90      0.82     12394\n",
      "           1       0.87      0.71      0.78     12394\n",
      "\n",
      "    accuracy                           0.80     24788\n",
      "   macro avg       0.81      0.80      0.80     24788\n",
      "weighted avg       0.81      0.80      0.80     24788\n",
      " \n",
      " ------------------------------------------------------- \n",
      "\n",
      "Classification_report testing random forest:\n",
      "               precision    recall  f1-score   support\n",
      "\n",
      "           0       0.70      0.78      0.74      6079\n",
      "           1       0.58      0.48      0.52      3821\n",
      "\n",
      "    accuracy                           0.66      9900\n",
      "   macro avg       0.64      0.63      0.63      9900\n",
      "weighted avg       0.65      0.66      0.66      9900\n",
      "\n"
     ]
    }
   ],
   "source": [
    "# predicciones train y test\n",
    "rf_yhat_train_v2 = rf_model_v2.predict(X_train_oversamp)\n",
    "rf_yhat_test_v2 = rf_model_v2.predict(X_test_scaled)\n",
    "\n",
    "# métricas\n",
    "print_metricas(y_train=y_train_oversamp, model_yhat_train=rf_yhat_train_v2, model_yhat_test=rf_yhat_test_v2, name_model='random forest')"
   ]
  },
  {
   "attachments": {},
   "cell_type": "markdown",
   "metadata": {},
   "source": [
    "## MODELO 2 LDA"
   ]
  },
  {
   "cell_type": "code",
   "execution_count": 64,
   "metadata": {},
   "outputs": [
    {
     "name": "stdout",
     "output_type": "stream",
     "text": [
      "Fitting 5 folds for each of 18 candidates, totalling 90 fits\n"
     ]
    },
    {
     "data": {
      "text/html": [
       "<style>#sk-container-id-10 {color: black;background-color: white;}#sk-container-id-10 pre{padding: 0;}#sk-container-id-10 div.sk-toggleable {background-color: white;}#sk-container-id-10 label.sk-toggleable__label {cursor: pointer;display: block;width: 100%;margin-bottom: 0;padding: 0.3em;box-sizing: border-box;text-align: center;}#sk-container-id-10 label.sk-toggleable__label-arrow:before {content: \"▸\";float: left;margin-right: 0.25em;color: #696969;}#sk-container-id-10 label.sk-toggleable__label-arrow:hover:before {color: black;}#sk-container-id-10 div.sk-estimator:hover label.sk-toggleable__label-arrow:before {color: black;}#sk-container-id-10 div.sk-toggleable__content {max-height: 0;max-width: 0;overflow: hidden;text-align: left;background-color: #f0f8ff;}#sk-container-id-10 div.sk-toggleable__content pre {margin: 0.2em;color: black;border-radius: 0.25em;background-color: #f0f8ff;}#sk-container-id-10 input.sk-toggleable__control:checked~div.sk-toggleable__content {max-height: 200px;max-width: 100%;overflow: auto;}#sk-container-id-10 input.sk-toggleable__control:checked~label.sk-toggleable__label-arrow:before {content: \"▾\";}#sk-container-id-10 div.sk-estimator input.sk-toggleable__control:checked~label.sk-toggleable__label {background-color: #d4ebff;}#sk-container-id-10 div.sk-label input.sk-toggleable__control:checked~label.sk-toggleable__label {background-color: #d4ebff;}#sk-container-id-10 input.sk-hidden--visually {border: 0;clip: rect(1px 1px 1px 1px);clip: rect(1px, 1px, 1px, 1px);height: 1px;margin: -1px;overflow: hidden;padding: 0;position: absolute;width: 1px;}#sk-container-id-10 div.sk-estimator {font-family: monospace;background-color: #f0f8ff;border: 1px dotted black;border-radius: 0.25em;box-sizing: border-box;margin-bottom: 0.5em;}#sk-container-id-10 div.sk-estimator:hover {background-color: #d4ebff;}#sk-container-id-10 div.sk-parallel-item::after {content: \"\";width: 100%;border-bottom: 1px solid gray;flex-grow: 1;}#sk-container-id-10 div.sk-label:hover label.sk-toggleable__label {background-color: #d4ebff;}#sk-container-id-10 div.sk-serial::before {content: \"\";position: absolute;border-left: 1px solid gray;box-sizing: border-box;top: 0;bottom: 0;left: 50%;z-index: 0;}#sk-container-id-10 div.sk-serial {display: flex;flex-direction: column;align-items: center;background-color: white;padding-right: 0.2em;padding-left: 0.2em;position: relative;}#sk-container-id-10 div.sk-item {position: relative;z-index: 1;}#sk-container-id-10 div.sk-parallel {display: flex;align-items: stretch;justify-content: center;background-color: white;position: relative;}#sk-container-id-10 div.sk-item::before, #sk-container-id-10 div.sk-parallel-item::before {content: \"\";position: absolute;border-left: 1px solid gray;box-sizing: border-box;top: 0;bottom: 0;left: 50%;z-index: -1;}#sk-container-id-10 div.sk-parallel-item {display: flex;flex-direction: column;z-index: 1;position: relative;background-color: white;}#sk-container-id-10 div.sk-parallel-item:first-child::after {align-self: flex-end;width: 50%;}#sk-container-id-10 div.sk-parallel-item:last-child::after {align-self: flex-start;width: 50%;}#sk-container-id-10 div.sk-parallel-item:only-child::after {width: 0;}#sk-container-id-10 div.sk-dashed-wrapped {border: 1px dashed gray;margin: 0 0.4em 0.5em 0.4em;box-sizing: border-box;padding-bottom: 0.4em;background-color: white;}#sk-container-id-10 div.sk-label label {font-family: monospace;font-weight: bold;display: inline-block;line-height: 1.2em;}#sk-container-id-10 div.sk-label-container {text-align: center;}#sk-container-id-10 div.sk-container {/* jupyter's `normalize.less` sets `[hidden] { display: none; }` but bootstrap.min.css set `[hidden] { display: none !important; }` so we also need the `!important` here to be able to override the default hidden behavior on the sphinx rendered scikit-learn.org. See: https://github.com/scikit-learn/scikit-learn/issues/21755 */display: inline-block !important;position: relative;}#sk-container-id-10 div.sk-text-repr-fallback {display: none;}</style><div id=\"sk-container-id-10\" class=\"sk-top-container\"><div class=\"sk-text-repr-fallback\"><pre>GridSearchCV(cv=5, estimator=LinearDiscriminantAnalysis(), n_jobs=-1,\n",
       "             param_grid={&#x27;priors&#x27;: [None, [0.1, 0.9], [0.3, 0.7], [0.5, 0.5],\n",
       "                                    [0.7, 0.3], [0.9, 0.1]],\n",
       "                         &#x27;solver&#x27;: [&#x27;svd&#x27;], &#x27;tol&#x27;: [0.0001, 0.001, 0.01]},\n",
       "             verbose=1)</pre><b>In a Jupyter environment, please rerun this cell to show the HTML representation or trust the notebook. <br />On GitHub, the HTML representation is unable to render, please try loading this page with nbviewer.org.</b></div><div class=\"sk-container\" hidden><div class=\"sk-item sk-dashed-wrapped\"><div class=\"sk-label-container\"><div class=\"sk-label sk-toggleable\"><input class=\"sk-toggleable__control sk-hidden--visually\" id=\"sk-estimator-id-28\" type=\"checkbox\" ><label for=\"sk-estimator-id-28\" class=\"sk-toggleable__label sk-toggleable__label-arrow\">GridSearchCV</label><div class=\"sk-toggleable__content\"><pre>GridSearchCV(cv=5, estimator=LinearDiscriminantAnalysis(), n_jobs=-1,\n",
       "             param_grid={&#x27;priors&#x27;: [None, [0.1, 0.9], [0.3, 0.7], [0.5, 0.5],\n",
       "                                    [0.7, 0.3], [0.9, 0.1]],\n",
       "                         &#x27;solver&#x27;: [&#x27;svd&#x27;], &#x27;tol&#x27;: [0.0001, 0.001, 0.01]},\n",
       "             verbose=1)</pre></div></div></div><div class=\"sk-parallel\"><div class=\"sk-parallel-item\"><div class=\"sk-item\"><div class=\"sk-label-container\"><div class=\"sk-label sk-toggleable\"><input class=\"sk-toggleable__control sk-hidden--visually\" id=\"sk-estimator-id-29\" type=\"checkbox\" ><label for=\"sk-estimator-id-29\" class=\"sk-toggleable__label sk-toggleable__label-arrow\">estimator: LinearDiscriminantAnalysis</label><div class=\"sk-toggleable__content\"><pre>LinearDiscriminantAnalysis()</pre></div></div></div><div class=\"sk-serial\"><div class=\"sk-item\"><div class=\"sk-estimator sk-toggleable\"><input class=\"sk-toggleable__control sk-hidden--visually\" id=\"sk-estimator-id-30\" type=\"checkbox\" ><label for=\"sk-estimator-id-30\" class=\"sk-toggleable__label sk-toggleable__label-arrow\">LinearDiscriminantAnalysis</label><div class=\"sk-toggleable__content\"><pre>LinearDiscriminantAnalysis()</pre></div></div></div></div></div></div></div></div></div></div>"
      ],
      "text/plain": [
       "GridSearchCV(cv=5, estimator=LinearDiscriminantAnalysis(), n_jobs=-1,\n",
       "             param_grid={'priors': [None, [0.1, 0.9], [0.3, 0.7], [0.5, 0.5],\n",
       "                                    [0.7, 0.3], [0.9, 0.1]],\n",
       "                         'solver': ['svd'], 'tol': [0.0001, 0.001, 0.01]},\n",
       "             verbose=1)"
      ]
     },
     "execution_count": 64,
     "metadata": {},
     "output_type": "execute_result"
    }
   ],
   "source": [
    "lda_model_v2 = GridSearchCV(LinearDiscriminantAnalysis(),\n",
    "                            param_grid = lda_grid_v1,\n",
    "                            cv=5,\n",
    "                            verbose=1,\n",
    "                            n_jobs=-1)\n",
    "\n",
    "# ajuste modelo\n",
    "lda_model_v2.fit(X_train_oversamp, y_train_oversamp)"
   ]
  },
  {
   "cell_type": "code",
   "execution_count": 65,
   "metadata": {},
   "outputs": [
    {
     "data": {
      "text/plain": [
       "{'priors': None, 'solver': 'svd', 'tol': 0.0001}"
      ]
     },
     "execution_count": 65,
     "metadata": {},
     "output_type": "execute_result"
    }
   ],
   "source": [
    "lda_model_v2.best_params_"
   ]
  },
  {
   "cell_type": "code",
   "execution_count": 66,
   "metadata": {},
   "outputs": [
    {
     "name": "stdout",
     "output_type": "stream",
     "text": [
      "Matriz de confusión lda, testing:\n",
      " [[4877 1202]\n",
      " [1855 1966]] \n",
      "\n",
      " ------------------------------------------------------- \n",
      "\n",
      "Classification_report training lda:\n",
      "               precision    recall  f1-score   support\n",
      "\n",
      "           0       0.63      0.80      0.70     12394\n",
      "           1       0.72      0.52      0.61     12394\n",
      "\n",
      "    accuracy                           0.66     24788\n",
      "   macro avg       0.68      0.66      0.65     24788\n",
      "weighted avg       0.68      0.66      0.65     24788\n",
      " \n",
      " ------------------------------------------------------- \n",
      "\n",
      "Classification_report testing lda:\n",
      "               precision    recall  f1-score   support\n",
      "\n",
      "           0       0.72      0.80      0.76      6079\n",
      "           1       0.62      0.51      0.56      3821\n",
      "\n",
      "    accuracy                           0.69      9900\n",
      "   macro avg       0.67      0.66      0.66      9900\n",
      "weighted avg       0.68      0.69      0.68      9900\n",
      "\n"
     ]
    }
   ],
   "source": [
    "# predicciones train y test\n",
    "lda_yhat_train_v2 = lda_model_v2.predict(X_train_oversamp)\n",
    "lda_yhat_test_v2 = lda_model_v2.predict(X_test_scaled)\n",
    "\n",
    "# métricas\n",
    "print_metricas(y_train=y_train_oversamp, model_yhat_train=lda_yhat_train_v2, model_yhat_test=lda_yhat_test_v2, name_model='lda')"
   ]
  },
  {
   "attachments": {},
   "cell_type": "markdown",
   "metadata": {},
   "source": [
    "## MODELO 2 BernoulliNB"
   ]
  },
  {
   "cell_type": "code",
   "execution_count": 67,
   "metadata": {},
   "outputs": [
    {
     "name": "stdout",
     "output_type": "stream",
     "text": [
      "Fitting 5 folds for each of 32 candidates, totalling 160 fits\n"
     ]
    },
    {
     "data": {
      "text/html": [
       "<style>#sk-container-id-11 {color: black;background-color: white;}#sk-container-id-11 pre{padding: 0;}#sk-container-id-11 div.sk-toggleable {background-color: white;}#sk-container-id-11 label.sk-toggleable__label {cursor: pointer;display: block;width: 100%;margin-bottom: 0;padding: 0.3em;box-sizing: border-box;text-align: center;}#sk-container-id-11 label.sk-toggleable__label-arrow:before {content: \"▸\";float: left;margin-right: 0.25em;color: #696969;}#sk-container-id-11 label.sk-toggleable__label-arrow:hover:before {color: black;}#sk-container-id-11 div.sk-estimator:hover label.sk-toggleable__label-arrow:before {color: black;}#sk-container-id-11 div.sk-toggleable__content {max-height: 0;max-width: 0;overflow: hidden;text-align: left;background-color: #f0f8ff;}#sk-container-id-11 div.sk-toggleable__content pre {margin: 0.2em;color: black;border-radius: 0.25em;background-color: #f0f8ff;}#sk-container-id-11 input.sk-toggleable__control:checked~div.sk-toggleable__content {max-height: 200px;max-width: 100%;overflow: auto;}#sk-container-id-11 input.sk-toggleable__control:checked~label.sk-toggleable__label-arrow:before {content: \"▾\";}#sk-container-id-11 div.sk-estimator input.sk-toggleable__control:checked~label.sk-toggleable__label {background-color: #d4ebff;}#sk-container-id-11 div.sk-label input.sk-toggleable__control:checked~label.sk-toggleable__label {background-color: #d4ebff;}#sk-container-id-11 input.sk-hidden--visually {border: 0;clip: rect(1px 1px 1px 1px);clip: rect(1px, 1px, 1px, 1px);height: 1px;margin: -1px;overflow: hidden;padding: 0;position: absolute;width: 1px;}#sk-container-id-11 div.sk-estimator {font-family: monospace;background-color: #f0f8ff;border: 1px dotted black;border-radius: 0.25em;box-sizing: border-box;margin-bottom: 0.5em;}#sk-container-id-11 div.sk-estimator:hover {background-color: #d4ebff;}#sk-container-id-11 div.sk-parallel-item::after {content: \"\";width: 100%;border-bottom: 1px solid gray;flex-grow: 1;}#sk-container-id-11 div.sk-label:hover label.sk-toggleable__label {background-color: #d4ebff;}#sk-container-id-11 div.sk-serial::before {content: \"\";position: absolute;border-left: 1px solid gray;box-sizing: border-box;top: 0;bottom: 0;left: 50%;z-index: 0;}#sk-container-id-11 div.sk-serial {display: flex;flex-direction: column;align-items: center;background-color: white;padding-right: 0.2em;padding-left: 0.2em;position: relative;}#sk-container-id-11 div.sk-item {position: relative;z-index: 1;}#sk-container-id-11 div.sk-parallel {display: flex;align-items: stretch;justify-content: center;background-color: white;position: relative;}#sk-container-id-11 div.sk-item::before, #sk-container-id-11 div.sk-parallel-item::before {content: \"\";position: absolute;border-left: 1px solid gray;box-sizing: border-box;top: 0;bottom: 0;left: 50%;z-index: -1;}#sk-container-id-11 div.sk-parallel-item {display: flex;flex-direction: column;z-index: 1;position: relative;background-color: white;}#sk-container-id-11 div.sk-parallel-item:first-child::after {align-self: flex-end;width: 50%;}#sk-container-id-11 div.sk-parallel-item:last-child::after {align-self: flex-start;width: 50%;}#sk-container-id-11 div.sk-parallel-item:only-child::after {width: 0;}#sk-container-id-11 div.sk-dashed-wrapped {border: 1px dashed gray;margin: 0 0.4em 0.5em 0.4em;box-sizing: border-box;padding-bottom: 0.4em;background-color: white;}#sk-container-id-11 div.sk-label label {font-family: monospace;font-weight: bold;display: inline-block;line-height: 1.2em;}#sk-container-id-11 div.sk-label-container {text-align: center;}#sk-container-id-11 div.sk-container {/* jupyter's `normalize.less` sets `[hidden] { display: none; }` but bootstrap.min.css set `[hidden] { display: none !important; }` so we also need the `!important` here to be able to override the default hidden behavior on the sphinx rendered scikit-learn.org. See: https://github.com/scikit-learn/scikit-learn/issues/21755 */display: inline-block !important;position: relative;}#sk-container-id-11 div.sk-text-repr-fallback {display: none;}</style><div id=\"sk-container-id-11\" class=\"sk-top-container\"><div class=\"sk-text-repr-fallback\"><pre>GridSearchCV(cv=5, estimator=BernoulliNB(), n_jobs=-1,\n",
       "             param_grid={&#x27;alpha&#x27;: [0.001, 0.01, 0.1, 1.0],\n",
       "                         &#x27;binarize&#x27;: [None, 0.1, 0.5, 0.9],\n",
       "                         &#x27;fit_prior&#x27;: [True, False]},\n",
       "             verbose=1)</pre><b>In a Jupyter environment, please rerun this cell to show the HTML representation or trust the notebook. <br />On GitHub, the HTML representation is unable to render, please try loading this page with nbviewer.org.</b></div><div class=\"sk-container\" hidden><div class=\"sk-item sk-dashed-wrapped\"><div class=\"sk-label-container\"><div class=\"sk-label sk-toggleable\"><input class=\"sk-toggleable__control sk-hidden--visually\" id=\"sk-estimator-id-31\" type=\"checkbox\" ><label for=\"sk-estimator-id-31\" class=\"sk-toggleable__label sk-toggleable__label-arrow\">GridSearchCV</label><div class=\"sk-toggleable__content\"><pre>GridSearchCV(cv=5, estimator=BernoulliNB(), n_jobs=-1,\n",
       "             param_grid={&#x27;alpha&#x27;: [0.001, 0.01, 0.1, 1.0],\n",
       "                         &#x27;binarize&#x27;: [None, 0.1, 0.5, 0.9],\n",
       "                         &#x27;fit_prior&#x27;: [True, False]},\n",
       "             verbose=1)</pre></div></div></div><div class=\"sk-parallel\"><div class=\"sk-parallel-item\"><div class=\"sk-item\"><div class=\"sk-label-container\"><div class=\"sk-label sk-toggleable\"><input class=\"sk-toggleable__control sk-hidden--visually\" id=\"sk-estimator-id-32\" type=\"checkbox\" ><label for=\"sk-estimator-id-32\" class=\"sk-toggleable__label sk-toggleable__label-arrow\">estimator: BernoulliNB</label><div class=\"sk-toggleable__content\"><pre>BernoulliNB()</pre></div></div></div><div class=\"sk-serial\"><div class=\"sk-item\"><div class=\"sk-estimator sk-toggleable\"><input class=\"sk-toggleable__control sk-hidden--visually\" id=\"sk-estimator-id-33\" type=\"checkbox\" ><label for=\"sk-estimator-id-33\" class=\"sk-toggleable__label sk-toggleable__label-arrow\">BernoulliNB</label><div class=\"sk-toggleable__content\"><pre>BernoulliNB()</pre></div></div></div></div></div></div></div></div></div></div>"
      ],
      "text/plain": [
       "GridSearchCV(cv=5, estimator=BernoulliNB(), n_jobs=-1,\n",
       "             param_grid={'alpha': [0.001, 0.01, 0.1, 1.0],\n",
       "                         'binarize': [None, 0.1, 0.5, 0.9],\n",
       "                         'fit_prior': [True, False]},\n",
       "             verbose=1)"
      ]
     },
     "execution_count": 67,
     "metadata": {},
     "output_type": "execute_result"
    }
   ],
   "source": [
    "bernoulli_nb_model_v2 = GridSearchCV(BernoulliNB(),\n",
    "                                    param_grid = bernoulli_nb_grid_v1,\n",
    "                                    cv=5,\n",
    "                                    verbose=1,\n",
    "                                    n_jobs=-1)\n",
    "                                \n",
    "# ajuste modelo\n",
    "bernoulli_nb_model_v2.fit(X_train_oversamp, y_train_oversamp)"
   ]
  },
  {
   "cell_type": "code",
   "execution_count": 68,
   "metadata": {},
   "outputs": [
    {
     "data": {
      "text/plain": [
       "{'alpha': 1.0, 'binarize': 0.1, 'fit_prior': True}"
      ]
     },
     "execution_count": 68,
     "metadata": {},
     "output_type": "execute_result"
    }
   ],
   "source": [
    "bernoulli_nb_model_v2.best_params_"
   ]
  },
  {
   "cell_type": "code",
   "execution_count": 69,
   "metadata": {},
   "outputs": [
    {
     "name": "stdout",
     "output_type": "stream",
     "text": [
      "Matriz de confusión bernoulli_nb, testing:\n",
      " [[4827 1252]\n",
      " [1852 1969]] \n",
      "\n",
      " ------------------------------------------------------- \n",
      "\n",
      "Classification_report training bernoulli_nb:\n",
      "               precision    recall  f1-score   support\n",
      "\n",
      "           0       0.63      0.79      0.70     12394\n",
      "           1       0.72      0.53      0.61     12394\n",
      "\n",
      "    accuracy                           0.66     24788\n",
      "   macro avg       0.67      0.66      0.65     24788\n",
      "weighted avg       0.67      0.66      0.65     24788\n",
      " \n",
      " ------------------------------------------------------- \n",
      "\n",
      "Classification_report testing bernoulli_nb:\n",
      "               precision    recall  f1-score   support\n",
      "\n",
      "           0       0.72      0.79      0.76      6079\n",
      "           1       0.61      0.52      0.56      3821\n",
      "\n",
      "    accuracy                           0.69      9900\n",
      "   macro avg       0.67      0.65      0.66      9900\n",
      "weighted avg       0.68      0.69      0.68      9900\n",
      "\n"
     ]
    }
   ],
   "source": [
    "# predicciones train y test\n",
    "bernoulli_nb_yhat_train_v2 = bernoulli_nb_model_v2.predict(X_train_oversamp)\n",
    "bernoulli_nb_yhat_test_v2 = bernoulli_nb_model_v2.predict(X_test_scaled)\n",
    "\n",
    "# métricas\n",
    "print_metricas(y_train=y_train_oversamp, model_yhat_train=bernoulli_nb_yhat_train_v2, model_yhat_test=bernoulli_nb_yhat_test_v2, name_model='bernoulli_nb')"
   ]
  },
  {
   "attachments": {},
   "cell_type": "markdown",
   "metadata": {},
   "source": [
    "## MODELO 2 Logistic Regression"
   ]
  },
  {
   "cell_type": "code",
   "execution_count": 70,
   "metadata": {},
   "outputs": [
    {
     "name": "stdout",
     "output_type": "stream",
     "text": [
      "Fitting 5 folds for each of 32 candidates, totalling 160 fits\n"
     ]
    },
    {
     "data": {
      "text/html": [
       "<style>#sk-container-id-12 {color: black;background-color: white;}#sk-container-id-12 pre{padding: 0;}#sk-container-id-12 div.sk-toggleable {background-color: white;}#sk-container-id-12 label.sk-toggleable__label {cursor: pointer;display: block;width: 100%;margin-bottom: 0;padding: 0.3em;box-sizing: border-box;text-align: center;}#sk-container-id-12 label.sk-toggleable__label-arrow:before {content: \"▸\";float: left;margin-right: 0.25em;color: #696969;}#sk-container-id-12 label.sk-toggleable__label-arrow:hover:before {color: black;}#sk-container-id-12 div.sk-estimator:hover label.sk-toggleable__label-arrow:before {color: black;}#sk-container-id-12 div.sk-toggleable__content {max-height: 0;max-width: 0;overflow: hidden;text-align: left;background-color: #f0f8ff;}#sk-container-id-12 div.sk-toggleable__content pre {margin: 0.2em;color: black;border-radius: 0.25em;background-color: #f0f8ff;}#sk-container-id-12 input.sk-toggleable__control:checked~div.sk-toggleable__content {max-height: 200px;max-width: 100%;overflow: auto;}#sk-container-id-12 input.sk-toggleable__control:checked~label.sk-toggleable__label-arrow:before {content: \"▾\";}#sk-container-id-12 div.sk-estimator input.sk-toggleable__control:checked~label.sk-toggleable__label {background-color: #d4ebff;}#sk-container-id-12 div.sk-label input.sk-toggleable__control:checked~label.sk-toggleable__label {background-color: #d4ebff;}#sk-container-id-12 input.sk-hidden--visually {border: 0;clip: rect(1px 1px 1px 1px);clip: rect(1px, 1px, 1px, 1px);height: 1px;margin: -1px;overflow: hidden;padding: 0;position: absolute;width: 1px;}#sk-container-id-12 div.sk-estimator {font-family: monospace;background-color: #f0f8ff;border: 1px dotted black;border-radius: 0.25em;box-sizing: border-box;margin-bottom: 0.5em;}#sk-container-id-12 div.sk-estimator:hover {background-color: #d4ebff;}#sk-container-id-12 div.sk-parallel-item::after {content: \"\";width: 100%;border-bottom: 1px solid gray;flex-grow: 1;}#sk-container-id-12 div.sk-label:hover label.sk-toggleable__label {background-color: #d4ebff;}#sk-container-id-12 div.sk-serial::before {content: \"\";position: absolute;border-left: 1px solid gray;box-sizing: border-box;top: 0;bottom: 0;left: 50%;z-index: 0;}#sk-container-id-12 div.sk-serial {display: flex;flex-direction: column;align-items: center;background-color: white;padding-right: 0.2em;padding-left: 0.2em;position: relative;}#sk-container-id-12 div.sk-item {position: relative;z-index: 1;}#sk-container-id-12 div.sk-parallel {display: flex;align-items: stretch;justify-content: center;background-color: white;position: relative;}#sk-container-id-12 div.sk-item::before, #sk-container-id-12 div.sk-parallel-item::before {content: \"\";position: absolute;border-left: 1px solid gray;box-sizing: border-box;top: 0;bottom: 0;left: 50%;z-index: -1;}#sk-container-id-12 div.sk-parallel-item {display: flex;flex-direction: column;z-index: 1;position: relative;background-color: white;}#sk-container-id-12 div.sk-parallel-item:first-child::after {align-self: flex-end;width: 50%;}#sk-container-id-12 div.sk-parallel-item:last-child::after {align-self: flex-start;width: 50%;}#sk-container-id-12 div.sk-parallel-item:only-child::after {width: 0;}#sk-container-id-12 div.sk-dashed-wrapped {border: 1px dashed gray;margin: 0 0.4em 0.5em 0.4em;box-sizing: border-box;padding-bottom: 0.4em;background-color: white;}#sk-container-id-12 div.sk-label label {font-family: monospace;font-weight: bold;display: inline-block;line-height: 1.2em;}#sk-container-id-12 div.sk-label-container {text-align: center;}#sk-container-id-12 div.sk-container {/* jupyter's `normalize.less` sets `[hidden] { display: none; }` but bootstrap.min.css set `[hidden] { display: none !important; }` so we also need the `!important` here to be able to override the default hidden behavior on the sphinx rendered scikit-learn.org. See: https://github.com/scikit-learn/scikit-learn/issues/21755 */display: inline-block !important;position: relative;}#sk-container-id-12 div.sk-text-repr-fallback {display: none;}</style><div id=\"sk-container-id-12\" class=\"sk-top-container\"><div class=\"sk-text-repr-fallback\"><pre>GridSearchCV(cv=5, estimator=LogisticRegression(random_state=94), n_jobs=-1,\n",
       "             param_grid={&#x27;C&#x27;: [0.1, 1, 10, 100],\n",
       "                         &#x27;class_weight&#x27;: [None, &#x27;balanced&#x27;],\n",
       "                         &#x27;fit_intercept&#x27;: [True, False],\n",
       "                         &#x27;max_iter&#x27;: [100, 500]},\n",
       "             verbose=1)</pre><b>In a Jupyter environment, please rerun this cell to show the HTML representation or trust the notebook. <br />On GitHub, the HTML representation is unable to render, please try loading this page with nbviewer.org.</b></div><div class=\"sk-container\" hidden><div class=\"sk-item sk-dashed-wrapped\"><div class=\"sk-label-container\"><div class=\"sk-label sk-toggleable\"><input class=\"sk-toggleable__control sk-hidden--visually\" id=\"sk-estimator-id-34\" type=\"checkbox\" ><label for=\"sk-estimator-id-34\" class=\"sk-toggleable__label sk-toggleable__label-arrow\">GridSearchCV</label><div class=\"sk-toggleable__content\"><pre>GridSearchCV(cv=5, estimator=LogisticRegression(random_state=94), n_jobs=-1,\n",
       "             param_grid={&#x27;C&#x27;: [0.1, 1, 10, 100],\n",
       "                         &#x27;class_weight&#x27;: [None, &#x27;balanced&#x27;],\n",
       "                         &#x27;fit_intercept&#x27;: [True, False],\n",
       "                         &#x27;max_iter&#x27;: [100, 500]},\n",
       "             verbose=1)</pre></div></div></div><div class=\"sk-parallel\"><div class=\"sk-parallel-item\"><div class=\"sk-item\"><div class=\"sk-label-container\"><div class=\"sk-label sk-toggleable\"><input class=\"sk-toggleable__control sk-hidden--visually\" id=\"sk-estimator-id-35\" type=\"checkbox\" ><label for=\"sk-estimator-id-35\" class=\"sk-toggleable__label sk-toggleable__label-arrow\">estimator: LogisticRegression</label><div class=\"sk-toggleable__content\"><pre>LogisticRegression(random_state=94)</pre></div></div></div><div class=\"sk-serial\"><div class=\"sk-item\"><div class=\"sk-estimator sk-toggleable\"><input class=\"sk-toggleable__control sk-hidden--visually\" id=\"sk-estimator-id-36\" type=\"checkbox\" ><label for=\"sk-estimator-id-36\" class=\"sk-toggleable__label sk-toggleable__label-arrow\">LogisticRegression</label><div class=\"sk-toggleable__content\"><pre>LogisticRegression(random_state=94)</pre></div></div></div></div></div></div></div></div></div></div>"
      ],
      "text/plain": [
       "GridSearchCV(cv=5, estimator=LogisticRegression(random_state=94), n_jobs=-1,\n",
       "             param_grid={'C': [0.1, 1, 10, 100],\n",
       "                         'class_weight': [None, 'balanced'],\n",
       "                         'fit_intercept': [True, False],\n",
       "                         'max_iter': [100, 500]},\n",
       "             verbose=1)"
      ]
     },
     "execution_count": 70,
     "metadata": {},
     "output_type": "execute_result"
    }
   ],
   "source": [
    "lr_model_v2 = GridSearchCV(LogisticRegression(random_state=rep_seed),\n",
    "                            param_grid=lr_grid_v1,\n",
    "                            cv=5,\n",
    "                            verbose=1,\n",
    "                            n_jobs=-1\n",
    ")\n",
    "\n",
    "# ajuste modelo\n",
    "lr_model_v2.fit(X_train_oversamp, y_train_oversamp)"
   ]
  },
  {
   "cell_type": "code",
   "execution_count": 71,
   "metadata": {},
   "outputs": [
    {
     "data": {
      "text/plain": [
       "{'C': 0.1, 'class_weight': None, 'fit_intercept': False, 'max_iter': 100}"
      ]
     },
     "execution_count": 71,
     "metadata": {},
     "output_type": "execute_result"
    }
   ],
   "source": [
    "lr_model_v2.best_params_"
   ]
  },
  {
   "cell_type": "code",
   "execution_count": 72,
   "metadata": {},
   "outputs": [
    {
     "name": "stdout",
     "output_type": "stream",
     "text": [
      "Matriz de confusión logistic regression, testing:\n",
      " [[4744 1335]\n",
      " [1789 2032]] \n",
      "\n",
      " ------------------------------------------------------- \n",
      "\n",
      "Classification_report training logistic regression:\n",
      "               precision    recall  f1-score   support\n",
      "\n",
      "           0       0.63      0.79      0.70     12394\n",
      "           1       0.71      0.54      0.61     12394\n",
      "\n",
      "    accuracy                           0.66     24788\n",
      "   macro avg       0.67      0.66      0.66     24788\n",
      "weighted avg       0.67      0.66      0.66     24788\n",
      " \n",
      " ------------------------------------------------------- \n",
      "\n",
      "Classification_report testing logistic regression:\n",
      "               precision    recall  f1-score   support\n",
      "\n",
      "           0       0.73      0.78      0.75      6079\n",
      "           1       0.60      0.53      0.57      3821\n",
      "\n",
      "    accuracy                           0.68      9900\n",
      "   macro avg       0.66      0.66      0.66      9900\n",
      "weighted avg       0.68      0.68      0.68      9900\n",
      "\n"
     ]
    }
   ],
   "source": [
    "# predicciones train y test\n",
    "lr_yhat_train_v2 = lr_model_v2.predict(X_train_oversamp)\n",
    "lr_yhat_test_v2 = lr_model_v2.predict(X_test_scaled)\n",
    "\n",
    "# métricas\n",
    "print_metricas(y_train=y_train_oversamp, model_yhat_train=lr_yhat_train_v2, model_yhat_test=lr_yhat_test_v2, name_model='logistic regression')"
   ]
  },
  {
   "attachments": {},
   "cell_type": "markdown",
   "metadata": {},
   "source": [
    "    En esta segunda iteración, que consistió en realizar balanceo de clases mediante oversampling (SMOTE) a los datos de entrenamiento, se observa un aumento para la clase 1 en la métrica recall (testing) en todos los modelos, siendo algunos más significativos que otros. La diferencia entre los valores de recall se encuentra en el rango del 6% al 13%, siendo el modelo gradient boosting el que tiene la menor variación y el modelo de logistic regression el que tiene la mayor.\n",
    "\n",
    "    Al comparar los valores de f1_score, se observa que los modelos decision tree y random forest presentan un valor bajo 0.5 para la clase 1. Los demás son cercanos pero sobre este margen. Respecto a la clase 1 para esta misma métrica, todos los resultados muestran valores sobre 0.77.\n",
    "    Lo anterior indica que los modelos tienen problemas para precedir de manera correcta las observaciones pertenecientes a la clase 1 (sentimiento positivo).\n",
    "\n",
    "    Respecto a la generalización, la métrica accuracy disminuyó levemente en algunos casos, pero de manera similar a lo visto en la primera iteración, no hay indicios de una mala capacidad de generalización a excepción del modelo con random forest, cuya diferencia porcentual es de 14%.\n",
    "\n",
    "    En la tercera iteración se implementarán los modelos modificando las grillas y al igual que en los segundos modelos, se utilizarán los datos de entrenamiento con las clases balanceadas."
   ]
  },
  {
   "attachments": {},
   "cell_type": "markdown",
   "metadata": {},
   "source": [
    "### <span style=\"color:#87CEEB\"> Curvas ROC de la segunda iteración de modelos."
   ]
  },
  {
   "cell_type": "code",
   "execution_count": 73,
   "metadata": {},
   "outputs": [
    {
     "data": {
      "image/png": "[encoded data removed]",
      "text/plain": [
       "<Figure size 1000x800 with 1 Axes>"
      ]
     },
     "metadata": {},
     "output_type": "display_data"
    }
   ],
   "source": [
    "print_roc_auc(gb_model=gb_model_v2, dec_tree_model=dec_tree_model_v2, rf_model=rf_model_v2, \n",
    "            lda_model=lda_model_v2, bernoulli_nb_model=bernoulli_nb_model_v2, lr_model=lr_model_v2, X_test=X_test_scaled)"
   ]
  },
  {
   "attachments": {},
   "cell_type": "markdown",
   "metadata": {},
   "source": [
    "    En esta iteración se observa que las curvas ROC están más separadas comparadas al resultado anterior. Visualmente, los modelos que presentan un menor rendimiento son decision tree y random forest lo que se ve reflejado con los valores de AUC, los cuales son 0.6829 y 0.6686 respectivamente.\n",
    "    Al comparar los valores actuales de AUC con los previos, estos disminuyeron en todos los modelos.\n",
    "    A pesar de la disminución, siguen siendo mejor que un clasificador aleatorio."
   ]
  },
  {
   "attachments": {},
   "cell_type": "markdown",
   "metadata": {},
   "source": [
    "## <span style=\"color:#87CEEB\"> Iteración 3 de los modelos"
   ]
  },
  {
   "attachments": {},
   "cell_type": "markdown",
   "metadata": {},
   "source": [
    "    La modificación de grillas consistió en observar los mejores estimadores obtenidos en la segunda iteración. Con estos resultados, se pulieron los rangos de algunos hiperparámetros con la intención de mejorar el desempeño de los modelos.\n",
    "\n",
    "    Lo que se muestra en esta tercera iteración consistió en realidad en varias iteraciones con el fin de llegar a las grillas que se muestran a continuación.\n",
    "\n",
    "    Los modelos entrenados en esta sección consideran las nuevas grillas y los datos a los cuales se les realizaron oversampling mediante SMOTE."
   ]
  },
  {
   "cell_type": "code",
   "execution_count": 74,
   "metadata": {},
   "outputs": [],
   "source": [
    "# Gradient Boosting\n",
    "gb_grid_v2 = {\n",
    "    'n_estimators': [400, 500, 600],\n",
    "    'learning_rate': [0.01, 0.1],\n",
    "    'max_depth': [3, 5, 7]}\n",
    "\n",
    "# Decision Tree Classifier\n",
    "dec_tree_grid_v2 = {\n",
    "    'min_samples_split': [22, 23, 24, 25],\n",
    "    'max_depth': [None, 1, 5],\n",
    "    'min_samples_leaf': [8, 9, 10],\n",
    "    'max_features': ['sqrt', 'log2', None]\n",
    "    }\n",
    "\n",
    "# Random Forest Classifier\n",
    "rf_grid_v2 = {\n",
    "    'n_estimators': [160, 180, 200, 220, 240],\n",
    "    'max_depth': [None, 10, 20],\n",
    "    'max_features': ['sqrt', 'log2', None]\n",
    "}\n",
    "\n",
    "# Linear Discriminant Analysis\n",
    "lda_grid_v2 = {\n",
    "    'priors': [None, [0.2, 0.8], [0.5, 0.5]],\n",
    "    'solver': ['svd', 'lsqr', 'eigen'], \n",
    "    'tol': [0.00001, 0.0001, 0.001],\n",
    "    # los demás hiperpárametros arrojan error porque algunas combinaciones no están admitidas.\n",
    "}\n",
    "\n",
    "# BernoulliNB\n",
    "bernoulli_nb_grid_v2 = {\n",
    "    'alpha': [0.36, 0.38, 0.4, 0.42, 0.44],\n",
    "    'binarize': [None, 0.05, 0.07, 0.1, 0.13, 0.15, 0.2],\n",
    "    'fit_prior': [True, False]\n",
    "}\n",
    "\n",
    "# Logistic Regression\n",
    "lr_grid_v2 = {    \n",
    "    'C': [0.001, 0.01, 0.1, 1],\n",
    "    'fit_intercept': [True, False], \n",
    "    #'class_weight': [None, 'balanced'], # ya se hizo balance de clases con SMOTE\n",
    "    'max_iter': [20, 50, 100, 200, 400],\n",
    "    'tol': [0.001, 0.01, 0.1, 1],\n",
    "    'solver': ['lbfgs', 'liblinear', 'newton-cg', 'newton-cholesky', 'sag', 'saga'],\n",
    "    \n",
    "}"
   ]
  },
  {
   "attachments": {},
   "cell_type": "markdown",
   "metadata": {},
   "source": [
    "## MODELO 3 Gradient Boosting"
   ]
  },
  {
   "cell_type": "code",
   "execution_count": 75,
   "metadata": {},
   "outputs": [
    {
     "name": "stdout",
     "output_type": "stream",
     "text": [
      "Fitting 5 folds for each of 18 candidates, totalling 90 fits\n"
     ]
    },
    {
     "data": {
      "text/html": [
       "<style>#sk-container-id-13 {color: black;background-color: white;}#sk-container-id-13 pre{padding: 0;}#sk-container-id-13 div.sk-toggleable {background-color: white;}#sk-container-id-13 label.sk-toggleable__label {cursor: pointer;display: block;width: 100%;margin-bottom: 0;padding: 0.3em;box-sizing: border-box;text-align: center;}#sk-container-id-13 label.sk-toggleable__label-arrow:before {content: \"▸\";float: left;margin-right: 0.25em;color: #696969;}#sk-container-id-13 label.sk-toggleable__label-arrow:hover:before {color: black;}#sk-container-id-13 div.sk-estimator:hover label.sk-toggleable__label-arrow:before {color: black;}#sk-container-id-13 div.sk-toggleable__content {max-height: 0;max-width: 0;overflow: hidden;text-align: left;background-color: #f0f8ff;}#sk-container-id-13 div.sk-toggleable__content pre {margin: 0.2em;color: black;border-radius: 0.25em;background-color: #f0f8ff;}#sk-container-id-13 input.sk-toggleable__control:checked~div.sk-toggleable__content {max-height: 200px;max-width: 100%;overflow: auto;}#sk-container-id-13 input.sk-toggleable__control:checked~label.sk-toggleable__label-arrow:before {content: \"▾\";}#sk-container-id-13 div.sk-estimator input.sk-toggleable__control:checked~label.sk-toggleable__label {background-color: #d4ebff;}#sk-container-id-13 div.sk-label input.sk-toggleable__control:checked~label.sk-toggleable__label {background-color: #d4ebff;}#sk-container-id-13 input.sk-hidden--visually {border: 0;clip: rect(1px 1px 1px 1px);clip: rect(1px, 1px, 1px, 1px);height: 1px;margin: -1px;overflow: hidden;padding: 0;position: absolute;width: 1px;}#sk-container-id-13 div.sk-estimator {font-family: monospace;background-color: #f0f8ff;border: 1px dotted black;border-radius: 0.25em;box-sizing: border-box;margin-bottom: 0.5em;}#sk-container-id-13 div.sk-estimator:hover {background-color: #d4ebff;}#sk-container-id-13 div.sk-parallel-item::after {content: \"\";width: 100%;border-bottom: 1px solid gray;flex-grow: 1;}#sk-container-id-13 div.sk-label:hover label.sk-toggleable__label {background-color: #d4ebff;}#sk-container-id-13 div.sk-serial::before {content: \"\";position: absolute;border-left: 1px solid gray;box-sizing: border-box;top: 0;bottom: 0;left: 50%;z-index: 0;}#sk-container-id-13 div.sk-serial {display: flex;flex-direction: column;align-items: center;background-color: white;padding-right: 0.2em;padding-left: 0.2em;position: relative;}#sk-container-id-13 div.sk-item {position: relative;z-index: 1;}#sk-container-id-13 div.sk-parallel {display: flex;align-items: stretch;justify-content: center;background-color: white;position: relative;}#sk-container-id-13 div.sk-item::before, #sk-container-id-13 div.sk-parallel-item::before {content: \"\";position: absolute;border-left: 1px solid gray;box-sizing: border-box;top: 0;bottom: 0;left: 50%;z-index: -1;}#sk-container-id-13 div.sk-parallel-item {display: flex;flex-direction: column;z-index: 1;position: relative;background-color: white;}#sk-container-id-13 div.sk-parallel-item:first-child::after {align-self: flex-end;width: 50%;}#sk-container-id-13 div.sk-parallel-item:last-child::after {align-self: flex-start;width: 50%;}#sk-container-id-13 div.sk-parallel-item:only-child::after {width: 0;}#sk-container-id-13 div.sk-dashed-wrapped {border: 1px dashed gray;margin: 0 0.4em 0.5em 0.4em;box-sizing: border-box;padding-bottom: 0.4em;background-color: white;}#sk-container-id-13 div.sk-label label {font-family: monospace;font-weight: bold;display: inline-block;line-height: 1.2em;}#sk-container-id-13 div.sk-label-container {text-align: center;}#sk-container-id-13 div.sk-container {/* jupyter's `normalize.less` sets `[hidden] { display: none; }` but bootstrap.min.css set `[hidden] { display: none !important; }` so we also need the `!important` here to be able to override the default hidden behavior on the sphinx rendered scikit-learn.org. See: https://github.com/scikit-learn/scikit-learn/issues/21755 */display: inline-block !important;position: relative;}#sk-container-id-13 div.sk-text-repr-fallback {display: none;}</style><div id=\"sk-container-id-13\" class=\"sk-top-container\"><div class=\"sk-text-repr-fallback\"><pre>GridSearchCV(cv=5, estimator=GradientBoostingClassifier(random_state=94),\n",
       "             n_jobs=-1,\n",
       "             param_grid={&#x27;learning_rate&#x27;: [0.01, 0.1], &#x27;max_depth&#x27;: [3, 5, 7],\n",
       "                         &#x27;n_estimators&#x27;: [400, 500, 600]},\n",
       "             verbose=1)</pre><b>In a Jupyter environment, please rerun this cell to show the HTML representation or trust the notebook. <br />On GitHub, the HTML representation is unable to render, please try loading this page with nbviewer.org.</b></div><div class=\"sk-container\" hidden><div class=\"sk-item sk-dashed-wrapped\"><div class=\"sk-label-container\"><div class=\"sk-label sk-toggleable\"><input class=\"sk-toggleable__control sk-hidden--visually\" id=\"sk-estimator-id-37\" type=\"checkbox\" ><label for=\"sk-estimator-id-37\" class=\"sk-toggleable__label sk-toggleable__label-arrow\">GridSearchCV</label><div class=\"sk-toggleable__content\"><pre>GridSearchCV(cv=5, estimator=GradientBoostingClassifier(random_state=94),\n",
       "             n_jobs=-1,\n",
       "             param_grid={&#x27;learning_rate&#x27;: [0.01, 0.1], &#x27;max_depth&#x27;: [3, 5, 7],\n",
       "                         &#x27;n_estimators&#x27;: [400, 500, 600]},\n",
       "             verbose=1)</pre></div></div></div><div class=\"sk-parallel\"><div class=\"sk-parallel-item\"><div class=\"sk-item\"><div class=\"sk-label-container\"><div class=\"sk-label sk-toggleable\"><input class=\"sk-toggleable__control sk-hidden--visually\" id=\"sk-estimator-id-38\" type=\"checkbox\" ><label for=\"sk-estimator-id-38\" class=\"sk-toggleable__label sk-toggleable__label-arrow\">estimator: GradientBoostingClassifier</label><div class=\"sk-toggleable__content\"><pre>GradientBoostingClassifier(random_state=94)</pre></div></div></div><div class=\"sk-serial\"><div class=\"sk-item\"><div class=\"sk-estimator sk-toggleable\"><input class=\"sk-toggleable__control sk-hidden--visually\" id=\"sk-estimator-id-39\" type=\"checkbox\" ><label for=\"sk-estimator-id-39\" class=\"sk-toggleable__label sk-toggleable__label-arrow\">GradientBoostingClassifier</label><div class=\"sk-toggleable__content\"><pre>GradientBoostingClassifier(random_state=94)</pre></div></div></div></div></div></div></div></div></div></div>"
      ],
      "text/plain": [
       "GridSearchCV(cv=5, estimator=GradientBoostingClassifier(random_state=94),\n",
       "             n_jobs=-1,\n",
       "             param_grid={'learning_rate': [0.01, 0.1], 'max_depth': [3, 5, 7],\n",
       "                         'n_estimators': [400, 500, 600]},\n",
       "             verbose=1)"
      ]
     },
     "execution_count": 75,
     "metadata": {},
     "output_type": "execute_result"
    }
   ],
   "source": [
    "gb_model_v3 = GridSearchCV(GradientBoostingClassifier(random_state=rep_seed),\n",
    "                            param_grid = gb_grid_v2,\n",
    "                            cv=5,\n",
    "                            verbose=1,\n",
    "                            n_jobs=-1)\n",
    "\n",
    "# ajuste modelo\n",
    "gb_model_v3.fit(X_train_oversamp, y_train_oversamp)"
   ]
  },
  {
   "cell_type": "code",
   "execution_count": 76,
   "metadata": {},
   "outputs": [
    {
     "data": {
      "text/plain": [
       "{'learning_rate': 0.1, 'max_depth': 3, 'n_estimators': 600}"
      ]
     },
     "execution_count": 76,
     "metadata": {},
     "output_type": "execute_result"
    }
   ],
   "source": [
    "gb_model_v3.best_params_"
   ]
  },
  {
   "cell_type": "code",
   "execution_count": 77,
   "metadata": {},
   "outputs": [
    {
     "name": "stdout",
     "output_type": "stream",
     "text": [
      "Matriz de confusión gradient boosting, testing:\n",
      " [[5127  952]\n",
      " [2051 1770]] \n",
      "\n",
      " ------------------------------------------------------- \n",
      "\n",
      "Classification_report training gradient boosting:\n",
      "               precision    recall  f1-score   support\n",
      "\n",
      "           0       0.67      0.86      0.75     12394\n",
      "           1       0.80      0.57      0.67     12394\n",
      "\n",
      "    accuracy                           0.72     24788\n",
      "   macro avg       0.74      0.72      0.71     24788\n",
      "weighted avg       0.74      0.72      0.71     24788\n",
      " \n",
      " ------------------------------------------------------- \n",
      "\n",
      "Classification_report testing gradient boosting:\n",
      "               precision    recall  f1-score   support\n",
      "\n",
      "           0       0.71      0.84      0.77      6079\n",
      "           1       0.65      0.46      0.54      3821\n",
      "\n",
      "    accuracy                           0.70      9900\n",
      "   macro avg       0.68      0.65      0.66      9900\n",
      "weighted avg       0.69      0.70      0.68      9900\n",
      "\n"
     ]
    }
   ],
   "source": [
    "# predicciones train y test\n",
    "gb_yhat_train_v3 = gb_model_v3.predict(X_train_oversamp)\n",
    "gb_yhat_test_v3 = gb_model_v3.predict(X_test_scaled)\n",
    "\n",
    "# métricas\n",
    "print_metricas(y_train=y_train_oversamp, model_yhat_train=gb_yhat_train_v3, model_yhat_test=gb_yhat_test_v3, name_model='gradient boosting')"
   ]
  },
  {
   "attachments": {},
   "cell_type": "markdown",
   "metadata": {},
   "source": [
    "## MODELO 3 Decision Tree Classifier"
   ]
  },
  {
   "cell_type": "code",
   "execution_count": 78,
   "metadata": {},
   "outputs": [
    {
     "name": "stdout",
     "output_type": "stream",
     "text": [
      "Fitting 5 folds for each of 108 candidates, totalling 540 fits\n"
     ]
    },
    {
     "data": {
      "text/html": [
       "<style>#sk-container-id-14 {color: black;background-color: white;}#sk-container-id-14 pre{padding: 0;}#sk-container-id-14 div.sk-toggleable {background-color: white;}#sk-container-id-14 label.sk-toggleable__label {cursor: pointer;display: block;width: 100%;margin-bottom: 0;padding: 0.3em;box-sizing: border-box;text-align: center;}#sk-container-id-14 label.sk-toggleable__label-arrow:before {content: \"▸\";float: left;margin-right: 0.25em;color: #696969;}#sk-container-id-14 label.sk-toggleable__label-arrow:hover:before {color: black;}#sk-container-id-14 div.sk-estimator:hover label.sk-toggleable__label-arrow:before {color: black;}#sk-container-id-14 div.sk-toggleable__content {max-height: 0;max-width: 0;overflow: hidden;text-align: left;background-color: #f0f8ff;}#sk-container-id-14 div.sk-toggleable__content pre {margin: 0.2em;color: black;border-radius: 0.25em;background-color: #f0f8ff;}#sk-container-id-14 input.sk-toggleable__control:checked~div.sk-toggleable__content {max-height: 200px;max-width: 100%;overflow: auto;}#sk-container-id-14 input.sk-toggleable__control:checked~label.sk-toggleable__label-arrow:before {content: \"▾\";}#sk-container-id-14 div.sk-estimator input.sk-toggleable__control:checked~label.sk-toggleable__label {background-color: #d4ebff;}#sk-container-id-14 div.sk-label input.sk-toggleable__control:checked~label.sk-toggleable__label {background-color: #d4ebff;}#sk-container-id-14 input.sk-hidden--visually {border: 0;clip: rect(1px 1px 1px 1px);clip: rect(1px, 1px, 1px, 1px);height: 1px;margin: -1px;overflow: hidden;padding: 0;position: absolute;width: 1px;}#sk-container-id-14 div.sk-estimator {font-family: monospace;background-color: #f0f8ff;border: 1px dotted black;border-radius: 0.25em;box-sizing: border-box;margin-bottom: 0.5em;}#sk-container-id-14 div.sk-estimator:hover {background-color: #d4ebff;}#sk-container-id-14 div.sk-parallel-item::after {content: \"\";width: 100%;border-bottom: 1px solid gray;flex-grow: 1;}#sk-container-id-14 div.sk-label:hover label.sk-toggleable__label {background-color: #d4ebff;}#sk-container-id-14 div.sk-serial::before {content: \"\";position: absolute;border-left: 1px solid gray;box-sizing: border-box;top: 0;bottom: 0;left: 50%;z-index: 0;}#sk-container-id-14 div.sk-serial {display: flex;flex-direction: column;align-items: center;background-color: white;padding-right: 0.2em;padding-left: 0.2em;position: relative;}#sk-container-id-14 div.sk-item {position: relative;z-index: 1;}#sk-container-id-14 div.sk-parallel {display: flex;align-items: stretch;justify-content: center;background-color: white;position: relative;}#sk-container-id-14 div.sk-item::before, #sk-container-id-14 div.sk-parallel-item::before {content: \"\";position: absolute;border-left: 1px solid gray;box-sizing: border-box;top: 0;bottom: 0;left: 50%;z-index: -1;}#sk-container-id-14 div.sk-parallel-item {display: flex;flex-direction: column;z-index: 1;position: relative;background-color: white;}#sk-container-id-14 div.sk-parallel-item:first-child::after {align-self: flex-end;width: 50%;}#sk-container-id-14 div.sk-parallel-item:last-child::after {align-self: flex-start;width: 50%;}#sk-container-id-14 div.sk-parallel-item:only-child::after {width: 0;}#sk-container-id-14 div.sk-dashed-wrapped {border: 1px dashed gray;margin: 0 0.4em 0.5em 0.4em;box-sizing: border-box;padding-bottom: 0.4em;background-color: white;}#sk-container-id-14 div.sk-label label {font-family: monospace;font-weight: bold;display: inline-block;line-height: 1.2em;}#sk-container-id-14 div.sk-label-container {text-align: center;}#sk-container-id-14 div.sk-container {/* jupyter's `normalize.less` sets `[hidden] { display: none; }` but bootstrap.min.css set `[hidden] { display: none !important; }` so we also need the `!important` here to be able to override the default hidden behavior on the sphinx rendered scikit-learn.org. See: https://github.com/scikit-learn/scikit-learn/issues/21755 */display: inline-block !important;position: relative;}#sk-container-id-14 div.sk-text-repr-fallback {display: none;}</style><div id=\"sk-container-id-14\" class=\"sk-top-container\"><div class=\"sk-text-repr-fallback\"><pre>GridSearchCV(cv=5, estimator=DecisionTreeClassifier(random_state=94), n_jobs=-1,\n",
       "             param_grid={&#x27;max_depth&#x27;: [None, 1, 5],\n",
       "                         &#x27;max_features&#x27;: [&#x27;sqrt&#x27;, &#x27;log2&#x27;, None],\n",
       "                         &#x27;min_samples_leaf&#x27;: [8, 9, 10],\n",
       "                         &#x27;min_samples_split&#x27;: [22, 23, 24, 25]},\n",
       "             verbose=1)</pre><b>In a Jupyter environment, please rerun this cell to show the HTML representation or trust the notebook. <br />On GitHub, the HTML representation is unable to render, please try loading this page with nbviewer.org.</b></div><div class=\"sk-container\" hidden><div class=\"sk-item sk-dashed-wrapped\"><div class=\"sk-label-container\"><div class=\"sk-label sk-toggleable\"><input class=\"sk-toggleable__control sk-hidden--visually\" id=\"sk-estimator-id-40\" type=\"checkbox\" ><label for=\"sk-estimator-id-40\" class=\"sk-toggleable__label sk-toggleable__label-arrow\">GridSearchCV</label><div class=\"sk-toggleable__content\"><pre>GridSearchCV(cv=5, estimator=DecisionTreeClassifier(random_state=94), n_jobs=-1,\n",
       "             param_grid={&#x27;max_depth&#x27;: [None, 1, 5],\n",
       "                         &#x27;max_features&#x27;: [&#x27;sqrt&#x27;, &#x27;log2&#x27;, None],\n",
       "                         &#x27;min_samples_leaf&#x27;: [8, 9, 10],\n",
       "                         &#x27;min_samples_split&#x27;: [22, 23, 24, 25]},\n",
       "             verbose=1)</pre></div></div></div><div class=\"sk-parallel\"><div class=\"sk-parallel-item\"><div class=\"sk-item\"><div class=\"sk-label-container\"><div class=\"sk-label sk-toggleable\"><input class=\"sk-toggleable__control sk-hidden--visually\" id=\"sk-estimator-id-41\" type=\"checkbox\" ><label for=\"sk-estimator-id-41\" class=\"sk-toggleable__label sk-toggleable__label-arrow\">estimator: DecisionTreeClassifier</label><div class=\"sk-toggleable__content\"><pre>DecisionTreeClassifier(random_state=94)</pre></div></div></div><div class=\"sk-serial\"><div class=\"sk-item\"><div class=\"sk-estimator sk-toggleable\"><input class=\"sk-toggleable__control sk-hidden--visually\" id=\"sk-estimator-id-42\" type=\"checkbox\" ><label for=\"sk-estimator-id-42\" class=\"sk-toggleable__label sk-toggleable__label-arrow\">DecisionTreeClassifier</label><div class=\"sk-toggleable__content\"><pre>DecisionTreeClassifier(random_state=94)</pre></div></div></div></div></div></div></div></div></div></div>"
      ],
      "text/plain": [
       "GridSearchCV(cv=5, estimator=DecisionTreeClassifier(random_state=94), n_jobs=-1,\n",
       "             param_grid={'max_depth': [None, 1, 5],\n",
       "                         'max_features': ['sqrt', 'log2', None],\n",
       "                         'min_samples_leaf': [8, 9, 10],\n",
       "                         'min_samples_split': [22, 23, 24, 25]},\n",
       "             verbose=1)"
      ]
     },
     "execution_count": 78,
     "metadata": {},
     "output_type": "execute_result"
    }
   ],
   "source": [
    "dec_tree_model_v3 = GridSearchCV(DecisionTreeClassifier(random_state=rep_seed),\n",
    "                                param_grid = dec_tree_grid_v2,\n",
    "                                cv=5,\n",
    "                                verbose=1,\n",
    "                                n_jobs=-1)\n",
    "\n",
    "# ajuste modelo\n",
    "dec_tree_model_v3.fit(X_train_oversamp, y_train_oversamp)"
   ]
  },
  {
   "cell_type": "code",
   "execution_count": 79,
   "metadata": {},
   "outputs": [
    {
     "data": {
      "text/plain": [
       "{'max_depth': None,\n",
       " 'max_features': None,\n",
       " 'min_samples_leaf': 9,\n",
       " 'min_samples_split': 23}"
      ]
     },
     "execution_count": 79,
     "metadata": {},
     "output_type": "execute_result"
    }
   ],
   "source": [
    "dec_tree_model_v3.best_params_"
   ]
  },
  {
   "cell_type": "code",
   "execution_count": 80,
   "metadata": {},
   "outputs": [
    {
     "name": "stdout",
     "output_type": "stream",
     "text": [
      "Matriz de confusión decision tree, testing:\n",
      " [[4758 1321]\n",
      " [1878 1943]] \n",
      "\n",
      " ------------------------------------------------------- \n",
      "\n",
      "Classification_report training decision tree:\n",
      "               precision    recall  f1-score   support\n",
      "\n",
      "           0       0.66      0.80      0.72     12394\n",
      "           1       0.75      0.59      0.66     12394\n",
      "\n",
      "    accuracy                           0.70     24788\n",
      "   macro avg       0.70      0.70      0.69     24788\n",
      "weighted avg       0.70      0.70      0.69     24788\n",
      " \n",
      " ------------------------------------------------------- \n",
      "\n",
      "Classification_report testing decision tree:\n",
      "               precision    recall  f1-score   support\n",
      "\n",
      "           0       0.72      0.78      0.75      6079\n",
      "           1       0.60      0.51      0.55      3821\n",
      "\n",
      "    accuracy                           0.68      9900\n",
      "   macro avg       0.66      0.65      0.65      9900\n",
      "weighted avg       0.67      0.68      0.67      9900\n",
      "\n"
     ]
    }
   ],
   "source": [
    "# predicciones train y test\n",
    "dec_tree_yhat_train_v3 = dec_tree_model_v3.predict(X_train_oversamp)\n",
    "dec_tree_yhat_test_v3 = dec_tree_model_v3.predict(X_test_scaled)\n",
    "\n",
    "# métricas\n",
    "print_metricas(y_train=y_train_oversamp, model_yhat_train=dec_tree_yhat_train_v3, model_yhat_test=dec_tree_yhat_test_v3, name_model='decision tree')"
   ]
  },
  {
   "attachments": {},
   "cell_type": "markdown",
   "metadata": {},
   "source": [
    "## MODELO 3 Random Forest"
   ]
  },
  {
   "cell_type": "code",
   "execution_count": 81,
   "metadata": {},
   "outputs": [
    {
     "name": "stdout",
     "output_type": "stream",
     "text": [
      "Fitting 5 folds for each of 45 candidates, totalling 225 fits\n"
     ]
    },
    {
     "data": {
      "text/html": [
       "<style>#sk-container-id-15 {color: black;background-color: white;}#sk-container-id-15 pre{padding: 0;}#sk-container-id-15 div.sk-toggleable {background-color: white;}#sk-container-id-15 label.sk-toggleable__label {cursor: pointer;display: block;width: 100%;margin-bottom: 0;padding: 0.3em;box-sizing: border-box;text-align: center;}#sk-container-id-15 label.sk-toggleable__label-arrow:before {content: \"▸\";float: left;margin-right: 0.25em;color: #696969;}#sk-container-id-15 label.sk-toggleable__label-arrow:hover:before {color: black;}#sk-container-id-15 div.sk-estimator:hover label.sk-toggleable__label-arrow:before {color: black;}#sk-container-id-15 div.sk-toggleable__content {max-height: 0;max-width: 0;overflow: hidden;text-align: left;background-color: #f0f8ff;}#sk-container-id-15 div.sk-toggleable__content pre {margin: 0.2em;color: black;border-radius: 0.25em;background-color: #f0f8ff;}#sk-container-id-15 input.sk-toggleable__control:checked~div.sk-toggleable__content {max-height: 200px;max-width: 100%;overflow: auto;}#sk-container-id-15 input.sk-toggleable__control:checked~label.sk-toggleable__label-arrow:before {content: \"▾\";}#sk-container-id-15 div.sk-estimator input.sk-toggleable__control:checked~label.sk-toggleable__label {background-color: #d4ebff;}#sk-container-id-15 div.sk-label input.sk-toggleable__control:checked~label.sk-toggleable__label {background-color: #d4ebff;}#sk-container-id-15 input.sk-hidden--visually {border: 0;clip: rect(1px 1px 1px 1px);clip: rect(1px, 1px, 1px, 1px);height: 1px;margin: -1px;overflow: hidden;padding: 0;position: absolute;width: 1px;}#sk-container-id-15 div.sk-estimator {font-family: monospace;background-color: #f0f8ff;border: 1px dotted black;border-radius: 0.25em;box-sizing: border-box;margin-bottom: 0.5em;}#sk-container-id-15 div.sk-estimator:hover {background-color: #d4ebff;}#sk-container-id-15 div.sk-parallel-item::after {content: \"\";width: 100%;border-bottom: 1px solid gray;flex-grow: 1;}#sk-container-id-15 div.sk-label:hover label.sk-toggleable__label {background-color: #d4ebff;}#sk-container-id-15 div.sk-serial::before {content: \"\";position: absolute;border-left: 1px solid gray;box-sizing: border-box;top: 0;bottom: 0;left: 50%;z-index: 0;}#sk-container-id-15 div.sk-serial {display: flex;flex-direction: column;align-items: center;background-color: white;padding-right: 0.2em;padding-left: 0.2em;position: relative;}#sk-container-id-15 div.sk-item {position: relative;z-index: 1;}#sk-container-id-15 div.sk-parallel {display: flex;align-items: stretch;justify-content: center;background-color: white;position: relative;}#sk-container-id-15 div.sk-item::before, #sk-container-id-15 div.sk-parallel-item::before {content: \"\";position: absolute;border-left: 1px solid gray;box-sizing: border-box;top: 0;bottom: 0;left: 50%;z-index: -1;}#sk-container-id-15 div.sk-parallel-item {display: flex;flex-direction: column;z-index: 1;position: relative;background-color: white;}#sk-container-id-15 div.sk-parallel-item:first-child::after {align-self: flex-end;width: 50%;}#sk-container-id-15 div.sk-parallel-item:last-child::after {align-self: flex-start;width: 50%;}#sk-container-id-15 div.sk-parallel-item:only-child::after {width: 0;}#sk-container-id-15 div.sk-dashed-wrapped {border: 1px dashed gray;margin: 0 0.4em 0.5em 0.4em;box-sizing: border-box;padding-bottom: 0.4em;background-color: white;}#sk-container-id-15 div.sk-label label {font-family: monospace;font-weight: bold;display: inline-block;line-height: 1.2em;}#sk-container-id-15 div.sk-label-container {text-align: center;}#sk-container-id-15 div.sk-container {/* jupyter's `normalize.less` sets `[hidden] { display: none; }` but bootstrap.min.css set `[hidden] { display: none !important; }` so we also need the `!important` here to be able to override the default hidden behavior on the sphinx rendered scikit-learn.org. See: https://github.com/scikit-learn/scikit-learn/issues/21755 */display: inline-block !important;position: relative;}#sk-container-id-15 div.sk-text-repr-fallback {display: none;}</style><div id=\"sk-container-id-15\" class=\"sk-top-container\"><div class=\"sk-text-repr-fallback\"><pre>GridSearchCV(cv=5, estimator=RandomForestClassifier(random_state=94), n_jobs=-1,\n",
       "             param_grid={&#x27;max_depth&#x27;: [None, 10, 20],\n",
       "                         &#x27;max_features&#x27;: [&#x27;sqrt&#x27;, &#x27;log2&#x27;, None],\n",
       "                         &#x27;n_estimators&#x27;: [160, 180, 200, 220, 240]},\n",
       "             verbose=1)</pre><b>In a Jupyter environment, please rerun this cell to show the HTML representation or trust the notebook. <br />On GitHub, the HTML representation is unable to render, please try loading this page with nbviewer.org.</b></div><div class=\"sk-container\" hidden><div class=\"sk-item sk-dashed-wrapped\"><div class=\"sk-label-container\"><div class=\"sk-label sk-toggleable\"><input class=\"sk-toggleable__control sk-hidden--visually\" id=\"sk-estimator-id-43\" type=\"checkbox\" ><label for=\"sk-estimator-id-43\" class=\"sk-toggleable__label sk-toggleable__label-arrow\">GridSearchCV</label><div class=\"sk-toggleable__content\"><pre>GridSearchCV(cv=5, estimator=RandomForestClassifier(random_state=94), n_jobs=-1,\n",
       "             param_grid={&#x27;max_depth&#x27;: [None, 10, 20],\n",
       "                         &#x27;max_features&#x27;: [&#x27;sqrt&#x27;, &#x27;log2&#x27;, None],\n",
       "                         &#x27;n_estimators&#x27;: [160, 180, 200, 220, 240]},\n",
       "             verbose=1)</pre></div></div></div><div class=\"sk-parallel\"><div class=\"sk-parallel-item\"><div class=\"sk-item\"><div class=\"sk-label-container\"><div class=\"sk-label sk-toggleable\"><input class=\"sk-toggleable__control sk-hidden--visually\" id=\"sk-estimator-id-44\" type=\"checkbox\" ><label for=\"sk-estimator-id-44\" class=\"sk-toggleable__label sk-toggleable__label-arrow\">estimator: RandomForestClassifier</label><div class=\"sk-toggleable__content\"><pre>RandomForestClassifier(random_state=94)</pre></div></div></div><div class=\"sk-serial\"><div class=\"sk-item\"><div class=\"sk-estimator sk-toggleable\"><input class=\"sk-toggleable__control sk-hidden--visually\" id=\"sk-estimator-id-45\" type=\"checkbox\" ><label for=\"sk-estimator-id-45\" class=\"sk-toggleable__label sk-toggleable__label-arrow\">RandomForestClassifier</label><div class=\"sk-toggleable__content\"><pre>RandomForestClassifier(random_state=94)</pre></div></div></div></div></div></div></div></div></div></div>"
      ],
      "text/plain": [
       "GridSearchCV(cv=5, estimator=RandomForestClassifier(random_state=94), n_jobs=-1,\n",
       "             param_grid={'max_depth': [None, 10, 20],\n",
       "                         'max_features': ['sqrt', 'log2', None],\n",
       "                         'n_estimators': [160, 180, 200, 220, 240]},\n",
       "             verbose=1)"
      ]
     },
     "execution_count": 81,
     "metadata": {},
     "output_type": "execute_result"
    }
   ],
   "source": [
    "rf_model_v3 = GridSearchCV(RandomForestClassifier(random_state=rep_seed),\n",
    "                            param_grid = rf_grid_v2,\n",
    "                            cv=5,\n",
    "                            verbose=1,\n",
    "                            n_jobs=-1)\n",
    "\n",
    "# ajuste modelo\n",
    "rf_model_v3.fit(X_train_oversamp, y_train_oversamp)"
   ]
  },
  {
   "cell_type": "code",
   "execution_count": 82,
   "metadata": {},
   "outputs": [
    {
     "data": {
      "text/plain": [
       "{'max_depth': None, 'max_features': 'log2', 'n_estimators': 200}"
      ]
     },
     "execution_count": 82,
     "metadata": {},
     "output_type": "execute_result"
    }
   ],
   "source": [
    "rf_model_v3.best_params_"
   ]
  },
  {
   "cell_type": "code",
   "execution_count": 83,
   "metadata": {},
   "outputs": [
    {
     "name": "stdout",
     "output_type": "stream",
     "text": [
      "Matriz de confusión random forest, testing:\n",
      " [[4718 1361]\n",
      " [1977 1844]] \n",
      "\n",
      " ------------------------------------------------------- \n",
      "\n",
      "Classification_report training random forest:\n",
      "               precision    recall  f1-score   support\n",
      "\n",
      "           0       0.75      0.90      0.82     12394\n",
      "           1       0.87      0.71      0.78     12394\n",
      "\n",
      "    accuracy                           0.80     24788\n",
      "   macro avg       0.81      0.80      0.80     24788\n",
      "weighted avg       0.81      0.80      0.80     24788\n",
      " \n",
      " ------------------------------------------------------- \n",
      "\n",
      "Classification_report testing random forest:\n",
      "               precision    recall  f1-score   support\n",
      "\n",
      "           0       0.70      0.78      0.74      6079\n",
      "           1       0.58      0.48      0.52      3821\n",
      "\n",
      "    accuracy                           0.66      9900\n",
      "   macro avg       0.64      0.63      0.63      9900\n",
      "weighted avg       0.65      0.66      0.66      9900\n",
      "\n"
     ]
    }
   ],
   "source": [
    "# predicciones train y test\n",
    "rf_yhat_train_v3 = rf_model_v3.predict(X_train_oversamp)\n",
    "rf_yhat_test_v3 = rf_model_v3.predict(X_test_scaled)\n",
    "\n",
    "# métricas\n",
    "print_metricas(y_train=y_train_oversamp, model_yhat_train=rf_yhat_train_v3, model_yhat_test=rf_yhat_test_v3, name_model='random forest')"
   ]
  },
  {
   "attachments": {},
   "cell_type": "markdown",
   "metadata": {},
   "source": [
    "## MODELO 3 LDA"
   ]
  },
  {
   "cell_type": "code",
   "execution_count": 84,
   "metadata": {},
   "outputs": [
    {
     "name": "stdout",
     "output_type": "stream",
     "text": [
      "Fitting 5 folds for each of 27 candidates, totalling 135 fits\n"
     ]
    },
    {
     "data": {
      "text/html": [
       "<style>#sk-container-id-16 {color: black;background-color: white;}#sk-container-id-16 pre{padding: 0;}#sk-container-id-16 div.sk-toggleable {background-color: white;}#sk-container-id-16 label.sk-toggleable__label {cursor: pointer;display: block;width: 100%;margin-bottom: 0;padding: 0.3em;box-sizing: border-box;text-align: center;}#sk-container-id-16 label.sk-toggleable__label-arrow:before {content: \"▸\";float: left;margin-right: 0.25em;color: #696969;}#sk-container-id-16 label.sk-toggleable__label-arrow:hover:before {color: black;}#sk-container-id-16 div.sk-estimator:hover label.sk-toggleable__label-arrow:before {color: black;}#sk-container-id-16 div.sk-toggleable__content {max-height: 0;max-width: 0;overflow: hidden;text-align: left;background-color: #f0f8ff;}#sk-container-id-16 div.sk-toggleable__content pre {margin: 0.2em;color: black;border-radius: 0.25em;background-color: #f0f8ff;}#sk-container-id-16 input.sk-toggleable__control:checked~div.sk-toggleable__content {max-height: 200px;max-width: 100%;overflow: auto;}#sk-container-id-16 input.sk-toggleable__control:checked~label.sk-toggleable__label-arrow:before {content: \"▾\";}#sk-container-id-16 div.sk-estimator input.sk-toggleable__control:checked~label.sk-toggleable__label {background-color: #d4ebff;}#sk-container-id-16 div.sk-label input.sk-toggleable__control:checked~label.sk-toggleable__label {background-color: #d4ebff;}#sk-container-id-16 input.sk-hidden--visually {border: 0;clip: rect(1px 1px 1px 1px);clip: rect(1px, 1px, 1px, 1px);height: 1px;margin: -1px;overflow: hidden;padding: 0;position: absolute;width: 1px;}#sk-container-id-16 div.sk-estimator {font-family: monospace;background-color: #f0f8ff;border: 1px dotted black;border-radius: 0.25em;box-sizing: border-box;margin-bottom: 0.5em;}#sk-container-id-16 div.sk-estimator:hover {background-color: #d4ebff;}#sk-container-id-16 div.sk-parallel-item::after {content: \"\";width: 100%;border-bottom: 1px solid gray;flex-grow: 1;}#sk-container-id-16 div.sk-label:hover label.sk-toggleable__label {background-color: #d4ebff;}#sk-container-id-16 div.sk-serial::before {content: \"\";position: absolute;border-left: 1px solid gray;box-sizing: border-box;top: 0;bottom: 0;left: 50%;z-index: 0;}#sk-container-id-16 div.sk-serial {display: flex;flex-direction: column;align-items: center;background-color: white;padding-right: 0.2em;padding-left: 0.2em;position: relative;}#sk-container-id-16 div.sk-item {position: relative;z-index: 1;}#sk-container-id-16 div.sk-parallel {display: flex;align-items: stretch;justify-content: center;background-color: white;position: relative;}#sk-container-id-16 div.sk-item::before, #sk-container-id-16 div.sk-parallel-item::before {content: \"\";position: absolute;border-left: 1px solid gray;box-sizing: border-box;top: 0;bottom: 0;left: 50%;z-index: -1;}#sk-container-id-16 div.sk-parallel-item {display: flex;flex-direction: column;z-index: 1;position: relative;background-color: white;}#sk-container-id-16 div.sk-parallel-item:first-child::after {align-self: flex-end;width: 50%;}#sk-container-id-16 div.sk-parallel-item:last-child::after {align-self: flex-start;width: 50%;}#sk-container-id-16 div.sk-parallel-item:only-child::after {width: 0;}#sk-container-id-16 div.sk-dashed-wrapped {border: 1px dashed gray;margin: 0 0.4em 0.5em 0.4em;box-sizing: border-box;padding-bottom: 0.4em;background-color: white;}#sk-container-id-16 div.sk-label label {font-family: monospace;font-weight: bold;display: inline-block;line-height: 1.2em;}#sk-container-id-16 div.sk-label-container {text-align: center;}#sk-container-id-16 div.sk-container {/* jupyter's `normalize.less` sets `[hidden] { display: none; }` but bootstrap.min.css set `[hidden] { display: none !important; }` so we also need the `!important` here to be able to override the default hidden behavior on the sphinx rendered scikit-learn.org. See: https://github.com/scikit-learn/scikit-learn/issues/21755 */display: inline-block !important;position: relative;}#sk-container-id-16 div.sk-text-repr-fallback {display: none;}</style><div id=\"sk-container-id-16\" class=\"sk-top-container\"><div class=\"sk-text-repr-fallback\"><pre>GridSearchCV(cv=5, estimator=LinearDiscriminantAnalysis(), n_jobs=-1,\n",
       "             param_grid={&#x27;priors&#x27;: [None, [0.2, 0.8], [0.5, 0.5]],\n",
       "                         &#x27;solver&#x27;: [&#x27;svd&#x27;, &#x27;lsqr&#x27;, &#x27;eigen&#x27;],\n",
       "                         &#x27;tol&#x27;: [1e-05, 0.0001, 0.001]},\n",
       "             verbose=1)</pre><b>In a Jupyter environment, please rerun this cell to show the HTML representation or trust the notebook. <br />On GitHub, the HTML representation is unable to render, please try loading this page with nbviewer.org.</b></div><div class=\"sk-container\" hidden><div class=\"sk-item sk-dashed-wrapped\"><div class=\"sk-label-container\"><div class=\"sk-label sk-toggleable\"><input class=\"sk-toggleable__control sk-hidden--visually\" id=\"sk-estimator-id-46\" type=\"checkbox\" ><label for=\"sk-estimator-id-46\" class=\"sk-toggleable__label sk-toggleable__label-arrow\">GridSearchCV</label><div class=\"sk-toggleable__content\"><pre>GridSearchCV(cv=5, estimator=LinearDiscriminantAnalysis(), n_jobs=-1,\n",
       "             param_grid={&#x27;priors&#x27;: [None, [0.2, 0.8], [0.5, 0.5]],\n",
       "                         &#x27;solver&#x27;: [&#x27;svd&#x27;, &#x27;lsqr&#x27;, &#x27;eigen&#x27;],\n",
       "                         &#x27;tol&#x27;: [1e-05, 0.0001, 0.001]},\n",
       "             verbose=1)</pre></div></div></div><div class=\"sk-parallel\"><div class=\"sk-parallel-item\"><div class=\"sk-item\"><div class=\"sk-label-container\"><div class=\"sk-label sk-toggleable\"><input class=\"sk-toggleable__control sk-hidden--visually\" id=\"sk-estimator-id-47\" type=\"checkbox\" ><label for=\"sk-estimator-id-47\" class=\"sk-toggleable__label sk-toggleable__label-arrow\">estimator: LinearDiscriminantAnalysis</label><div class=\"sk-toggleable__content\"><pre>LinearDiscriminantAnalysis()</pre></div></div></div><div class=\"sk-serial\"><div class=\"sk-item\"><div class=\"sk-estimator sk-toggleable\"><input class=\"sk-toggleable__control sk-hidden--visually\" id=\"sk-estimator-id-48\" type=\"checkbox\" ><label for=\"sk-estimator-id-48\" class=\"sk-toggleable__label sk-toggleable__label-arrow\">LinearDiscriminantAnalysis</label><div class=\"sk-toggleable__content\"><pre>LinearDiscriminantAnalysis()</pre></div></div></div></div></div></div></div></div></div></div>"
      ],
      "text/plain": [
       "GridSearchCV(cv=5, estimator=LinearDiscriminantAnalysis(), n_jobs=-1,\n",
       "             param_grid={'priors': [None, [0.2, 0.8], [0.5, 0.5]],\n",
       "                         'solver': ['svd', 'lsqr', 'eigen'],\n",
       "                         'tol': [1e-05, 0.0001, 0.001]},\n",
       "             verbose=1)"
      ]
     },
     "execution_count": 84,
     "metadata": {},
     "output_type": "execute_result"
    }
   ],
   "source": [
    "lda_model_v3 = GridSearchCV(LinearDiscriminantAnalysis(),\n",
    "                            param_grid = lda_grid_v2,\n",
    "                            cv=5,\n",
    "                            verbose=1,\n",
    "                            n_jobs=-1)\n",
    "\n",
    "# ajuste modelo\n",
    "lda_model_v3.fit(X_train_oversamp, y_train_oversamp)"
   ]
  },
  {
   "cell_type": "code",
   "execution_count": 85,
   "metadata": {},
   "outputs": [
    {
     "data": {
      "text/plain": [
       "{'priors': None, 'solver': 'svd', 'tol': 1e-05}"
      ]
     },
     "execution_count": 85,
     "metadata": {},
     "output_type": "execute_result"
    }
   ],
   "source": [
    "lda_model_v3.best_params_"
   ]
  },
  {
   "cell_type": "code",
   "execution_count": 86,
   "metadata": {},
   "outputs": [
    {
     "name": "stdout",
     "output_type": "stream",
     "text": [
      "Matriz de confusión lda, testing:\n",
      " [[4877 1202]\n",
      " [1855 1966]] \n",
      "\n",
      " ------------------------------------------------------- \n",
      "\n",
      "Classification_report training lda:\n",
      "               precision    recall  f1-score   support\n",
      "\n",
      "           0       0.63      0.80      0.70     12394\n",
      "           1       0.72      0.52      0.61     12394\n",
      "\n",
      "    accuracy                           0.66     24788\n",
      "   macro avg       0.68      0.66      0.65     24788\n",
      "weighted avg       0.68      0.66      0.65     24788\n",
      " \n",
      " ------------------------------------------------------- \n",
      "\n",
      "Classification_report testing lda:\n",
      "               precision    recall  f1-score   support\n",
      "\n",
      "           0       0.72      0.80      0.76      6079\n",
      "           1       0.62      0.51      0.56      3821\n",
      "\n",
      "    accuracy                           0.69      9900\n",
      "   macro avg       0.67      0.66      0.66      9900\n",
      "weighted avg       0.68      0.69      0.68      9900\n",
      "\n"
     ]
    }
   ],
   "source": [
    "# predicciones train y test\n",
    "lda_yhat_train_v3 = lda_model_v3.predict(X_train_oversamp)\n",
    "lda_yhat_test_v3 = lda_model_v3.predict(X_test_scaled)\n",
    "\n",
    "# métricas\n",
    "print_metricas(y_train=y_train_oversamp, model_yhat_train=lda_yhat_train_v3, model_yhat_test=lda_yhat_test_v3, name_model='lda')"
   ]
  },
  {
   "attachments": {},
   "cell_type": "markdown",
   "metadata": {},
   "source": [
    "## MODELO 3 BernoulliNB"
   ]
  },
  {
   "cell_type": "code",
   "execution_count": 87,
   "metadata": {},
   "outputs": [
    {
     "name": "stdout",
     "output_type": "stream",
     "text": [
      "Fitting 5 folds for each of 70 candidates, totalling 350 fits\n"
     ]
    },
    {
     "data": {
      "text/html": [
       "<style>#sk-container-id-17 {color: black;background-color: white;}#sk-container-id-17 pre{padding: 0;}#sk-container-id-17 div.sk-toggleable {background-color: white;}#sk-container-id-17 label.sk-toggleable__label {cursor: pointer;display: block;width: 100%;margin-bottom: 0;padding: 0.3em;box-sizing: border-box;text-align: center;}#sk-container-id-17 label.sk-toggleable__label-arrow:before {content: \"▸\";float: left;margin-right: 0.25em;color: #696969;}#sk-container-id-17 label.sk-toggleable__label-arrow:hover:before {color: black;}#sk-container-id-17 div.sk-estimator:hover label.sk-toggleable__label-arrow:before {color: black;}#sk-container-id-17 div.sk-toggleable__content {max-height: 0;max-width: 0;overflow: hidden;text-align: left;background-color: #f0f8ff;}#sk-container-id-17 div.sk-toggleable__content pre {margin: 0.2em;color: black;border-radius: 0.25em;background-color: #f0f8ff;}#sk-container-id-17 input.sk-toggleable__control:checked~div.sk-toggleable__content {max-height: 200px;max-width: 100%;overflow: auto;}#sk-container-id-17 input.sk-toggleable__control:checked~label.sk-toggleable__label-arrow:before {content: \"▾\";}#sk-container-id-17 div.sk-estimator input.sk-toggleable__control:checked~label.sk-toggleable__label {background-color: #d4ebff;}#sk-container-id-17 div.sk-label input.sk-toggleable__control:checked~label.sk-toggleable__label {background-color: #d4ebff;}#sk-container-id-17 input.sk-hidden--visually {border: 0;clip: rect(1px 1px 1px 1px);clip: rect(1px, 1px, 1px, 1px);height: 1px;margin: -1px;overflow: hidden;padding: 0;position: absolute;width: 1px;}#sk-container-id-17 div.sk-estimator {font-family: monospace;background-color: #f0f8ff;border: 1px dotted black;border-radius: 0.25em;box-sizing: border-box;margin-bottom: 0.5em;}#sk-container-id-17 div.sk-estimator:hover {background-color: #d4ebff;}#sk-container-id-17 div.sk-parallel-item::after {content: \"\";width: 100%;border-bottom: 1px solid gray;flex-grow: 1;}#sk-container-id-17 div.sk-label:hover label.sk-toggleable__label {background-color: #d4ebff;}#sk-container-id-17 div.sk-serial::before {content: \"\";position: absolute;border-left: 1px solid gray;box-sizing: border-box;top: 0;bottom: 0;left: 50%;z-index: 0;}#sk-container-id-17 div.sk-serial {display: flex;flex-direction: column;align-items: center;background-color: white;padding-right: 0.2em;padding-left: 0.2em;position: relative;}#sk-container-id-17 div.sk-item {position: relative;z-index: 1;}#sk-container-id-17 div.sk-parallel {display: flex;align-items: stretch;justify-content: center;background-color: white;position: relative;}#sk-container-id-17 div.sk-item::before, #sk-container-id-17 div.sk-parallel-item::before {content: \"\";position: absolute;border-left: 1px solid gray;box-sizing: border-box;top: 0;bottom: 0;left: 50%;z-index: -1;}#sk-container-id-17 div.sk-parallel-item {display: flex;flex-direction: column;z-index: 1;position: relative;background-color: white;}#sk-container-id-17 div.sk-parallel-item:first-child::after {align-self: flex-end;width: 50%;}#sk-container-id-17 div.sk-parallel-item:last-child::after {align-self: flex-start;width: 50%;}#sk-container-id-17 div.sk-parallel-item:only-child::after {width: 0;}#sk-container-id-17 div.sk-dashed-wrapped {border: 1px dashed gray;margin: 0 0.4em 0.5em 0.4em;box-sizing: border-box;padding-bottom: 0.4em;background-color: white;}#sk-container-id-17 div.sk-label label {font-family: monospace;font-weight: bold;display: inline-block;line-height: 1.2em;}#sk-container-id-17 div.sk-label-container {text-align: center;}#sk-container-id-17 div.sk-container {/* jupyter's `normalize.less` sets `[hidden] { display: none; }` but bootstrap.min.css set `[hidden] { display: none !important; }` so we also need the `!important` here to be able to override the default hidden behavior on the sphinx rendered scikit-learn.org. See: https://github.com/scikit-learn/scikit-learn/issues/21755 */display: inline-block !important;position: relative;}#sk-container-id-17 div.sk-text-repr-fallback {display: none;}</style><div id=\"sk-container-id-17\" class=\"sk-top-container\"><div class=\"sk-text-repr-fallback\"><pre>GridSearchCV(cv=5, estimator=BernoulliNB(), n_jobs=-1,\n",
       "             param_grid={&#x27;alpha&#x27;: [0.36, 0.38, 0.4, 0.42, 0.44],\n",
       "                         &#x27;binarize&#x27;: [None, 0.05, 0.07, 0.1, 0.13, 0.15, 0.2],\n",
       "                         &#x27;fit_prior&#x27;: [True, False]},\n",
       "             verbose=1)</pre><b>In a Jupyter environment, please rerun this cell to show the HTML representation or trust the notebook. <br />On GitHub, the HTML representation is unable to render, please try loading this page with nbviewer.org.</b></div><div class=\"sk-container\" hidden><div class=\"sk-item sk-dashed-wrapped\"><div class=\"sk-label-container\"><div class=\"sk-label sk-toggleable\"><input class=\"sk-toggleable__control sk-hidden--visually\" id=\"sk-estimator-id-49\" type=\"checkbox\" ><label for=\"sk-estimator-id-49\" class=\"sk-toggleable__label sk-toggleable__label-arrow\">GridSearchCV</label><div class=\"sk-toggleable__content\"><pre>GridSearchCV(cv=5, estimator=BernoulliNB(), n_jobs=-1,\n",
       "             param_grid={&#x27;alpha&#x27;: [0.36, 0.38, 0.4, 0.42, 0.44],\n",
       "                         &#x27;binarize&#x27;: [None, 0.05, 0.07, 0.1, 0.13, 0.15, 0.2],\n",
       "                         &#x27;fit_prior&#x27;: [True, False]},\n",
       "             verbose=1)</pre></div></div></div><div class=\"sk-parallel\"><div class=\"sk-parallel-item\"><div class=\"sk-item\"><div class=\"sk-label-container\"><div class=\"sk-label sk-toggleable\"><input class=\"sk-toggleable__control sk-hidden--visually\" id=\"sk-estimator-id-50\" type=\"checkbox\" ><label for=\"sk-estimator-id-50\" class=\"sk-toggleable__label sk-toggleable__label-arrow\">estimator: BernoulliNB</label><div class=\"sk-toggleable__content\"><pre>BernoulliNB()</pre></div></div></div><div class=\"sk-serial\"><div class=\"sk-item\"><div class=\"sk-estimator sk-toggleable\"><input class=\"sk-toggleable__control sk-hidden--visually\" id=\"sk-estimator-id-51\" type=\"checkbox\" ><label for=\"sk-estimator-id-51\" class=\"sk-toggleable__label sk-toggleable__label-arrow\">BernoulliNB</label><div class=\"sk-toggleable__content\"><pre>BernoulliNB()</pre></div></div></div></div></div></div></div></div></div></div>"
      ],
      "text/plain": [
       "GridSearchCV(cv=5, estimator=BernoulliNB(), n_jobs=-1,\n",
       "             param_grid={'alpha': [0.36, 0.38, 0.4, 0.42, 0.44],\n",
       "                         'binarize': [None, 0.05, 0.07, 0.1, 0.13, 0.15, 0.2],\n",
       "                         'fit_prior': [True, False]},\n",
       "             verbose=1)"
      ]
     },
     "execution_count": 87,
     "metadata": {},
     "output_type": "execute_result"
    }
   ],
   "source": [
    "bernoulli_nb_model_v3 = GridSearchCV(BernoulliNB(),\n",
    "                                    param_grid = bernoulli_nb_grid_v2,\n",
    "                                    cv=5,\n",
    "                                    verbose=1,\n",
    "                                    n_jobs=-1)\n",
    "                                \n",
    "# ajuste modelo\n",
    "bernoulli_nb_model_v3.fit(X_train_oversamp, y_train_oversamp)"
   ]
  },
  {
   "cell_type": "code",
   "execution_count": 88,
   "metadata": {},
   "outputs": [
    {
     "data": {
      "text/plain": [
       "{'alpha': 0.38, 'binarize': 0.05, 'fit_prior': False}"
      ]
     },
     "execution_count": 88,
     "metadata": {},
     "output_type": "execute_result"
    }
   ],
   "source": [
    "bernoulli_nb_model_v3.best_params_"
   ]
  },
  {
   "cell_type": "code",
   "execution_count": 89,
   "metadata": {},
   "outputs": [
    {
     "name": "stdout",
     "output_type": "stream",
     "text": [
      "Matriz de confusión bernoulli_nb, testing:\n",
      " [[4822 1257]\n",
      " [1852 1969]] \n",
      "\n",
      " ------------------------------------------------------- \n",
      "\n",
      "Classification_report training bernoulli_nb:\n",
      "               precision    recall  f1-score   support\n",
      "\n",
      "           0       0.63      0.79      0.70     12394\n",
      "           1       0.72      0.53      0.61     12394\n",
      "\n",
      "    accuracy                           0.66     24788\n",
      "   macro avg       0.67      0.66      0.65     24788\n",
      "weighted avg       0.67      0.66      0.65     24788\n",
      " \n",
      " ------------------------------------------------------- \n",
      "\n",
      "Classification_report testing bernoulli_nb:\n",
      "               precision    recall  f1-score   support\n",
      "\n",
      "           0       0.72      0.79      0.76      6079\n",
      "           1       0.61      0.52      0.56      3821\n",
      "\n",
      "    accuracy                           0.69      9900\n",
      "   macro avg       0.67      0.65      0.66      9900\n",
      "weighted avg       0.68      0.69      0.68      9900\n",
      "\n"
     ]
    }
   ],
   "source": [
    "# predicciones train y test\n",
    "bernoulli_nb_yhat_train_v3 = bernoulli_nb_model_v3.predict(X_train_oversamp)\n",
    "bernoulli_nb_yhat_test_v3 = bernoulli_nb_model_v3.predict(X_test_scaled)\n",
    "\n",
    "# métricas\n",
    "print_metricas(y_train=y_train_oversamp, model_yhat_train=bernoulli_nb_yhat_train_v3, model_yhat_test=bernoulli_nb_yhat_test_v3, name_model='bernoulli_nb')"
   ]
  },
  {
   "attachments": {},
   "cell_type": "markdown",
   "metadata": {},
   "source": [
    "## MODELO 3 Logistic Regression"
   ]
  },
  {
   "cell_type": "code",
   "execution_count": 90,
   "metadata": {},
   "outputs": [
    {
     "name": "stdout",
     "output_type": "stream",
     "text": [
      "Fitting 5 folds for each of 960 candidates, totalling 4800 fits\n"
     ]
    },
    {
     "data": {
      "text/html": [
       "<style>#sk-container-id-18 {color: black;background-color: white;}#sk-container-id-18 pre{padding: 0;}#sk-container-id-18 div.sk-toggleable {background-color: white;}#sk-container-id-18 label.sk-toggleable__label {cursor: pointer;display: block;width: 100%;margin-bottom: 0;padding: 0.3em;box-sizing: border-box;text-align: center;}#sk-container-id-18 label.sk-toggleable__label-arrow:before {content: \"▸\";float: left;margin-right: 0.25em;color: #696969;}#sk-container-id-18 label.sk-toggleable__label-arrow:hover:before {color: black;}#sk-container-id-18 div.sk-estimator:hover label.sk-toggleable__label-arrow:before {color: black;}#sk-container-id-18 div.sk-toggleable__content {max-height: 0;max-width: 0;overflow: hidden;text-align: left;background-color: #f0f8ff;}#sk-container-id-18 div.sk-toggleable__content pre {margin: 0.2em;color: black;border-radius: 0.25em;background-color: #f0f8ff;}#sk-container-id-18 input.sk-toggleable__control:checked~div.sk-toggleable__content {max-height: 200px;max-width: 100%;overflow: auto;}#sk-container-id-18 input.sk-toggleable__control:checked~label.sk-toggleable__label-arrow:before {content: \"▾\";}#sk-container-id-18 div.sk-estimator input.sk-toggleable__control:checked~label.sk-toggleable__label {background-color: #d4ebff;}#sk-container-id-18 div.sk-label input.sk-toggleable__control:checked~label.sk-toggleable__label {background-color: #d4ebff;}#sk-container-id-18 input.sk-hidden--visually {border: 0;clip: rect(1px 1px 1px 1px);clip: rect(1px, 1px, 1px, 1px);height: 1px;margin: -1px;overflow: hidden;padding: 0;position: absolute;width: 1px;}#sk-container-id-18 div.sk-estimator {font-family: monospace;background-color: #f0f8ff;border: 1px dotted black;border-radius: 0.25em;box-sizing: border-box;margin-bottom: 0.5em;}#sk-container-id-18 div.sk-estimator:hover {background-color: #d4ebff;}#sk-container-id-18 div.sk-parallel-item::after {content: \"\";width: 100%;border-bottom: 1px solid gray;flex-grow: 1;}#sk-container-id-18 div.sk-label:hover label.sk-toggleable__label {background-color: #d4ebff;}#sk-container-id-18 div.sk-serial::before {content: \"\";position: absolute;border-left: 1px solid gray;box-sizing: border-box;top: 0;bottom: 0;left: 50%;z-index: 0;}#sk-container-id-18 div.sk-serial {display: flex;flex-direction: column;align-items: center;background-color: white;padding-right: 0.2em;padding-left: 0.2em;position: relative;}#sk-container-id-18 div.sk-item {position: relative;z-index: 1;}#sk-container-id-18 div.sk-parallel {display: flex;align-items: stretch;justify-content: center;background-color: white;position: relative;}#sk-container-id-18 div.sk-item::before, #sk-container-id-18 div.sk-parallel-item::before {content: \"\";position: absolute;border-left: 1px solid gray;box-sizing: border-box;top: 0;bottom: 0;left: 50%;z-index: -1;}#sk-container-id-18 div.sk-parallel-item {display: flex;flex-direction: column;z-index: 1;position: relative;background-color: white;}#sk-container-id-18 div.sk-parallel-item:first-child::after {align-self: flex-end;width: 50%;}#sk-container-id-18 div.sk-parallel-item:last-child::after {align-self: flex-start;width: 50%;}#sk-container-id-18 div.sk-parallel-item:only-child::after {width: 0;}#sk-container-id-18 div.sk-dashed-wrapped {border: 1px dashed gray;margin: 0 0.4em 0.5em 0.4em;box-sizing: border-box;padding-bottom: 0.4em;background-color: white;}#sk-container-id-18 div.sk-label label {font-family: monospace;font-weight: bold;display: inline-block;line-height: 1.2em;}#sk-container-id-18 div.sk-label-container {text-align: center;}#sk-container-id-18 div.sk-container {/* jupyter's `normalize.less` sets `[hidden] { display: none; }` but bootstrap.min.css set `[hidden] { display: none !important; }` so we also need the `!important` here to be able to override the default hidden behavior on the sphinx rendered scikit-learn.org. See: https://github.com/scikit-learn/scikit-learn/issues/21755 */display: inline-block !important;position: relative;}#sk-container-id-18 div.sk-text-repr-fallback {display: none;}</style><div id=\"sk-container-id-18\" class=\"sk-top-container\"><div class=\"sk-text-repr-fallback\"><pre>GridSearchCV(cv=5, estimator=LogisticRegression(random_state=94), n_jobs=-1,\n",
       "             param_grid={&#x27;C&#x27;: [0.001, 0.01, 0.1, 1],\n",
       "                         &#x27;fit_intercept&#x27;: [True, False],\n",
       "                         &#x27;max_iter&#x27;: [20, 50, 100, 200, 400],\n",
       "                         &#x27;solver&#x27;: [&#x27;lbfgs&#x27;, &#x27;liblinear&#x27;, &#x27;newton-cg&#x27;,\n",
       "                                    &#x27;newton-cholesky&#x27;, &#x27;sag&#x27;, &#x27;saga&#x27;],\n",
       "                         &#x27;tol&#x27;: [0.001, 0.01, 0.1, 1]},\n",
       "             verbose=1)</pre><b>In a Jupyter environment, please rerun this cell to show the HTML representation or trust the notebook. <br />On GitHub, the HTML representation is unable to render, please try loading this page with nbviewer.org.</b></div><div class=\"sk-container\" hidden><div class=\"sk-item sk-dashed-wrapped\"><div class=\"sk-label-container\"><div class=\"sk-label sk-toggleable\"><input class=\"sk-toggleable__control sk-hidden--visually\" id=\"sk-estimator-id-52\" type=\"checkbox\" ><label for=\"sk-estimator-id-52\" class=\"sk-toggleable__label sk-toggleable__label-arrow\">GridSearchCV</label><div class=\"sk-toggleable__content\"><pre>GridSearchCV(cv=5, estimator=LogisticRegression(random_state=94), n_jobs=-1,\n",
       "             param_grid={&#x27;C&#x27;: [0.001, 0.01, 0.1, 1],\n",
       "                         &#x27;fit_intercept&#x27;: [True, False],\n",
       "                         &#x27;max_iter&#x27;: [20, 50, 100, 200, 400],\n",
       "                         &#x27;solver&#x27;: [&#x27;lbfgs&#x27;, &#x27;liblinear&#x27;, &#x27;newton-cg&#x27;,\n",
       "                                    &#x27;newton-cholesky&#x27;, &#x27;sag&#x27;, &#x27;saga&#x27;],\n",
       "                         &#x27;tol&#x27;: [0.001, 0.01, 0.1, 1]},\n",
       "             verbose=1)</pre></div></div></div><div class=\"sk-parallel\"><div class=\"sk-parallel-item\"><div class=\"sk-item\"><div class=\"sk-label-container\"><div class=\"sk-label sk-toggleable\"><input class=\"sk-toggleable__control sk-hidden--visually\" id=\"sk-estimator-id-53\" type=\"checkbox\" ><label for=\"sk-estimator-id-53\" class=\"sk-toggleable__label sk-toggleable__label-arrow\">estimator: LogisticRegression</label><div class=\"sk-toggleable__content\"><pre>LogisticRegression(random_state=94)</pre></div></div></div><div class=\"sk-serial\"><div class=\"sk-item\"><div class=\"sk-estimator sk-toggleable\"><input class=\"sk-toggleable__control sk-hidden--visually\" id=\"sk-estimator-id-54\" type=\"checkbox\" ><label for=\"sk-estimator-id-54\" class=\"sk-toggleable__label sk-toggleable__label-arrow\">LogisticRegression</label><div class=\"sk-toggleable__content\"><pre>LogisticRegression(random_state=94)</pre></div></div></div></div></div></div></div></div></div></div>"
      ],
      "text/plain": [
       "GridSearchCV(cv=5, estimator=LogisticRegression(random_state=94), n_jobs=-1,\n",
       "             param_grid={'C': [0.001, 0.01, 0.1, 1],\n",
       "                         'fit_intercept': [True, False],\n",
       "                         'max_iter': [20, 50, 100, 200, 400],\n",
       "                         'solver': ['lbfgs', 'liblinear', 'newton-cg',\n",
       "                                    'newton-cholesky', 'sag', 'saga'],\n",
       "                         'tol': [0.001, 0.01, 0.1, 1]},\n",
       "             verbose=1)"
      ]
     },
     "execution_count": 90,
     "metadata": {},
     "output_type": "execute_result"
    }
   ],
   "source": [
    "lr_model_v3 = GridSearchCV(LogisticRegression(random_state=rep_seed),\n",
    "                            param_grid=lr_grid_v2,\n",
    "                            cv=5,\n",
    "                            verbose=1,\n",
    "                            n_jobs=-1\n",
    ")\n",
    "\n",
    "# ajuste modelo\n",
    "lr_model_v3.fit(X_train_oversamp, y_train_oversamp)"
   ]
  },
  {
   "cell_type": "code",
   "execution_count": 91,
   "metadata": {},
   "outputs": [
    {
     "data": {
      "text/plain": [
       "{'C': 0.001,\n",
       " 'fit_intercept': False,\n",
       " 'max_iter': 20,\n",
       " 'solver': 'newton-cholesky',\n",
       " 'tol': 0.1}"
      ]
     },
     "execution_count": 91,
     "metadata": {},
     "output_type": "execute_result"
    }
   ],
   "source": [
    "lr_model_v3.best_params_"
   ]
  },
  {
   "cell_type": "code",
   "execution_count": 92,
   "metadata": {},
   "outputs": [
    {
     "name": "stdout",
     "output_type": "stream",
     "text": [
      "Matriz de confusión logistic regression, testing:\n",
      " [[4645 1434]\n",
      " [1743 2078]] \n",
      "\n",
      " ------------------------------------------------------- \n",
      "\n",
      "Classification_report training logistic regression:\n",
      "               precision    recall  f1-score   support\n",
      "\n",
      "           0       0.63      0.77      0.70     12394\n",
      "           1       0.71      0.55      0.62     12394\n",
      "\n",
      "    accuracy                           0.66     24788\n",
      "   macro avg       0.67      0.66      0.66     24788\n",
      "weighted avg       0.67      0.66      0.66     24788\n",
      " \n",
      " ------------------------------------------------------- \n",
      "\n",
      "Classification_report testing logistic regression:\n",
      "               precision    recall  f1-score   support\n",
      "\n",
      "           0       0.73      0.76      0.75      6079\n",
      "           1       0.59      0.54      0.57      3821\n",
      "\n",
      "    accuracy                           0.68      9900\n",
      "   macro avg       0.66      0.65      0.66      9900\n",
      "weighted avg       0.67      0.68      0.68      9900\n",
      "\n"
     ]
    }
   ],
   "source": [
    "# predicciones train y test\n",
    "lr_yhat_train_v3 = lr_model_v3.predict(X_train_oversamp)\n",
    "lr_yhat_test_v3 = lr_model_v3.predict(X_test_scaled)\n",
    "\n",
    "# métricas\n",
    "print_metricas(y_train=y_train_oversamp, model_yhat_train=lr_yhat_train_v3, model_yhat_test=lr_yhat_test_v3, name_model='logistic regression')"
   ]
  },
  {
   "attachments": {},
   "cell_type": "markdown",
   "metadata": {},
   "source": [
    "    En esta tercera iteración, que consideró la modificación de las grillas de hiperparámetros y la utilización de los datos de entrenamiento con oversampling, se observan variaciones poco significativas en las métricas.\n",
    "    Los modelos que sufrieron cambios fueron gradient boosting, decision tree y logistic regression. Los demás preservaron los mismos resultados que los obtenidos en la segunda iteración.\n",
    "    Al igual que antes, de los seis modelos, gradient boosting y random forest son los que tienen valores de recall bajo 0.5, siendo esta métrica la más baja en todos los modelos y cuyo máximo valor de 0.54 se alcanzó con el modelo logistic regression."
   ]
  },
  {
   "attachments": {},
   "cell_type": "markdown",
   "metadata": {},
   "source": [
    "### <span style=\"color:#87CEEB\"> Curvas ROC de la tercera iteración de modelos."
   ]
  },
  {
   "cell_type": "code",
   "execution_count": 93,
   "metadata": {},
   "outputs": [
    {
     "data": {
      "image/png": "[encoded data removed]",
      "text/plain": [
       "<Figure size 1000x800 with 1 Axes>"
      ]
     },
     "metadata": {},
     "output_type": "display_data"
    }
   ],
   "source": [
    "print_roc_auc(gb_model=gb_model_v3, dec_tree_model=dec_tree_model_v3, rf_model=rf_model_v3, \n",
    "            lda_model=lda_model_v3, bernoulli_nb_model=bernoulli_nb_model_v3, lr_model=lr_model_v3, X_test=X_test_scaled)"
   ]
  },
  {
   "attachments": {},
   "cell_type": "markdown",
   "metadata": {},
   "source": [
    "    De manera similar a lo observado en las métricas, es consistente que las curvas ROC tuvieran variaciones poco significativas, con un leve aumento del puntaje AUC en algunos casos.\n",
    "    Al igual que antes, los resultados muestran que los modelos siguen siendo mejor que un clasificador aleatorio."
   ]
  },
  {
   "attachments": {},
   "cell_type": "markdown",
   "metadata": {},
   "source": [
    "#### <span style=\"color:#87CEEB\"> Generar un reporte comparativo del desempeño de los modelos"
   ]
  },
  {
   "attachments": {},
   "cell_type": "markdown",
   "metadata": {},
   "source": [
    "    A continuación se muestra un resumen de las métricas obtenidas para las tres iteraciones de los modelos de clasificación (datos validación)."
   ]
  },
  {
   "cell_type": "code",
   "execution_count": 94,
   "metadata": {},
   "outputs": [],
   "source": [
    "def model_report(iteracion, gb_model, dec_tree_model, rf_model, lda_model, bernoulli_nb_model, lr_model):\n",
    "    \"\"\"\n",
    "    Retorna un dataframe que contiene las métricas calculadas en la iteración i.\n",
    "\n",
    "    Parameters\n",
    "    ----------\n",
    "    iteracion: int\n",
    "        número de iteración de los modelos\n",
    "\n",
    "    gb_model: variable\n",
    "    modelo ajustado de Gradient Boosting Classifier\n",
    "\n",
    "    dec_tree_model: variable\n",
    "    modelo ajustado de Decision Tree Classifier\n",
    "\n",
    "    rf_model: variable\n",
    "    modelo ajustado de Linear Discriminant Analysis\n",
    "\n",
    "    lda_model: variable\n",
    "    modelo ajustado de Random Forest Classifier\n",
    "\n",
    "    bernoulli_nb_model: variable\n",
    "    modelo ajustado de BernoulliNB (NaiveBayes)\n",
    "\n",
    "    lr_model: variable\n",
    "    modelo ajustado de Logistic Regression\n",
    "\n",
    "    Return\n",
    "        df_report\n",
    "    \"\"\"\n",
    "    model_names = [f'gb_model_v{iteracion}', f'dec_tree_model_v{iteracion}', f'rf_model_v{iteracion}', \n",
    "                    f'lda_model_v{iteracion}', f'bernoulli_nb_model_v{iteracion}', f'lr_model_v{iteracion}']\n",
    "\n",
    "    model_fits =   [gb_model, dec_tree_model, rf_model, lda_model, bernoulli_nb_model, lr_model]\n",
    "    classification_reports = []\n",
    "\n",
    "    for model in model_fits:\n",
    "        y_pred = model.predict(X_test_scaled)\n",
    "        report = classification_report(y_test, y_pred, output_dict=True)\n",
    "        classification_reports.append(pd.DataFrame(report).transpose())\n",
    "\n",
    "    df_report = (pd.concat((classification_reports), axis=1, keys=model_names)).round(2)\n",
    "    df_report = (df_report.drop('support', axis=1, level=1)).iloc[:3, :]\n",
    "\n",
    "    return df_report"
   ]
  },
  {
   "cell_type": "code",
   "execution_count": 95,
   "metadata": {},
   "outputs": [
    {
     "data": {
      "text/plain": [
       "'Primera iteración de modelos (Grilla tentativa):'"
      ]
     },
     "metadata": {},
     "output_type": "display_data"
    },
    {
     "data": {
      "text/html": [
       "<div>\n",
       "<style scoped>\n",
       "    .dataframe tbody tr th:only-of-type {\n",
       "        vertical-align: middle;\n",
       "    }\n",
       "\n",
       "    .dataframe tbody tr th {\n",
       "        vertical-align: top;\n",
       "    }\n",
       "\n",
       "    .dataframe thead tr th {\n",
       "        text-align: left;\n",
       "    }\n",
       "</style>\n",
       "<table border=\"1\" class=\"dataframe\">\n",
       "  <thead>\n",
       "    <tr>\n",
       "      <th></th>\n",
       "      <th colspan=\"3\" halign=\"left\">gb_model_v1</th>\n",
       "      <th colspan=\"3\" halign=\"left\">dec_tree_model_v1</th>\n",
       "      <th colspan=\"3\" halign=\"left\">rf_model_v1</th>\n",
       "      <th colspan=\"3\" halign=\"left\">lda_model_v1</th>\n",
       "      <th colspan=\"3\" halign=\"left\">bernoulli_nb_model_v1</th>\n",
       "      <th colspan=\"3\" halign=\"left\">lr_model_v1</th>\n",
       "    </tr>\n",
       "    <tr>\n",
       "      <th></th>\n",
       "      <th>precision</th>\n",
       "      <th>recall</th>\n",
       "      <th>f1-score</th>\n",
       "      <th>precision</th>\n",
       "      <th>recall</th>\n",
       "      <th>f1-score</th>\n",
       "      <th>precision</th>\n",
       "      <th>recall</th>\n",
       "      <th>f1-score</th>\n",
       "      <th>precision</th>\n",
       "      <th>recall</th>\n",
       "      <th>f1-score</th>\n",
       "      <th>precision</th>\n",
       "      <th>recall</th>\n",
       "      <th>f1-score</th>\n",
       "      <th>precision</th>\n",
       "      <th>recall</th>\n",
       "      <th>f1-score</th>\n",
       "    </tr>\n",
       "  </thead>\n",
       "  <tbody>\n",
       "    <tr>\n",
       "      <th>0</th>\n",
       "      <td>0.7</td>\n",
       "      <td>0.89</td>\n",
       "      <td>0.79</td>\n",
       "      <td>0.70</td>\n",
       "      <td>0.87</td>\n",
       "      <td>0.77</td>\n",
       "      <td>0.70</td>\n",
       "      <td>0.90</td>\n",
       "      <td>0.78</td>\n",
       "      <td>0.7</td>\n",
       "      <td>0.89</td>\n",
       "      <td>0.79</td>\n",
       "      <td>0.70</td>\n",
       "      <td>0.88</td>\n",
       "      <td>0.78</td>\n",
       "      <td>0.70</td>\n",
       "      <td>0.89</td>\n",
       "      <td>0.78</td>\n",
       "    </tr>\n",
       "    <tr>\n",
       "      <th>1</th>\n",
       "      <td>0.7</td>\n",
       "      <td>0.39</td>\n",
       "      <td>0.50</td>\n",
       "      <td>0.66</td>\n",
       "      <td>0.39</td>\n",
       "      <td>0.49</td>\n",
       "      <td>0.69</td>\n",
       "      <td>0.38</td>\n",
       "      <td>0.49</td>\n",
       "      <td>0.7</td>\n",
       "      <td>0.39</td>\n",
       "      <td>0.50</td>\n",
       "      <td>0.68</td>\n",
       "      <td>0.41</td>\n",
       "      <td>0.51</td>\n",
       "      <td>0.69</td>\n",
       "      <td>0.40</td>\n",
       "      <td>0.51</td>\n",
       "    </tr>\n",
       "    <tr>\n",
       "      <th>accuracy</th>\n",
       "      <td>0.7</td>\n",
       "      <td>0.70</td>\n",
       "      <td>0.70</td>\n",
       "      <td>0.69</td>\n",
       "      <td>0.69</td>\n",
       "      <td>0.69</td>\n",
       "      <td>0.70</td>\n",
       "      <td>0.70</td>\n",
       "      <td>0.70</td>\n",
       "      <td>0.7</td>\n",
       "      <td>0.70</td>\n",
       "      <td>0.70</td>\n",
       "      <td>0.70</td>\n",
       "      <td>0.70</td>\n",
       "      <td>0.70</td>\n",
       "      <td>0.70</td>\n",
       "      <td>0.70</td>\n",
       "      <td>0.70</td>\n",
       "    </tr>\n",
       "  </tbody>\n",
       "</table>\n",
       "</div>"
      ],
      "text/plain": [
       "         gb_model_v1                 dec_tree_model_v1                  \\\n",
       "           precision recall f1-score         precision recall f1-score   \n",
       "0                0.7   0.89     0.79              0.70   0.87     0.77   \n",
       "1                0.7   0.39     0.50              0.66   0.39     0.49   \n",
       "accuracy         0.7   0.70     0.70              0.69   0.69     0.69   \n",
       "\n",
       "         rf_model_v1                 lda_model_v1                  \\\n",
       "           precision recall f1-score    precision recall f1-score   \n",
       "0               0.70   0.90     0.78          0.7   0.89     0.79   \n",
       "1               0.69   0.38     0.49          0.7   0.39     0.50   \n",
       "accuracy        0.70   0.70     0.70          0.7   0.70     0.70   \n",
       "\n",
       "         bernoulli_nb_model_v1                 lr_model_v1                  \n",
       "                     precision recall f1-score   precision recall f1-score  \n",
       "0                         0.70   0.88     0.78        0.70   0.89     0.78  \n",
       "1                         0.68   0.41     0.51        0.69   0.40     0.51  \n",
       "accuracy                  0.70   0.70     0.70        0.70   0.70     0.70  "
      ]
     },
     "metadata": {},
     "output_type": "display_data"
    },
    {
     "data": {
      "text/plain": [
       "'Segunda iteración de modelos (Oversampling y grilla tentativa):'"
      ]
     },
     "metadata": {},
     "output_type": "display_data"
    },
    {
     "data": {
      "text/html": [
       "<div>\n",
       "<style scoped>\n",
       "    .dataframe tbody tr th:only-of-type {\n",
       "        vertical-align: middle;\n",
       "    }\n",
       "\n",
       "    .dataframe tbody tr th {\n",
       "        vertical-align: top;\n",
       "    }\n",
       "\n",
       "    .dataframe thead tr th {\n",
       "        text-align: left;\n",
       "    }\n",
       "</style>\n",
       "<table border=\"1\" class=\"dataframe\">\n",
       "  <thead>\n",
       "    <tr>\n",
       "      <th></th>\n",
       "      <th colspan=\"3\" halign=\"left\">gb_model_v2</th>\n",
       "      <th colspan=\"3\" halign=\"left\">dec_tree_model_v2</th>\n",
       "      <th colspan=\"3\" halign=\"left\">rf_model_v2</th>\n",
       "      <th colspan=\"3\" halign=\"left\">lda_model_v2</th>\n",
       "      <th colspan=\"3\" halign=\"left\">bernoulli_nb_model_v2</th>\n",
       "      <th colspan=\"3\" halign=\"left\">lr_model_v2</th>\n",
       "    </tr>\n",
       "    <tr>\n",
       "      <th></th>\n",
       "      <th>precision</th>\n",
       "      <th>recall</th>\n",
       "      <th>f1-score</th>\n",
       "      <th>precision</th>\n",
       "      <th>recall</th>\n",
       "      <th>f1-score</th>\n",
       "      <th>precision</th>\n",
       "      <th>recall</th>\n",
       "      <th>f1-score</th>\n",
       "      <th>precision</th>\n",
       "      <th>recall</th>\n",
       "      <th>f1-score</th>\n",
       "      <th>precision</th>\n",
       "      <th>recall</th>\n",
       "      <th>f1-score</th>\n",
       "      <th>precision</th>\n",
       "      <th>recall</th>\n",
       "      <th>f1-score</th>\n",
       "    </tr>\n",
       "  </thead>\n",
       "  <tbody>\n",
       "    <tr>\n",
       "      <th>0</th>\n",
       "      <td>0.71</td>\n",
       "      <td>0.85</td>\n",
       "      <td>0.78</td>\n",
       "      <td>0.71</td>\n",
       "      <td>0.79</td>\n",
       "      <td>0.75</td>\n",
       "      <td>0.70</td>\n",
       "      <td>0.78</td>\n",
       "      <td>0.74</td>\n",
       "      <td>0.72</td>\n",
       "      <td>0.80</td>\n",
       "      <td>0.76</td>\n",
       "      <td>0.72</td>\n",
       "      <td>0.79</td>\n",
       "      <td>0.76</td>\n",
       "      <td>0.73</td>\n",
       "      <td>0.78</td>\n",
       "      <td>0.75</td>\n",
       "    </tr>\n",
       "    <tr>\n",
       "      <th>1</th>\n",
       "      <td>0.66</td>\n",
       "      <td>0.45</td>\n",
       "      <td>0.54</td>\n",
       "      <td>0.59</td>\n",
       "      <td>0.48</td>\n",
       "      <td>0.53</td>\n",
       "      <td>0.58</td>\n",
       "      <td>0.48</td>\n",
       "      <td>0.52</td>\n",
       "      <td>0.62</td>\n",
       "      <td>0.51</td>\n",
       "      <td>0.56</td>\n",
       "      <td>0.61</td>\n",
       "      <td>0.52</td>\n",
       "      <td>0.56</td>\n",
       "      <td>0.60</td>\n",
       "      <td>0.53</td>\n",
       "      <td>0.57</td>\n",
       "    </tr>\n",
       "    <tr>\n",
       "      <th>accuracy</th>\n",
       "      <td>0.70</td>\n",
       "      <td>0.70</td>\n",
       "      <td>0.70</td>\n",
       "      <td>0.67</td>\n",
       "      <td>0.67</td>\n",
       "      <td>0.67</td>\n",
       "      <td>0.66</td>\n",
       "      <td>0.66</td>\n",
       "      <td>0.66</td>\n",
       "      <td>0.69</td>\n",
       "      <td>0.69</td>\n",
       "      <td>0.69</td>\n",
       "      <td>0.69</td>\n",
       "      <td>0.69</td>\n",
       "      <td>0.69</td>\n",
       "      <td>0.68</td>\n",
       "      <td>0.68</td>\n",
       "      <td>0.68</td>\n",
       "    </tr>\n",
       "  </tbody>\n",
       "</table>\n",
       "</div>"
      ],
      "text/plain": [
       "         gb_model_v2                 dec_tree_model_v2                  \\\n",
       "           precision recall f1-score         precision recall f1-score   \n",
       "0               0.71   0.85     0.78              0.71   0.79     0.75   \n",
       "1               0.66   0.45     0.54              0.59   0.48     0.53   \n",
       "accuracy        0.70   0.70     0.70              0.67   0.67     0.67   \n",
       "\n",
       "         rf_model_v2                 lda_model_v2                  \\\n",
       "           precision recall f1-score    precision recall f1-score   \n",
       "0               0.70   0.78     0.74         0.72   0.80     0.76   \n",
       "1               0.58   0.48     0.52         0.62   0.51     0.56   \n",
       "accuracy        0.66   0.66     0.66         0.69   0.69     0.69   \n",
       "\n",
       "         bernoulli_nb_model_v2                 lr_model_v2                  \n",
       "                     precision recall f1-score   precision recall f1-score  \n",
       "0                         0.72   0.79     0.76        0.73   0.78     0.75  \n",
       "1                         0.61   0.52     0.56        0.60   0.53     0.57  \n",
       "accuracy                  0.69   0.69     0.69        0.68   0.68     0.68  "
      ]
     },
     "metadata": {},
     "output_type": "display_data"
    },
    {
     "data": {
      "text/plain": [
       "'Tercera iteración de modelos (Oversampling y modificación de grilla):'"
      ]
     },
     "metadata": {},
     "output_type": "display_data"
    },
    {
     "data": {
      "text/html": [
       "<div>\n",
       "<style scoped>\n",
       "    .dataframe tbody tr th:only-of-type {\n",
       "        vertical-align: middle;\n",
       "    }\n",
       "\n",
       "    .dataframe tbody tr th {\n",
       "        vertical-align: top;\n",
       "    }\n",
       "\n",
       "    .dataframe thead tr th {\n",
       "        text-align: left;\n",
       "    }\n",
       "</style>\n",
       "<table border=\"1\" class=\"dataframe\">\n",
       "  <thead>\n",
       "    <tr>\n",
       "      <th></th>\n",
       "      <th colspan=\"3\" halign=\"left\">gb_model_v3</th>\n",
       "      <th colspan=\"3\" halign=\"left\">dec_tree_model_v3</th>\n",
       "      <th colspan=\"3\" halign=\"left\">rf_model_v3</th>\n",
       "      <th colspan=\"3\" halign=\"left\">lda_model_v3</th>\n",
       "      <th colspan=\"3\" halign=\"left\">bernoulli_nb_model_v3</th>\n",
       "      <th colspan=\"3\" halign=\"left\">lr_model_v3</th>\n",
       "    </tr>\n",
       "    <tr>\n",
       "      <th></th>\n",
       "      <th>precision</th>\n",
       "      <th>recall</th>\n",
       "      <th>f1-score</th>\n",
       "      <th>precision</th>\n",
       "      <th>recall</th>\n",
       "      <th>f1-score</th>\n",
       "      <th>precision</th>\n",
       "      <th>recall</th>\n",
       "      <th>f1-score</th>\n",
       "      <th>precision</th>\n",
       "      <th>recall</th>\n",
       "      <th>f1-score</th>\n",
       "      <th>precision</th>\n",
       "      <th>recall</th>\n",
       "      <th>f1-score</th>\n",
       "      <th>precision</th>\n",
       "      <th>recall</th>\n",
       "      <th>f1-score</th>\n",
       "    </tr>\n",
       "  </thead>\n",
       "  <tbody>\n",
       "    <tr>\n",
       "      <th>0</th>\n",
       "      <td>0.71</td>\n",
       "      <td>0.84</td>\n",
       "      <td>0.77</td>\n",
       "      <td>0.72</td>\n",
       "      <td>0.78</td>\n",
       "      <td>0.75</td>\n",
       "      <td>0.70</td>\n",
       "      <td>0.78</td>\n",
       "      <td>0.74</td>\n",
       "      <td>0.72</td>\n",
       "      <td>0.80</td>\n",
       "      <td>0.76</td>\n",
       "      <td>0.72</td>\n",
       "      <td>0.79</td>\n",
       "      <td>0.76</td>\n",
       "      <td>0.73</td>\n",
       "      <td>0.76</td>\n",
       "      <td>0.75</td>\n",
       "    </tr>\n",
       "    <tr>\n",
       "      <th>1</th>\n",
       "      <td>0.65</td>\n",
       "      <td>0.46</td>\n",
       "      <td>0.54</td>\n",
       "      <td>0.60</td>\n",
       "      <td>0.51</td>\n",
       "      <td>0.55</td>\n",
       "      <td>0.58</td>\n",
       "      <td>0.48</td>\n",
       "      <td>0.52</td>\n",
       "      <td>0.62</td>\n",
       "      <td>0.51</td>\n",
       "      <td>0.56</td>\n",
       "      <td>0.61</td>\n",
       "      <td>0.52</td>\n",
       "      <td>0.56</td>\n",
       "      <td>0.59</td>\n",
       "      <td>0.54</td>\n",
       "      <td>0.57</td>\n",
       "    </tr>\n",
       "    <tr>\n",
       "      <th>accuracy</th>\n",
       "      <td>0.70</td>\n",
       "      <td>0.70</td>\n",
       "      <td>0.70</td>\n",
       "      <td>0.68</td>\n",
       "      <td>0.68</td>\n",
       "      <td>0.68</td>\n",
       "      <td>0.66</td>\n",
       "      <td>0.66</td>\n",
       "      <td>0.66</td>\n",
       "      <td>0.69</td>\n",
       "      <td>0.69</td>\n",
       "      <td>0.69</td>\n",
       "      <td>0.69</td>\n",
       "      <td>0.69</td>\n",
       "      <td>0.69</td>\n",
       "      <td>0.68</td>\n",
       "      <td>0.68</td>\n",
       "      <td>0.68</td>\n",
       "    </tr>\n",
       "  </tbody>\n",
       "</table>\n",
       "</div>"
      ],
      "text/plain": [
       "         gb_model_v3                 dec_tree_model_v3                  \\\n",
       "           precision recall f1-score         precision recall f1-score   \n",
       "0               0.71   0.84     0.77              0.72   0.78     0.75   \n",
       "1               0.65   0.46     0.54              0.60   0.51     0.55   \n",
       "accuracy        0.70   0.70     0.70              0.68   0.68     0.68   \n",
       "\n",
       "         rf_model_v3                 lda_model_v3                  \\\n",
       "           precision recall f1-score    precision recall f1-score   \n",
       "0               0.70   0.78     0.74         0.72   0.80     0.76   \n",
       "1               0.58   0.48     0.52         0.62   0.51     0.56   \n",
       "accuracy        0.66   0.66     0.66         0.69   0.69     0.69   \n",
       "\n",
       "         bernoulli_nb_model_v3                 lr_model_v3                  \n",
       "                     precision recall f1-score   precision recall f1-score  \n",
       "0                         0.72   0.79     0.76        0.73   0.76     0.75  \n",
       "1                         0.61   0.52     0.56        0.59   0.54     0.57  \n",
       "accuracy                  0.69   0.69     0.69        0.68   0.68     0.68  "
      ]
     },
     "metadata": {},
     "output_type": "display_data"
    }
   ],
   "source": [
    "display('Primera iteración de modelos (Grilla tentativa):',\n",
    "        model_report(1, gb_model_v1, dec_tree_model_v1, rf_model_v1, lda_model_v1, bernoulli_nb_model_v1, lr_model_v1),\n",
    "        'Segunda iteración de modelos (Oversampling y grilla tentativa):',\n",
    "        model_report(2, gb_model_v2, dec_tree_model_v2, rf_model_v2, lda_model_v2, bernoulli_nb_model_v2, lr_model_v2),\n",
    "        'Tercera iteración de modelos (Oversampling y modificación de grilla):',\n",
    "        model_report(3, gb_model_v3, dec_tree_model_v3, rf_model_v3, lda_model_v3, bernoulli_nb_model_v3, lr_model_v3))"
   ]
  },
  {
   "attachments": {},
   "cell_type": "markdown",
   "metadata": {},
   "source": [
    "#### <span style=\"color:#87CEEB\"> Reportar cuáles son los dos mejores modelos en su desempeño"
   ]
  },
  {
   "attachments": {},
   "cell_type": "markdown",
   "metadata": {},
   "source": [
    "    Como criterio de elección de los dos modelos que presentaron el mejor desempeño, se tomará en consideración la métrica de recall obtenida debido a que esta fue la que menos porcentaje presentó en todas las iteraciones, el valor de f1_score y el tiempo obtenido de procesamiento de los modelos para el conjunto de datos en estudio.\n",
    " \n",
    "    En este proyecto, los modelos de gradient boosting y random forest fueron los que tuvieron el mayor consumo de tiempo de procesamiento. A pesar de esto, los resultados obtenidos no fueron sobresalientes respecto al recall en ninguna de las iteraciones. En todas se obtuvieron valores bajo 0.5 para la clase 1 (sentimiento positivo). Con eso dicho, se descartan estos modelos.\n",
    "\n",
    "    La métrica accuracy en este caso no tiene relevancia como factor para realizar la elección de los mejores modelos, debido a que los puntajes varían entre 0.66 y 0.7, aún cuando se observa que la métrica recall tiene un desempeño pobre, por lo que esta métrica no se consideró para la elección de los mejores modelos.\n",
    "\n",
    "    Al evaluar los demás resultados, se observa que los modelos implementados con DecTree, LDA, BernoulliNB y LogisticRegression en su iteración 2 y 3 repiten casi en su totalidad las métricas obtenidas para las clases 0 y 1. \n",
    "    De estos, el modelo logístico obtuvo el mejor recall para la clase 1 con 0.54, le sigue el modelo de NaiveBayes(Bernoulli) con 0.52 y finalmente los modelos DecTree y LDA, ambos con 0.51.\n",
    "    Al evaluar los puntajes f1, el mejor corresponde al modelo logistico en su iteración 3 presentando una diferencia entre clases de 18%,. Este será el primer modelo seleccionado.\n",
    "\n",
    "    De los modelos restantes, al tener los mismos resultados obtenidos en las iteraciones 2 y 3 se elige al segundo modelo mejor en general, en términos de recall para la clase 1. Este es el implementado con BernoulliNB.\n",
    "    Ahora bien, para seleccionar la mejor iteración se evalúan las matrices de confusión de ambos modelos. Estas matrices se mostraron en las secciones de reporte de métricas cuando se entrenaron los modelos.\n",
    "    Las matrices obtenidas muestran que el cuadrante correspondiente a 'verdaderos positivos' para la iteración 2 supera en 5 unidades a la iteración 3. Por ende, el segundo modelo seleccionado es el implementado con BernoulliNB en su segunda iteración al tener mayores clasificaciones correctas en su diagonal principal.\n",
    "\n",
    "    En resumen, considero que los dos mejores modelos son los implementados con LogisticRegression en su iteración 3 y BernoulliNB en su iteración 2 de acuerdo a lo explicado anteriormente.\n",
    "    Cabe señalar, que la elección realizada no implica que los demás modelos sean malos, ya que en general se obtuvieron métricas similares en la mayoría, lo que demuestra que para este grupo de datos, los modelos implementados se desempeñan de manera semejante.\n",
    "\n",
    "    Como observación final respecto a lo experimentado, lo más efectivo fue realizar oversampling (balance de clases) igualando la cantidad de observaciones de la clase minoritaria con la mayoritaria. Con esto se observó el mayor incremento de desempeño en los modelos implementados. Por otro lado, al tratar de refinar la grilla de parámetros el incremento de desempeño fue poco significativo.\n",
    "    Es posible que la elección de los hiperparámetros no haya sido la idónea para la tercera iteración y que debido a eso la mejora en desempeño fuera casi nula."
   ]
  },
  {
   "cell_type": "code",
   "execution_count": 96,
   "metadata": {},
   "outputs": [
    {
     "data": {
      "image/png": "[encoded data removed]",
      "text/plain": [
       "<Figure size 1500x400 with 4 Axes>"
      ]
     },
     "metadata": {},
     "output_type": "display_data"
    }
   ],
   "source": [
    "def plot_classification_report(y_true, y_pred, model, axs=None):\n",
    "    cl_report = classification_report(y_true=y_true, y_pred=y_pred, output_dict=True)\n",
    "    metricas = ['precision', 'recall', 'f1-score']\n",
    "    clases = list(cl_report.keys())[0:-3]\n",
    "    datos = []\n",
    "\n",
    "    for clase in clases:\n",
    "        row = []\n",
    "        for metrica in metricas:\n",
    "            row.append(cl_report[clase][metrica])\n",
    "        datos.append(row)\n",
    "\n",
    "    datos = np.array(datos)\n",
    "    cmap = plt.get_cmap(\"YlGnBu\")\n",
    "    if not axs:\n",
    "        fig, axs = plt.subplots(ncols=1, figsize=(7, 4))\n",
    "    sns.set_style(\"whitegrid\")\n",
    "    axs = sns.heatmap(datos[:,0:3], annot=True, cmap=cmap, xticklabels=['Precision', 'Recall', 'F1-score'], yticklabels=clases, cbar=True, ax=axs)\n",
    "    axs.set_title(f'Métricas {model}')\n",
    "    axs.set_xlabel('Métricas')\n",
    "    axs.set_ylabel('Clase')\n",
    "    return axs\n",
    "\n",
    "fig, axs = plt.subplots(ncols=2, figsize=(15, 4))\n",
    "plot_classification_report(y_true=y_test, y_pred=lr_yhat_test_v3, model='lr_model_v3', axs=axs[0])\n",
    "plot_classification_report(y_true=y_test, y_pred=bernoulli_nb_yhat_test_v2, model='bernoulli_nb_model_v2', axs=axs[1])\n",
    "plt.show()"
   ]
  },
  {
   "attachments": {},
   "cell_type": "markdown",
   "metadata": {},
   "source": [
    "#### <span style=\"color:#87CEEB\"> Archivo serializado"
   ]
  },
  {
   "cell_type": "code",
   "execution_count": 97,
   "metadata": {},
   "outputs": [],
   "source": [
    "# import pickle\n",
    "pickle.dump((# top 2, modelos ajustados\n",
    "            lr_model_v3,\n",
    "            bernoulli_nb_model_v2),\n",
    "            open('modelos_hito_3_rodrigo_sepulveda_prueba_1.sav', 'wb'))"
   ]
  },
  {
   "attachments": {},
   "cell_type": "markdown",
   "metadata": {},
   "source": [
    "```python\n",
    "# Lectura archivo .sav\n",
    "read_top_2_models = pickle.load(open(\"modelos_hito_3_rodrigo_sepulveda_prueba_1.sav\",\"rb\"))\n",
    "\n",
    "# Guardar datos en variables correspondientes\n",
    "modelo_1, modelo_2 = read_top_2_models\n",
    "```"
   ]
  }
 ],
 "metadata": {
  "kernelspec": {
   "display_name": "base",
   "language": "python",
   "name": "python3"
  },
  "language_info": {
   "codemirror_mode": {
    "name": "ipython",
    "version": 3
   },
   "file_extension": ".py",
   "mimetype": "text/x-python",
   "name": "python",
   "nbconvert_exporter": "python",
   "pygments_lexer": "ipython3",
   "version": "3.9.16"
  },
  "orig_nbformat": 4
 },
 "nbformat": 4,
 "nbformat_minor": 2
}
